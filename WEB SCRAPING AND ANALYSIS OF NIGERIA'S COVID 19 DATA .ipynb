{
 "cells": [
  {
   "cell_type": "markdown",
   "metadata": {},
   "source": [
    "## WEB SCRAPING AND ANALYSIS OF NIGERIA'S COVID 19 DATA \n",
    "Author: Samuel Taiwo\n",
    "\n",
    "Date: 06-07-2021"
   ]
  },
  {
   "cell_type": "code",
   "execution_count": 3,
   "metadata": {},
   "outputs": [],
   "source": [
    "#Import all necessary libraries\n",
    "import urllib.request\n",
    "from bs4 import BeautifulSoup\n",
    "import pandas as pd\n",
    "import numpy as np\n",
    "import seaborn as sns\n",
    "import plotly.express as px\n",
    "import matplotlib.pyplot as plt\n",
    "%matplotlib inline"
   ]
  },
  {
   "cell_type": "code",
   "execution_count": 4,
   "metadata": {},
   "outputs": [],
   "source": [
    "#Request for the url\n",
    "url = \"https://covid19.ncdc.gov.ng/\"\n",
    "res = urllib.request.urlopen(url)"
   ]
  },
  {
   "cell_type": "code",
   "execution_count": 5,
   "metadata": {},
   "outputs": [],
   "source": [
    "#read the data from url as a string\n",
    "html = res.read()"
   ]
  },
  {
   "cell_type": "code",
   "execution_count": 6,
   "metadata": {},
   "outputs": [],
   "source": [
    "#parse with the beautiful soup library\n",
    "bs = BeautifulSoup(html,\"html.parser\")"
   ]
  },
  {
   "cell_type": "code",
   "execution_count": 7,
   "metadata": {},
   "outputs": [],
   "source": [
    "#find all tables\n",
    "tables = bs.find_all(\"table\")"
   ]
  },
  {
   "cell_type": "code",
   "execution_count": 8,
   "metadata": {
    "scrolled": true
   },
   "outputs": [
    {
     "data": {
      "text/plain": [
       "[<table id=\"custom1\">\n",
       " <thead>\n",
       " <tr>\n",
       " <th>States Affected</th>\n",
       " <th>No. of Cases (Lab Confirmed)</th>\n",
       " <th>No. of Cases (on admission)</th>\n",
       " <th>No. Discharged</th>\n",
       " <th>No. of Deaths</th>\n",
       " </tr>\n",
       " </thead>\n",
       " <tbody>\n",
       " <tr>\n",
       " <td>\n",
       "                                                 Lagos\n",
       "                                             </td>\n",
       " <td>59,833\n",
       "                                             </td>\n",
       " <td>862\n",
       "                                             </td>\n",
       " <td>58,515\n",
       "                                             </td>\n",
       " <td>456\n",
       "                                             </td>\n",
       " </tr>\n",
       " <tr>\n",
       " <td>\n",
       "                                                 FCT\n",
       "                                             </td>\n",
       " <td>19,902\n",
       "                                             </td>\n",
       " <td>183\n",
       "                                             </td>\n",
       " <td>19,552\n",
       "                                             </td>\n",
       " <td>167\n",
       "                                             </td>\n",
       " </tr>\n",
       " <tr>\n",
       " <td>\n",
       "                                                 Kaduna\n",
       "                                             </td>\n",
       " <td>9,123\n",
       "                                             </td>\n",
       " <td>18\n",
       "                                             </td>\n",
       " <td>9,040\n",
       "                                             </td>\n",
       " <td>65\n",
       "                                             </td>\n",
       " </tr>\n",
       " <tr>\n",
       " <td>\n",
       "                                                 Plateau\n",
       "                                             </td>\n",
       " <td>9,067\n",
       "                                             </td>\n",
       " <td>4\n",
       "                                             </td>\n",
       " <td>9,006\n",
       "                                             </td>\n",
       " <td>57\n",
       "                                             </td>\n",
       " </tr>\n",
       " <tr>\n",
       " <td>\n",
       "                                                 Rivers\n",
       "                                             </td>\n",
       " <td>7,335\n",
       "                                             </td>\n",
       " <td>26\n",
       "                                             </td>\n",
       " <td>7,208\n",
       "                                             </td>\n",
       " <td>101\n",
       "                                             </td>\n",
       " </tr>\n",
       " <tr>\n",
       " <td>\n",
       "                                                 Oyo\n",
       "                                             </td>\n",
       " <td>6,872\n",
       "                                             </td>\n",
       " <td>12\n",
       "                                             </td>\n",
       " <td>6,734\n",
       "                                             </td>\n",
       " <td>126\n",
       "                                             </td>\n",
       " </tr>\n",
       " <tr>\n",
       " <td>\n",
       "                                                 Edo\n",
       "                                             </td>\n",
       " <td>4,910\n",
       "                                             </td>\n",
       " <td>0\n",
       "                                             </td>\n",
       " <td>4,725\n",
       "                                             </td>\n",
       " <td>185\n",
       "                                             </td>\n",
       " </tr>\n",
       " <tr>\n",
       " <td>\n",
       "                                                 Ogun\n",
       "                                             </td>\n",
       " <td>4,694\n",
       "                                             </td>\n",
       " <td>10\n",
       "                                             </td>\n",
       " <td>4,633\n",
       "                                             </td>\n",
       " <td>51\n",
       "                                             </td>\n",
       " </tr>\n",
       " <tr>\n",
       " <td>\n",
       "                                                 Kano\n",
       "                                             </td>\n",
       " <td>4,005\n",
       "                                             </td>\n",
       " <td>6\n",
       "                                             </td>\n",
       " <td>3,889\n",
       "                                             </td>\n",
       " <td>110\n",
       "                                             </td>\n",
       " </tr>\n",
       " <tr>\n",
       " <td>\n",
       "                                                 Ondo\n",
       "                                             </td>\n",
       " <td>3,483\n",
       "                                             </td>\n",
       " <td>27\n",
       "                                             </td>\n",
       " <td>3,391\n",
       "                                             </td>\n",
       " <td>65\n",
       "                                             </td>\n",
       " </tr>\n",
       " <tr>\n",
       " <td>\n",
       "                                                 Kwara\n",
       "                                             </td>\n",
       " <td>3,144\n",
       "                                             </td>\n",
       " <td>21\n",
       "                                             </td>\n",
       " <td>3,068\n",
       "                                             </td>\n",
       " <td>55\n",
       "                                             </td>\n",
       " </tr>\n",
       " <tr>\n",
       " <td>\n",
       "                                                 Delta\n",
       "                                             </td>\n",
       " <td>2,650\n",
       "                                             </td>\n",
       " <td>22\n",
       "                                             </td>\n",
       " <td>2,556\n",
       "                                             </td>\n",
       " <td>72\n",
       "                                             </td>\n",
       " </tr>\n",
       " <tr>\n",
       " <td>\n",
       "                                                 Osun\n",
       "                                             </td>\n",
       " <td>2,578\n",
       "                                             </td>\n",
       " <td>6\n",
       "                                             </td>\n",
       " <td>2,520\n",
       "                                             </td>\n",
       " <td>52\n",
       "                                             </td>\n",
       " </tr>\n",
       " <tr>\n",
       " <td>\n",
       "                                                 Enugu\n",
       "                                             </td>\n",
       " <td>2,464\n",
       "                                             </td>\n",
       " <td>0\n",
       "                                             </td>\n",
       " <td>2,435\n",
       "                                             </td>\n",
       " <td>29\n",
       "                                             </td>\n",
       " </tr>\n",
       " <tr>\n",
       " <td>\n",
       "                                                 Nasarawa\n",
       "                                             </td>\n",
       " <td>2,384\n",
       "                                             </td>\n",
       " <td>0\n",
       "                                             </td>\n",
       " <td>2,345\n",
       "                                             </td>\n",
       " <td>39\n",
       "                                             </td>\n",
       " </tr>\n",
       " <tr>\n",
       " <td>\n",
       "                                                 Katsina\n",
       "                                             </td>\n",
       " <td>2,110\n",
       "                                             </td>\n",
       " <td>21\n",
       "                                             </td>\n",
       " <td>2,055\n",
       "                                             </td>\n",
       " <td>34\n",
       "                                             </td>\n",
       " </tr>\n",
       " <tr>\n",
       " <td>\n",
       "                                                 Gombe\n",
       "                                             </td>\n",
       " <td>2,098\n",
       "                                             </td>\n",
       " <td>18\n",
       "                                             </td>\n",
       " <td>2,036\n",
       "                                             </td>\n",
       " <td>44\n",
       "                                             </td>\n",
       " </tr>\n",
       " <tr>\n",
       " <td>\n",
       "                                                 Ebonyi\n",
       "                                             </td>\n",
       " <td>2,039\n",
       "                                             </td>\n",
       " <td>5\n",
       "                                             </td>\n",
       " <td>2,002\n",
       "                                             </td>\n",
       " <td>32\n",
       "                                             </td>\n",
       " </tr>\n",
       " <tr>\n",
       " <td>\n",
       "                                                 Akwa Ibom\n",
       "                                             </td>\n",
       " <td>1,931\n",
       "                                             </td>\n",
       " <td>1\n",
       "                                             </td>\n",
       " <td>1,912\n",
       "                                             </td>\n",
       " <td>18\n",
       "                                             </td>\n",
       " </tr>\n",
       " <tr>\n",
       " <td>\n",
       "                                                 Anambra\n",
       "                                             </td>\n",
       " <td>1,909\n",
       "                                             </td>\n",
       " <td>64\n",
       "                                             </td>\n",
       " <td>1,826\n",
       "                                             </td>\n",
       " <td>19\n",
       "                                             </td>\n",
       " </tr>\n",
       " <tr>\n",
       " <td>\n",
       "                                                 Abia\n",
       "                                             </td>\n",
       " <td>1,693\n",
       "                                             </td>\n",
       " <td>-2\n",
       "                                             </td>\n",
       " <td>1,673\n",
       "                                             </td>\n",
       " <td>22\n",
       "                                             </td>\n",
       " </tr>\n",
       " <tr>\n",
       " <td>\n",
       "                                                 Imo\n",
       "                                             </td>\n",
       " <td>1,661\n",
       "                                             </td>\n",
       " <td>0\n",
       "                                             </td>\n",
       " <td>1,624\n",
       "                                             </td>\n",
       " <td>37\n",
       "                                             </td>\n",
       " </tr>\n",
       " <tr>\n",
       " <td>\n",
       "                                                 Bauchi\n",
       "                                             </td>\n",
       " <td>1,549\n",
       "                                             </td>\n",
       " <td>0\n",
       "                                             </td>\n",
       " <td>1,532\n",
       "                                             </td>\n",
       " <td>17\n",
       "                                             </td>\n",
       " </tr>\n",
       " <tr>\n",
       " <td>\n",
       "                                                 Benue\n",
       "                                             </td>\n",
       " <td>1,366\n",
       "                                             </td>\n",
       " <td>15\n",
       "                                             </td>\n",
       " <td>1,327\n",
       "                                             </td>\n",
       " <td>24\n",
       "                                             </td>\n",
       " </tr>\n",
       " <tr>\n",
       " <td>\n",
       "                                                 Borno\n",
       "                                             </td>\n",
       " <td>1,344\n",
       "                                             </td>\n",
       " <td>1\n",
       "                                             </td>\n",
       " <td>1,305\n",
       "                                             </td>\n",
       " <td>38\n",
       "                                             </td>\n",
       " </tr>\n",
       " <tr>\n",
       " <td>\n",
       "                                                 Adamawa\n",
       "                                             </td>\n",
       " <td>1,134\n",
       "                                             </td>\n",
       " <td>4\n",
       "                                             </td>\n",
       " <td>1,098\n",
       "                                             </td>\n",
       " <td>32\n",
       "                                             </td>\n",
       " </tr>\n",
       " <tr>\n",
       " <td>\n",
       "                                                 Taraba\n",
       "                                             </td>\n",
       " <td>1,001\n",
       "                                             </td>\n",
       " <td>0\n",
       "                                             </td>\n",
       " <td>977\n",
       "                                             </td>\n",
       " <td>24\n",
       "                                             </td>\n",
       " </tr>\n",
       " <tr>\n",
       " <td>\n",
       "                                                 Niger\n",
       "                                             </td>\n",
       " <td>935\n",
       "                                             </td>\n",
       " <td>5\n",
       "                                             </td>\n",
       " <td>913\n",
       "                                             </td>\n",
       " <td>17\n",
       "                                             </td>\n",
       " </tr>\n",
       " <tr>\n",
       " <td>\n",
       "                                                 Bayelsa\n",
       "                                             </td>\n",
       " <td>906\n",
       "                                             </td>\n",
       " <td>1\n",
       "                                             </td>\n",
       " <td>879\n",
       "                                             </td>\n",
       " <td>26\n",
       "                                             </td>\n",
       " </tr>\n",
       " <tr>\n",
       " <td>\n",
       "                                                 Ekiti\n",
       "                                             </td>\n",
       " <td>880\n",
       "                                             </td>\n",
       " <td>6\n",
       "                                             </td>\n",
       " <td>863\n",
       "                                             </td>\n",
       " <td>11\n",
       "                                             </td>\n",
       " </tr>\n",
       " <tr>\n",
       " <td>\n",
       "                                                 Sokoto\n",
       "                                             </td>\n",
       " <td>775\n",
       "                                             </td>\n",
       " <td>0\n",
       "                                             </td>\n",
       " <td>747\n",
       "                                             </td>\n",
       " <td>28\n",
       "                                             </td>\n",
       " </tr>\n",
       " <tr>\n",
       " <td>\n",
       "                                                 Jigawa\n",
       "                                             </td>\n",
       " <td>534\n",
       "                                             </td>\n",
       " <td>6\n",
       "                                             </td>\n",
       " <td>512\n",
       "                                             </td>\n",
       " <td>16\n",
       "                                             </td>\n",
       " </tr>\n",
       " <tr>\n",
       " <td>\n",
       "                                                 Yobe\n",
       "                                             </td>\n",
       " <td>499\n",
       "                                             </td>\n",
       " <td>0\n",
       "                                             </td>\n",
       " <td>490\n",
       "                                             </td>\n",
       " <td>9\n",
       "                                             </td>\n",
       " </tr>\n",
       " <tr>\n",
       " <td>\n",
       "                                                 Kebbi\n",
       "                                             </td>\n",
       " <td>450\n",
       "                                             </td>\n",
       " <td>42\n",
       "                                             </td>\n",
       " <td>392\n",
       "                                             </td>\n",
       " <td>16\n",
       "                                             </td>\n",
       " </tr>\n",
       " <tr>\n",
       " <td>\n",
       "                                                 Cross River\n",
       "                                             </td>\n",
       " <td>402\n",
       "                                             </td>\n",
       " <td>0\n",
       "                                             </td>\n",
       " <td>384\n",
       "                                             </td>\n",
       " <td>18\n",
       "                                             </td>\n",
       " </tr>\n",
       " <tr>\n",
       " <td>\n",
       "                                                 Zamfara\n",
       "                                             </td>\n",
       " <td>244\n",
       "                                             </td>\n",
       " <td>3\n",
       "                                             </td>\n",
       " <td>233\n",
       "                                             </td>\n",
       " <td>8\n",
       "                                             </td>\n",
       " </tr>\n",
       " <tr>\n",
       " <td>\n",
       "                                                 Kogi\n",
       "                                             </td>\n",
       " <td>5\n",
       "                                             </td>\n",
       " <td>0\n",
       "                                             </td>\n",
       " <td>3\n",
       "                                             </td>\n",
       " <td>2\n",
       "                                             </td>\n",
       " </tr>\n",
       " </tbody>\n",
       " </table>]"
      ]
     },
     "execution_count": 8,
     "metadata": {},
     "output_type": "execute_result"
    }
   ],
   "source": [
    "#Print out all the tables found in the URL in HTML format.\n",
    "tables\n"
   ]
  },
  {
   "cell_type": "code",
   "execution_count": 9,
   "metadata": {},
   "outputs": [
    {
     "data": {
      "text/plain": [
       "<table id=\"custom1\">\n",
       "<thead>\n",
       "<tr>\n",
       "<th>States Affected</th>\n",
       "<th>No. of Cases (Lab Confirmed)</th>\n",
       "<th>No. of Cases (on admission)</th>\n",
       "<th>No. Discharged</th>\n",
       "<th>No. of Deaths</th>\n",
       "</tr>\n",
       "</thead>\n",
       "<tbody>\n",
       "<tr>\n",
       "<td>\n",
       "                                                Lagos\n",
       "                                            </td>\n",
       "<td>59,833\n",
       "                                            </td>\n",
       "<td>862\n",
       "                                            </td>\n",
       "<td>58,515\n",
       "                                            </td>\n",
       "<td>456\n",
       "                                            </td>\n",
       "</tr>\n",
       "<tr>\n",
       "<td>\n",
       "                                                FCT\n",
       "                                            </td>\n",
       "<td>19,902\n",
       "                                            </td>\n",
       "<td>183\n",
       "                                            </td>\n",
       "<td>19,552\n",
       "                                            </td>\n",
       "<td>167\n",
       "                                            </td>\n",
       "</tr>\n",
       "<tr>\n",
       "<td>\n",
       "                                                Kaduna\n",
       "                                            </td>\n",
       "<td>9,123\n",
       "                                            </td>\n",
       "<td>18\n",
       "                                            </td>\n",
       "<td>9,040\n",
       "                                            </td>\n",
       "<td>65\n",
       "                                            </td>\n",
       "</tr>\n",
       "<tr>\n",
       "<td>\n",
       "                                                Plateau\n",
       "                                            </td>\n",
       "<td>9,067\n",
       "                                            </td>\n",
       "<td>4\n",
       "                                            </td>\n",
       "<td>9,006\n",
       "                                            </td>\n",
       "<td>57\n",
       "                                            </td>\n",
       "</tr>\n",
       "<tr>\n",
       "<td>\n",
       "                                                Rivers\n",
       "                                            </td>\n",
       "<td>7,335\n",
       "                                            </td>\n",
       "<td>26\n",
       "                                            </td>\n",
       "<td>7,208\n",
       "                                            </td>\n",
       "<td>101\n",
       "                                            </td>\n",
       "</tr>\n",
       "<tr>\n",
       "<td>\n",
       "                                                Oyo\n",
       "                                            </td>\n",
       "<td>6,872\n",
       "                                            </td>\n",
       "<td>12\n",
       "                                            </td>\n",
       "<td>6,734\n",
       "                                            </td>\n",
       "<td>126\n",
       "                                            </td>\n",
       "</tr>\n",
       "<tr>\n",
       "<td>\n",
       "                                                Edo\n",
       "                                            </td>\n",
       "<td>4,910\n",
       "                                            </td>\n",
       "<td>0\n",
       "                                            </td>\n",
       "<td>4,725\n",
       "                                            </td>\n",
       "<td>185\n",
       "                                            </td>\n",
       "</tr>\n",
       "<tr>\n",
       "<td>\n",
       "                                                Ogun\n",
       "                                            </td>\n",
       "<td>4,694\n",
       "                                            </td>\n",
       "<td>10\n",
       "                                            </td>\n",
       "<td>4,633\n",
       "                                            </td>\n",
       "<td>51\n",
       "                                            </td>\n",
       "</tr>\n",
       "<tr>\n",
       "<td>\n",
       "                                                Kano\n",
       "                                            </td>\n",
       "<td>4,005\n",
       "                                            </td>\n",
       "<td>6\n",
       "                                            </td>\n",
       "<td>3,889\n",
       "                                            </td>\n",
       "<td>110\n",
       "                                            </td>\n",
       "</tr>\n",
       "<tr>\n",
       "<td>\n",
       "                                                Ondo\n",
       "                                            </td>\n",
       "<td>3,483\n",
       "                                            </td>\n",
       "<td>27\n",
       "                                            </td>\n",
       "<td>3,391\n",
       "                                            </td>\n",
       "<td>65\n",
       "                                            </td>\n",
       "</tr>\n",
       "<tr>\n",
       "<td>\n",
       "                                                Kwara\n",
       "                                            </td>\n",
       "<td>3,144\n",
       "                                            </td>\n",
       "<td>21\n",
       "                                            </td>\n",
       "<td>3,068\n",
       "                                            </td>\n",
       "<td>55\n",
       "                                            </td>\n",
       "</tr>\n",
       "<tr>\n",
       "<td>\n",
       "                                                Delta\n",
       "                                            </td>\n",
       "<td>2,650\n",
       "                                            </td>\n",
       "<td>22\n",
       "                                            </td>\n",
       "<td>2,556\n",
       "                                            </td>\n",
       "<td>72\n",
       "                                            </td>\n",
       "</tr>\n",
       "<tr>\n",
       "<td>\n",
       "                                                Osun\n",
       "                                            </td>\n",
       "<td>2,578\n",
       "                                            </td>\n",
       "<td>6\n",
       "                                            </td>\n",
       "<td>2,520\n",
       "                                            </td>\n",
       "<td>52\n",
       "                                            </td>\n",
       "</tr>\n",
       "<tr>\n",
       "<td>\n",
       "                                                Enugu\n",
       "                                            </td>\n",
       "<td>2,464\n",
       "                                            </td>\n",
       "<td>0\n",
       "                                            </td>\n",
       "<td>2,435\n",
       "                                            </td>\n",
       "<td>29\n",
       "                                            </td>\n",
       "</tr>\n",
       "<tr>\n",
       "<td>\n",
       "                                                Nasarawa\n",
       "                                            </td>\n",
       "<td>2,384\n",
       "                                            </td>\n",
       "<td>0\n",
       "                                            </td>\n",
       "<td>2,345\n",
       "                                            </td>\n",
       "<td>39\n",
       "                                            </td>\n",
       "</tr>\n",
       "<tr>\n",
       "<td>\n",
       "                                                Katsina\n",
       "                                            </td>\n",
       "<td>2,110\n",
       "                                            </td>\n",
       "<td>21\n",
       "                                            </td>\n",
       "<td>2,055\n",
       "                                            </td>\n",
       "<td>34\n",
       "                                            </td>\n",
       "</tr>\n",
       "<tr>\n",
       "<td>\n",
       "                                                Gombe\n",
       "                                            </td>\n",
       "<td>2,098\n",
       "                                            </td>\n",
       "<td>18\n",
       "                                            </td>\n",
       "<td>2,036\n",
       "                                            </td>\n",
       "<td>44\n",
       "                                            </td>\n",
       "</tr>\n",
       "<tr>\n",
       "<td>\n",
       "                                                Ebonyi\n",
       "                                            </td>\n",
       "<td>2,039\n",
       "                                            </td>\n",
       "<td>5\n",
       "                                            </td>\n",
       "<td>2,002\n",
       "                                            </td>\n",
       "<td>32\n",
       "                                            </td>\n",
       "</tr>\n",
       "<tr>\n",
       "<td>\n",
       "                                                Akwa Ibom\n",
       "                                            </td>\n",
       "<td>1,931\n",
       "                                            </td>\n",
       "<td>1\n",
       "                                            </td>\n",
       "<td>1,912\n",
       "                                            </td>\n",
       "<td>18\n",
       "                                            </td>\n",
       "</tr>\n",
       "<tr>\n",
       "<td>\n",
       "                                                Anambra\n",
       "                                            </td>\n",
       "<td>1,909\n",
       "                                            </td>\n",
       "<td>64\n",
       "                                            </td>\n",
       "<td>1,826\n",
       "                                            </td>\n",
       "<td>19\n",
       "                                            </td>\n",
       "</tr>\n",
       "<tr>\n",
       "<td>\n",
       "                                                Abia\n",
       "                                            </td>\n",
       "<td>1,693\n",
       "                                            </td>\n",
       "<td>-2\n",
       "                                            </td>\n",
       "<td>1,673\n",
       "                                            </td>\n",
       "<td>22\n",
       "                                            </td>\n",
       "</tr>\n",
       "<tr>\n",
       "<td>\n",
       "                                                Imo\n",
       "                                            </td>\n",
       "<td>1,661\n",
       "                                            </td>\n",
       "<td>0\n",
       "                                            </td>\n",
       "<td>1,624\n",
       "                                            </td>\n",
       "<td>37\n",
       "                                            </td>\n",
       "</tr>\n",
       "<tr>\n",
       "<td>\n",
       "                                                Bauchi\n",
       "                                            </td>\n",
       "<td>1,549\n",
       "                                            </td>\n",
       "<td>0\n",
       "                                            </td>\n",
       "<td>1,532\n",
       "                                            </td>\n",
       "<td>17\n",
       "                                            </td>\n",
       "</tr>\n",
       "<tr>\n",
       "<td>\n",
       "                                                Benue\n",
       "                                            </td>\n",
       "<td>1,366\n",
       "                                            </td>\n",
       "<td>15\n",
       "                                            </td>\n",
       "<td>1,327\n",
       "                                            </td>\n",
       "<td>24\n",
       "                                            </td>\n",
       "</tr>\n",
       "<tr>\n",
       "<td>\n",
       "                                                Borno\n",
       "                                            </td>\n",
       "<td>1,344\n",
       "                                            </td>\n",
       "<td>1\n",
       "                                            </td>\n",
       "<td>1,305\n",
       "                                            </td>\n",
       "<td>38\n",
       "                                            </td>\n",
       "</tr>\n",
       "<tr>\n",
       "<td>\n",
       "                                                Adamawa\n",
       "                                            </td>\n",
       "<td>1,134\n",
       "                                            </td>\n",
       "<td>4\n",
       "                                            </td>\n",
       "<td>1,098\n",
       "                                            </td>\n",
       "<td>32\n",
       "                                            </td>\n",
       "</tr>\n",
       "<tr>\n",
       "<td>\n",
       "                                                Taraba\n",
       "                                            </td>\n",
       "<td>1,001\n",
       "                                            </td>\n",
       "<td>0\n",
       "                                            </td>\n",
       "<td>977\n",
       "                                            </td>\n",
       "<td>24\n",
       "                                            </td>\n",
       "</tr>\n",
       "<tr>\n",
       "<td>\n",
       "                                                Niger\n",
       "                                            </td>\n",
       "<td>935\n",
       "                                            </td>\n",
       "<td>5\n",
       "                                            </td>\n",
       "<td>913\n",
       "                                            </td>\n",
       "<td>17\n",
       "                                            </td>\n",
       "</tr>\n",
       "<tr>\n",
       "<td>\n",
       "                                                Bayelsa\n",
       "                                            </td>\n",
       "<td>906\n",
       "                                            </td>\n",
       "<td>1\n",
       "                                            </td>\n",
       "<td>879\n",
       "                                            </td>\n",
       "<td>26\n",
       "                                            </td>\n",
       "</tr>\n",
       "<tr>\n",
       "<td>\n",
       "                                                Ekiti\n",
       "                                            </td>\n",
       "<td>880\n",
       "                                            </td>\n",
       "<td>6\n",
       "                                            </td>\n",
       "<td>863\n",
       "                                            </td>\n",
       "<td>11\n",
       "                                            </td>\n",
       "</tr>\n",
       "<tr>\n",
       "<td>\n",
       "                                                Sokoto\n",
       "                                            </td>\n",
       "<td>775\n",
       "                                            </td>\n",
       "<td>0\n",
       "                                            </td>\n",
       "<td>747\n",
       "                                            </td>\n",
       "<td>28\n",
       "                                            </td>\n",
       "</tr>\n",
       "<tr>\n",
       "<td>\n",
       "                                                Jigawa\n",
       "                                            </td>\n",
       "<td>534\n",
       "                                            </td>\n",
       "<td>6\n",
       "                                            </td>\n",
       "<td>512\n",
       "                                            </td>\n",
       "<td>16\n",
       "                                            </td>\n",
       "</tr>\n",
       "<tr>\n",
       "<td>\n",
       "                                                Yobe\n",
       "                                            </td>\n",
       "<td>499\n",
       "                                            </td>\n",
       "<td>0\n",
       "                                            </td>\n",
       "<td>490\n",
       "                                            </td>\n",
       "<td>9\n",
       "                                            </td>\n",
       "</tr>\n",
       "<tr>\n",
       "<td>\n",
       "                                                Kebbi\n",
       "                                            </td>\n",
       "<td>450\n",
       "                                            </td>\n",
       "<td>42\n",
       "                                            </td>\n",
       "<td>392\n",
       "                                            </td>\n",
       "<td>16\n",
       "                                            </td>\n",
       "</tr>\n",
       "<tr>\n",
       "<td>\n",
       "                                                Cross River\n",
       "                                            </td>\n",
       "<td>402\n",
       "                                            </td>\n",
       "<td>0\n",
       "                                            </td>\n",
       "<td>384\n",
       "                                            </td>\n",
       "<td>18\n",
       "                                            </td>\n",
       "</tr>\n",
       "<tr>\n",
       "<td>\n",
       "                                                Zamfara\n",
       "                                            </td>\n",
       "<td>244\n",
       "                                            </td>\n",
       "<td>3\n",
       "                                            </td>\n",
       "<td>233\n",
       "                                            </td>\n",
       "<td>8\n",
       "                                            </td>\n",
       "</tr>\n",
       "<tr>\n",
       "<td>\n",
       "                                                Kogi\n",
       "                                            </td>\n",
       "<td>5\n",
       "                                            </td>\n",
       "<td>0\n",
       "                                            </td>\n",
       "<td>3\n",
       "                                            </td>\n",
       "<td>2\n",
       "                                            </td>\n",
       "</tr>\n",
       "</tbody>\n",
       "</table>"
      ]
     },
     "execution_count": 9,
     "metadata": {},
     "output_type": "execute_result"
    }
   ],
   "source": [
    "#lets see what is in the first element\n",
    "tables[0]"
   ]
  },
  {
   "cell_type": "code",
   "execution_count": 10,
   "metadata": {},
   "outputs": [],
   "source": [
    "#get all the rows \n",
    "rows = bs.find_all(\"tr\")"
   ]
  },
  {
   "cell_type": "code",
   "execution_count": 11,
   "metadata": {},
   "outputs": [
    {
     "data": {
      "text/plain": [
       "<tr>\n",
       "<td>\n",
       "                                                Lagos\n",
       "                                            </td>\n",
       "<td>59,833\n",
       "                                            </td>\n",
       "<td>862\n",
       "                                            </td>\n",
       "<td>58,515\n",
       "                                            </td>\n",
       "<td>456\n",
       "                                            </td>\n",
       "</tr>"
      ]
     },
     "execution_count": 11,
     "metadata": {},
     "output_type": "execute_result"
    }
   ],
   "source": [
    "#Print out only the contents of the first row\n",
    "rows[1]"
   ]
  },
  {
   "cell_type": "markdown",
   "metadata": {},
   "source": [
    "Recall that the first row of probably every table you'll encounter on the web are column names, meaning we need to handle the first column differently. First of all, we want to collect these names and save them for later.\n",
    "\n",
    "So we will find_all instances of th in the first row. From there, we will get the text from the cell using .text, which is a signal to the HTML element that we want the text within the cell. After that, we'll use the string methods strip and replace to clean up the text a little so they are proper column names. Then we'll add them to a list called columns."
   ]
  },
  {
   "cell_type": "code",
   "execution_count": 12,
   "metadata": {},
   "outputs": [],
   "source": [
    "#Create an empty list of columns\n",
    "columns_names = []\n",
    "#Find all instances of \"th\" in the first row\n",
    "header_cells = rows[0].find_all(\"th\")"
   ]
  },
  {
   "cell_type": "code",
   "execution_count": 13,
   "metadata": {},
   "outputs": [
    {
     "data": {
      "text/plain": [
       "[<th>States Affected</th>,\n",
       " <th>No. of Cases (Lab Confirmed)</th>,\n",
       " <th>No. of Cases (on admission)</th>,\n",
       " <th>No. Discharged</th>,\n",
       " <th>No. of Deaths</th>]"
      ]
     },
     "execution_count": 13,
     "metadata": {},
     "output_type": "execute_result"
    }
   ],
   "source": [
    "#Print the header tags\n",
    "header_cells"
   ]
  },
  {
   "cell_type": "code",
   "execution_count": 14,
   "metadata": {},
   "outputs": [
    {
     "name": "stdout",
     "output_type": "stream",
     "text": [
      "States Affected\n",
      "No. of Cases (Lab Confirmed)\n",
      "No. of Cases (on admission)\n",
      "No. Discharged\n",
      "No. of Deaths\n"
     ]
    }
   ],
   "source": [
    "#Extract the text from the header tags and replace new lines with empty spaces.\n",
    "for cell in header_cells:\n",
    "    header = cell.text\n",
    "    header = header.strip()\n",
    "    header = header.replace(\"\\n\",\" \")\n",
    "    columns_names.append(header)\n",
    "    print(header)"
   ]
  },
  {
   "cell_type": "markdown",
   "metadata": {},
   "source": [
    "Now that we have the titles, we can collect the actual data from the file. We'll loop through all the rows, starting at the second one. Then we'll loop through all the cells in the row. To make this stuff all easy to find into pandas, we'll store the data from each row in a tuple. Remember tuples?\n",
    "\n",
    "Adding to a tuple is a little weird. You can only add a tuple to another tuple. So we'll begin by creating an empty tuple, then add to it by adding another tuple with one element in it."
   ]
  },
  {
   "cell_type": "code",
   "execution_count": 15,
   "metadata": {},
   "outputs": [],
   "source": [
    "data = []\n",
    "\n",
    "for row in rows[1:]:\n",
    "    cells = row.find_all(\"td\")\n",
    "    \n",
    "    ## create an empty tuple\n",
    "    dt = ()\n",
    "    for cell in cells:\n",
    "        dp = cell.text\n",
    "\n",
    "        dp = dp.strip()\n",
    "        dp = dp.replace(\"\\n\", \" \")\n",
    "        \n",
    "        ## add to tuple\n",
    "        dt = dt + (dp,)\n",
    "    data.append(dt)\n",
    "    "
   ]
  },
  {
   "cell_type": "code",
   "execution_count": 16,
   "metadata": {
    "scrolled": true
   },
   "outputs": [
    {
     "data": {
      "text/plain": [
       "[('Lagos', '59,833', '862', '58,515', '456'),\n",
       " ('FCT', '19,902', '183', '19,552', '167'),\n",
       " ('Kaduna', '9,123', '18', '9,040', '65'),\n",
       " ('Plateau', '9,067', '4', '9,006', '57'),\n",
       " ('Rivers', '7,335', '26', '7,208', '101'),\n",
       " ('Oyo', '6,872', '12', '6,734', '126'),\n",
       " ('Edo', '4,910', '0', '4,725', '185'),\n",
       " ('Ogun', '4,694', '10', '4,633', '51'),\n",
       " ('Kano', '4,005', '6', '3,889', '110'),\n",
       " ('Ondo', '3,483', '27', '3,391', '65'),\n",
       " ('Kwara', '3,144', '21', '3,068', '55'),\n",
       " ('Delta', '2,650', '22', '2,556', '72'),\n",
       " ('Osun', '2,578', '6', '2,520', '52'),\n",
       " ('Enugu', '2,464', '0', '2,435', '29'),\n",
       " ('Nasarawa', '2,384', '0', '2,345', '39'),\n",
       " ('Katsina', '2,110', '21', '2,055', '34'),\n",
       " ('Gombe', '2,098', '18', '2,036', '44'),\n",
       " ('Ebonyi', '2,039', '5', '2,002', '32'),\n",
       " ('Akwa Ibom', '1,931', '1', '1,912', '18'),\n",
       " ('Anambra', '1,909', '64', '1,826', '19'),\n",
       " ('Abia', '1,693', '-2', '1,673', '22'),\n",
       " ('Imo', '1,661', '0', '1,624', '37'),\n",
       " ('Bauchi', '1,549', '0', '1,532', '17'),\n",
       " ('Benue', '1,366', '15', '1,327', '24'),\n",
       " ('Borno', '1,344', '1', '1,305', '38'),\n",
       " ('Adamawa', '1,134', '4', '1,098', '32'),\n",
       " ('Taraba', '1,001', '0', '977', '24'),\n",
       " ('Niger', '935', '5', '913', '17'),\n",
       " ('Bayelsa', '906', '1', '879', '26'),\n",
       " ('Ekiti', '880', '6', '863', '11'),\n",
       " ('Sokoto', '775', '0', '747', '28'),\n",
       " ('Jigawa', '534', '6', '512', '16'),\n",
       " ('Yobe', '499', '0', '490', '9'),\n",
       " ('Kebbi', '450', '42', '392', '16'),\n",
       " ('Cross River', '402', '0', '384', '18'),\n",
       " ('Zamfara', '244', '3', '233', '8'),\n",
       " ('Kogi', '5', '0', '3', '2')]"
      ]
     },
     "execution_count": 16,
     "metadata": {},
     "output_type": "execute_result"
    }
   ],
   "source": [
    "#Print out the Scraped out data.\n",
    "data"
   ]
  },
  {
   "cell_type": "code",
   "execution_count": 17,
   "metadata": {},
   "outputs": [],
   "source": [
    "#Store the dataset in a tabular format using pandas\n",
    "df = pd.DataFrame(data,columns=columns_names)"
   ]
  },
  {
   "cell_type": "code",
   "execution_count": 57,
   "metadata": {},
   "outputs": [
    {
     "data": {
      "text/html": [
       "<div>\n",
       "<style scoped>\n",
       "    .dataframe tbody tr th:only-of-type {\n",
       "        vertical-align: middle;\n",
       "    }\n",
       "\n",
       "    .dataframe tbody tr th {\n",
       "        vertical-align: top;\n",
       "    }\n",
       "\n",
       "    .dataframe thead th {\n",
       "        text-align: right;\n",
       "    }\n",
       "</style>\n",
       "<table border=\"1\" class=\"dataframe\">\n",
       "  <thead>\n",
       "    <tr style=\"text-align: right;\">\n",
       "      <th></th>\n",
       "      <th>States Affected</th>\n",
       "      <th>No. of Cases (Lab Confirmed)</th>\n",
       "      <th>No. of Cases (on admission)</th>\n",
       "      <th>No. Discharged</th>\n",
       "      <th>No. of Deaths</th>\n",
       "    </tr>\n",
       "  </thead>\n",
       "  <tbody>\n",
       "    <tr>\n",
       "      <th>0</th>\n",
       "      <td>Lagos</td>\n",
       "      <td>59833</td>\n",
       "      <td>862</td>\n",
       "      <td>58515</td>\n",
       "      <td>456</td>\n",
       "    </tr>\n",
       "    <tr>\n",
       "      <th>1</th>\n",
       "      <td>FCT</td>\n",
       "      <td>19902</td>\n",
       "      <td>183</td>\n",
       "      <td>19552</td>\n",
       "      <td>167</td>\n",
       "    </tr>\n",
       "    <tr>\n",
       "      <th>2</th>\n",
       "      <td>Kaduna</td>\n",
       "      <td>9123</td>\n",
       "      <td>18</td>\n",
       "      <td>9040</td>\n",
       "      <td>65</td>\n",
       "    </tr>\n",
       "    <tr>\n",
       "      <th>3</th>\n",
       "      <td>Plateau</td>\n",
       "      <td>9067</td>\n",
       "      <td>4</td>\n",
       "      <td>9006</td>\n",
       "      <td>57</td>\n",
       "    </tr>\n",
       "    <tr>\n",
       "      <th>4</th>\n",
       "      <td>Rivers</td>\n",
       "      <td>7335</td>\n",
       "      <td>26</td>\n",
       "      <td>7208</td>\n",
       "      <td>101</td>\n",
       "    </tr>\n",
       "  </tbody>\n",
       "</table>\n",
       "</div>"
      ],
      "text/plain": [
       "  States Affected  No. of Cases (Lab Confirmed)  No. of Cases (on admission)  \\\n",
       "0           Lagos                         59833                          862   \n",
       "1             FCT                         19902                          183   \n",
       "2          Kaduna                          9123                           18   \n",
       "3         Plateau                          9067                            4   \n",
       "4          Rivers                          7335                           26   \n",
       "\n",
       "   No. Discharged  No. of Deaths  \n",
       "0           58515            456  \n",
       "1           19552            167  \n",
       "2            9040             65  \n",
       "3            9006             57  \n",
       "4            7208            101  "
      ]
     },
     "execution_count": 57,
     "metadata": {},
     "output_type": "execute_result"
    }
   ],
   "source": [
    "#Display the first 5 rows of the dataset\n",
    "df.head()"
   ]
  },
  {
   "cell_type": "markdown",
   "metadata": {},
   "source": [
    "**This dataframe represent Nigeria's COVID-19 data as of 06-07-2021**"
   ]
  },
  {
   "cell_type": "code",
   "execution_count": 19,
   "metadata": {},
   "outputs": [
    {
     "data": {
      "text/plain": [
       "Index(['States Affected', 'No. of Cases (Lab Confirmed)',\n",
       "       'No. of Cases (on admission)', 'No. Discharged', 'No. of Deaths'],\n",
       "      dtype='object')"
      ]
     },
     "execution_count": 19,
     "metadata": {},
     "output_type": "execute_result"
    }
   ],
   "source": [
    "#Print out the columns of the new table.\n",
    "df.columns"
   ]
  },
  {
   "cell_type": "code",
   "execution_count": 20,
   "metadata": {},
   "outputs": [
    {
     "data": {
      "text/plain": [
       "States Affected                 object\n",
       "No. of Cases (Lab Confirmed)    object\n",
       "No. of Cases (on admission)     object\n",
       "No. Discharged                  object\n",
       "No. of Deaths                   object\n",
       "dtype: object"
      ]
     },
     "execution_count": 20,
     "metadata": {},
     "output_type": "execute_result"
    }
   ],
   "source": [
    "df.dtypes"
   ]
  },
  {
   "cell_type": "code",
   "execution_count": 21,
   "metadata": {},
   "outputs": [],
   "source": [
    "#write a function to convert the string/object data to integers\n",
    "def convert_strings(string):\n",
    "    num = string.split(\",\")\n",
    "    num = \"\".join(num)\n",
    "    num = int(num)\n",
    "    \n",
    "    return num\n",
    "    "
   ]
  },
  {
   "cell_type": "code",
   "execution_count": 22,
   "metadata": {},
   "outputs": [],
   "source": [
    "#Apply the function to each column made up of numbers with commas.\n",
    "df['No. of Cases (Lab Confirmed)'] = df['No. of Cases (Lab Confirmed)'].apply(convert_strings)\n",
    "df['No. of Cases (on admission)'] = df['No. of Cases (on admission)'].apply(convert_strings)\n",
    "df['No. Discharged'] = df['No. Discharged'].apply(convert_strings)\n",
    "df['No. of Deaths'] = df['No. of Deaths'].apply(convert_strings)"
   ]
  },
  {
   "cell_type": "code",
   "execution_count": 23,
   "metadata": {},
   "outputs": [
    {
     "data": {
      "text/plain": [
       "States Affected                 object\n",
       "No. of Cases (Lab Confirmed)     int64\n",
       "No. of Cases (on admission)      int64\n",
       "No. Discharged                   int64\n",
       "No. of Deaths                    int64\n",
       "dtype: object"
      ]
     },
     "execution_count": 23,
     "metadata": {},
     "output_type": "execute_result"
    }
   ],
   "source": [
    "#Cross check the data types of columns with numerical values once again.\n",
    "df.dtypes"
   ]
  },
  {
   "cell_type": "code",
   "execution_count": 24,
   "metadata": {},
   "outputs": [
    {
     "data": {
      "text/html": [
       "<div>\n",
       "<style scoped>\n",
       "    .dataframe tbody tr th:only-of-type {\n",
       "        vertical-align: middle;\n",
       "    }\n",
       "\n",
       "    .dataframe tbody tr th {\n",
       "        vertical-align: top;\n",
       "    }\n",
       "\n",
       "    .dataframe thead th {\n",
       "        text-align: right;\n",
       "    }\n",
       "</style>\n",
       "<table border=\"1\" class=\"dataframe\">\n",
       "  <thead>\n",
       "    <tr style=\"text-align: right;\">\n",
       "      <th></th>\n",
       "      <th>States Affected</th>\n",
       "      <th>No. of Cases (Lab Confirmed)</th>\n",
       "      <th>No. of Cases (on admission)</th>\n",
       "      <th>No. Discharged</th>\n",
       "      <th>No. of Deaths</th>\n",
       "    </tr>\n",
       "  </thead>\n",
       "  <tbody>\n",
       "    <tr>\n",
       "      <th>0</th>\n",
       "      <td>Lagos</td>\n",
       "      <td>59833</td>\n",
       "      <td>862</td>\n",
       "      <td>58515</td>\n",
       "      <td>456</td>\n",
       "    </tr>\n",
       "    <tr>\n",
       "      <th>1</th>\n",
       "      <td>FCT</td>\n",
       "      <td>19902</td>\n",
       "      <td>183</td>\n",
       "      <td>19552</td>\n",
       "      <td>167</td>\n",
       "    </tr>\n",
       "    <tr>\n",
       "      <th>2</th>\n",
       "      <td>Kaduna</td>\n",
       "      <td>9123</td>\n",
       "      <td>18</td>\n",
       "      <td>9040</td>\n",
       "      <td>65</td>\n",
       "    </tr>\n",
       "    <tr>\n",
       "      <th>3</th>\n",
       "      <td>Plateau</td>\n",
       "      <td>9067</td>\n",
       "      <td>4</td>\n",
       "      <td>9006</td>\n",
       "      <td>57</td>\n",
       "    </tr>\n",
       "    <tr>\n",
       "      <th>4</th>\n",
       "      <td>Rivers</td>\n",
       "      <td>7335</td>\n",
       "      <td>26</td>\n",
       "      <td>7208</td>\n",
       "      <td>101</td>\n",
       "    </tr>\n",
       "  </tbody>\n",
       "</table>\n",
       "</div>"
      ],
      "text/plain": [
       "  States Affected  No. of Cases (Lab Confirmed)  No. of Cases (on admission)  \\\n",
       "0           Lagos                         59833                          862   \n",
       "1             FCT                         19902                          183   \n",
       "2          Kaduna                          9123                           18   \n",
       "3         Plateau                          9067                            4   \n",
       "4          Rivers                          7335                           26   \n",
       "\n",
       "   No. Discharged  No. of Deaths  \n",
       "0           58515            456  \n",
       "1           19552            167  \n",
       "2            9040             65  \n",
       "3            9006             57  \n",
       "4            7208            101  "
      ]
     },
     "execution_count": 24,
     "metadata": {},
     "output_type": "execute_result"
    }
   ],
   "source": [
    "#Display the first 5 rows of the dataset\n",
    "df.head()"
   ]
  },
  {
   "cell_type": "code",
   "execution_count": 25,
   "metadata": {},
   "outputs": [
    {
     "name": "stdout",
     "output_type": "stream",
     "text": [
      "<class 'pandas.core.frame.DataFrame'>\n",
      "RangeIndex: 37 entries, 0 to 36\n",
      "Data columns (total 5 columns):\n",
      " #   Column                        Non-Null Count  Dtype \n",
      "---  ------                        --------------  ----- \n",
      " 0   States Affected               37 non-null     object\n",
      " 1   No. of Cases (Lab Confirmed)  37 non-null     int64 \n",
      " 2   No. of Cases (on admission)   37 non-null     int64 \n",
      " 3   No. Discharged                37 non-null     int64 \n",
      " 4   No. of Deaths                 37 non-null     int64 \n",
      "dtypes: int64(4), object(1)\n",
      "memory usage: 1.6+ KB\n"
     ]
    }
   ],
   "source": [
    "df.info()"
   ]
  },
  {
   "cell_type": "code",
   "execution_count": 26,
   "metadata": {},
   "outputs": [
    {
     "data": {
      "text/html": [
       "<div>\n",
       "<style scoped>\n",
       "    .dataframe tbody tr th:only-of-type {\n",
       "        vertical-align: middle;\n",
       "    }\n",
       "\n",
       "    .dataframe tbody tr th {\n",
       "        vertical-align: top;\n",
       "    }\n",
       "\n",
       "    .dataframe thead th {\n",
       "        text-align: right;\n",
       "    }\n",
       "</style>\n",
       "<table border=\"1\" class=\"dataframe\">\n",
       "  <thead>\n",
       "    <tr style=\"text-align: right;\">\n",
       "      <th></th>\n",
       "      <th>No. of Cases (Lab Confirmed)</th>\n",
       "      <th>No. of Cases (on admission)</th>\n",
       "      <th>No. Discharged</th>\n",
       "      <th>No. of Deaths</th>\n",
       "    </tr>\n",
       "  </thead>\n",
       "  <tbody>\n",
       "    <tr>\n",
       "      <th>count</th>\n",
       "      <td>37.000000</td>\n",
       "      <td>37.000000</td>\n",
       "      <td>37.000000</td>\n",
       "      <td>37.000000</td>\n",
       "    </tr>\n",
       "    <tr>\n",
       "      <th>mean</th>\n",
       "      <td>4538.081081</td>\n",
       "      <td>37.486486</td>\n",
       "      <td>4443.243243</td>\n",
       "      <td>57.351351</td>\n",
       "    </tr>\n",
       "    <tr>\n",
       "      <th>std</th>\n",
       "      <td>10039.612073</td>\n",
       "      <td>142.841136</td>\n",
       "      <td>9827.154461</td>\n",
       "      <td>79.498503</td>\n",
       "    </tr>\n",
       "    <tr>\n",
       "      <th>min</th>\n",
       "      <td>5.000000</td>\n",
       "      <td>-2.000000</td>\n",
       "      <td>3.000000</td>\n",
       "      <td>2.000000</td>\n",
       "    </tr>\n",
       "    <tr>\n",
       "      <th>25%</th>\n",
       "      <td>935.000000</td>\n",
       "      <td>0.000000</td>\n",
       "      <td>913.000000</td>\n",
       "      <td>18.000000</td>\n",
       "    </tr>\n",
       "    <tr>\n",
       "      <th>50%</th>\n",
       "      <td>1931.000000</td>\n",
       "      <td>5.000000</td>\n",
       "      <td>1912.000000</td>\n",
       "      <td>32.000000</td>\n",
       "    </tr>\n",
       "    <tr>\n",
       "      <th>75%</th>\n",
       "      <td>3483.000000</td>\n",
       "      <td>18.000000</td>\n",
       "      <td>3391.000000</td>\n",
       "      <td>57.000000</td>\n",
       "    </tr>\n",
       "    <tr>\n",
       "      <th>max</th>\n",
       "      <td>59833.000000</td>\n",
       "      <td>862.000000</td>\n",
       "      <td>58515.000000</td>\n",
       "      <td>456.000000</td>\n",
       "    </tr>\n",
       "  </tbody>\n",
       "</table>\n",
       "</div>"
      ],
      "text/plain": [
       "       No. of Cases (Lab Confirmed)  No. of Cases (on admission)  \\\n",
       "count                     37.000000                    37.000000   \n",
       "mean                    4538.081081                    37.486486   \n",
       "std                    10039.612073                   142.841136   \n",
       "min                        5.000000                    -2.000000   \n",
       "25%                      935.000000                     0.000000   \n",
       "50%                     1931.000000                     5.000000   \n",
       "75%                     3483.000000                    18.000000   \n",
       "max                    59833.000000                   862.000000   \n",
       "\n",
       "       No. Discharged  No. of Deaths  \n",
       "count       37.000000      37.000000  \n",
       "mean      4443.243243      57.351351  \n",
       "std       9827.154461      79.498503  \n",
       "min          3.000000       2.000000  \n",
       "25%        913.000000      18.000000  \n",
       "50%       1912.000000      32.000000  \n",
       "75%       3391.000000      57.000000  \n",
       "max      58515.000000     456.000000  "
      ]
     },
     "execution_count": 26,
     "metadata": {},
     "output_type": "execute_result"
    }
   ],
   "source": [
    "df.describe()"
   ]
  },
  {
   "cell_type": "code",
   "execution_count": 27,
   "metadata": {},
   "outputs": [
    {
     "name": "stdout",
     "output_type": "stream",
     "text": [
      "The total number of Cases (Lab Confirmed) in Nigeria is: 167909\n",
      "The total No. of Cases (on admission) in Nigeria is: 1387\n",
      "The total No. Discharged is in Nigeria : 164400\n",
      "The total No. of Deaths is in Nigeria : 2122\n"
     ]
    }
   ],
   "source": [
    "print(\"The total number of Cases (Lab Confirmed) in Nigeria is:\", df['No. of Cases (Lab Confirmed)'].sum())\n",
    "print(\"The total No. of Cases (on admission) in Nigeria is:\", df['No. of Cases (on admission)'].sum())\n",
    "print(\"The total No. Discharged is in Nigeria :\", df['No. Discharged'].sum())\n",
    "print(\"The total No. of Deaths is in Nigeria :\", df['No. of Deaths'].sum())"
   ]
  },
  {
   "cell_type": "markdown",
   "metadata": {},
   "source": [
    "# Number on confirmed cases"
   ]
  },
  {
   "cell_type": "code",
   "execution_count": 64,
   "metadata": {},
   "outputs": [
    {
     "data": {
      "application/vnd.plotly.v1+json": {
       "config": {
        "plotlyServerURL": "https://plot.ly"
       },
       "data": [
        {
         "alignmentgroup": "True",
         "hovertemplate": "States Affected=%{x}<br>No. of Cases (Lab Confirmed)=%{y}<extra></extra>",
         "legendgroup": "",
         "marker": {
          "color": "#636efa"
         },
         "name": "",
         "offsetgroup": "",
         "orientation": "v",
         "showlegend": false,
         "textposition": "auto",
         "type": "bar",
         "x": [
          "Lagos",
          "FCT",
          "Kaduna",
          "Plateau",
          "Rivers",
          "Oyo",
          "Edo",
          "Ogun",
          "Kano",
          "Ondo",
          "Kwara",
          "Delta",
          "Osun",
          "Enugu",
          "Nasarawa",
          "Katsina",
          "Gombe",
          "Ebonyi",
          "Akwa Ibom",
          "Anambra",
          "Abia",
          "Imo",
          "Bauchi",
          "Benue",
          "Borno",
          "Adamawa",
          "Taraba",
          "Niger",
          "Bayelsa",
          "Ekiti",
          "Sokoto",
          "Jigawa",
          "Yobe",
          "Kebbi",
          "Cross River",
          "Zamfara",
          "Kogi"
         ],
         "xaxis": "x",
         "y": [
          59833,
          19902,
          9123,
          9067,
          7335,
          6872,
          4910,
          4694,
          4005,
          3483,
          3144,
          2650,
          2578,
          2464,
          2384,
          2110,
          2098,
          2039,
          1931,
          1909,
          1693,
          1661,
          1549,
          1366,
          1344,
          1134,
          1001,
          935,
          906,
          880,
          775,
          534,
          499,
          450,
          402,
          244,
          5
         ],
         "yaxis": "y"
        }
       ],
       "layout": {
        "barmode": "relative",
        "legend": {
         "tracegroupgap": 0
        },
        "margin": {
         "t": 60
        },
        "template": {
         "data": {
          "bar": [
           {
            "error_x": {
             "color": "#2a3f5f"
            },
            "error_y": {
             "color": "#2a3f5f"
            },
            "marker": {
             "line": {
              "color": "#E5ECF6",
              "width": 0.5
             }
            },
            "type": "bar"
           }
          ],
          "barpolar": [
           {
            "marker": {
             "line": {
              "color": "#E5ECF6",
              "width": 0.5
             }
            },
            "type": "barpolar"
           }
          ],
          "carpet": [
           {
            "aaxis": {
             "endlinecolor": "#2a3f5f",
             "gridcolor": "white",
             "linecolor": "white",
             "minorgridcolor": "white",
             "startlinecolor": "#2a3f5f"
            },
            "baxis": {
             "endlinecolor": "#2a3f5f",
             "gridcolor": "white",
             "linecolor": "white",
             "minorgridcolor": "white",
             "startlinecolor": "#2a3f5f"
            },
            "type": "carpet"
           }
          ],
          "choropleth": [
           {
            "colorbar": {
             "outlinewidth": 0,
             "ticks": ""
            },
            "type": "choropleth"
           }
          ],
          "contour": [
           {
            "colorbar": {
             "outlinewidth": 0,
             "ticks": ""
            },
            "colorscale": [
             [
              0,
              "#0d0887"
             ],
             [
              0.1111111111111111,
              "#46039f"
             ],
             [
              0.2222222222222222,
              "#7201a8"
             ],
             [
              0.3333333333333333,
              "#9c179e"
             ],
             [
              0.4444444444444444,
              "#bd3786"
             ],
             [
              0.5555555555555556,
              "#d8576b"
             ],
             [
              0.6666666666666666,
              "#ed7953"
             ],
             [
              0.7777777777777778,
              "#fb9f3a"
             ],
             [
              0.8888888888888888,
              "#fdca26"
             ],
             [
              1,
              "#f0f921"
             ]
            ],
            "type": "contour"
           }
          ],
          "contourcarpet": [
           {
            "colorbar": {
             "outlinewidth": 0,
             "ticks": ""
            },
            "type": "contourcarpet"
           }
          ],
          "heatmap": [
           {
            "colorbar": {
             "outlinewidth": 0,
             "ticks": ""
            },
            "colorscale": [
             [
              0,
              "#0d0887"
             ],
             [
              0.1111111111111111,
              "#46039f"
             ],
             [
              0.2222222222222222,
              "#7201a8"
             ],
             [
              0.3333333333333333,
              "#9c179e"
             ],
             [
              0.4444444444444444,
              "#bd3786"
             ],
             [
              0.5555555555555556,
              "#d8576b"
             ],
             [
              0.6666666666666666,
              "#ed7953"
             ],
             [
              0.7777777777777778,
              "#fb9f3a"
             ],
             [
              0.8888888888888888,
              "#fdca26"
             ],
             [
              1,
              "#f0f921"
             ]
            ],
            "type": "heatmap"
           }
          ],
          "heatmapgl": [
           {
            "colorbar": {
             "outlinewidth": 0,
             "ticks": ""
            },
            "colorscale": [
             [
              0,
              "#0d0887"
             ],
             [
              0.1111111111111111,
              "#46039f"
             ],
             [
              0.2222222222222222,
              "#7201a8"
             ],
             [
              0.3333333333333333,
              "#9c179e"
             ],
             [
              0.4444444444444444,
              "#bd3786"
             ],
             [
              0.5555555555555556,
              "#d8576b"
             ],
             [
              0.6666666666666666,
              "#ed7953"
             ],
             [
              0.7777777777777778,
              "#fb9f3a"
             ],
             [
              0.8888888888888888,
              "#fdca26"
             ],
             [
              1,
              "#f0f921"
             ]
            ],
            "type": "heatmapgl"
           }
          ],
          "histogram": [
           {
            "marker": {
             "colorbar": {
              "outlinewidth": 0,
              "ticks": ""
             }
            },
            "type": "histogram"
           }
          ],
          "histogram2d": [
           {
            "colorbar": {
             "outlinewidth": 0,
             "ticks": ""
            },
            "colorscale": [
             [
              0,
              "#0d0887"
             ],
             [
              0.1111111111111111,
              "#46039f"
             ],
             [
              0.2222222222222222,
              "#7201a8"
             ],
             [
              0.3333333333333333,
              "#9c179e"
             ],
             [
              0.4444444444444444,
              "#bd3786"
             ],
             [
              0.5555555555555556,
              "#d8576b"
             ],
             [
              0.6666666666666666,
              "#ed7953"
             ],
             [
              0.7777777777777778,
              "#fb9f3a"
             ],
             [
              0.8888888888888888,
              "#fdca26"
             ],
             [
              1,
              "#f0f921"
             ]
            ],
            "type": "histogram2d"
           }
          ],
          "histogram2dcontour": [
           {
            "colorbar": {
             "outlinewidth": 0,
             "ticks": ""
            },
            "colorscale": [
             [
              0,
              "#0d0887"
             ],
             [
              0.1111111111111111,
              "#46039f"
             ],
             [
              0.2222222222222222,
              "#7201a8"
             ],
             [
              0.3333333333333333,
              "#9c179e"
             ],
             [
              0.4444444444444444,
              "#bd3786"
             ],
             [
              0.5555555555555556,
              "#d8576b"
             ],
             [
              0.6666666666666666,
              "#ed7953"
             ],
             [
              0.7777777777777778,
              "#fb9f3a"
             ],
             [
              0.8888888888888888,
              "#fdca26"
             ],
             [
              1,
              "#f0f921"
             ]
            ],
            "type": "histogram2dcontour"
           }
          ],
          "mesh3d": [
           {
            "colorbar": {
             "outlinewidth": 0,
             "ticks": ""
            },
            "type": "mesh3d"
           }
          ],
          "parcoords": [
           {
            "line": {
             "colorbar": {
              "outlinewidth": 0,
              "ticks": ""
             }
            },
            "type": "parcoords"
           }
          ],
          "pie": [
           {
            "automargin": true,
            "type": "pie"
           }
          ],
          "scatter": [
           {
            "marker": {
             "colorbar": {
              "outlinewidth": 0,
              "ticks": ""
             }
            },
            "type": "scatter"
           }
          ],
          "scatter3d": [
           {
            "line": {
             "colorbar": {
              "outlinewidth": 0,
              "ticks": ""
             }
            },
            "marker": {
             "colorbar": {
              "outlinewidth": 0,
              "ticks": ""
             }
            },
            "type": "scatter3d"
           }
          ],
          "scattercarpet": [
           {
            "marker": {
             "colorbar": {
              "outlinewidth": 0,
              "ticks": ""
             }
            },
            "type": "scattercarpet"
           }
          ],
          "scattergeo": [
           {
            "marker": {
             "colorbar": {
              "outlinewidth": 0,
              "ticks": ""
             }
            },
            "type": "scattergeo"
           }
          ],
          "scattergl": [
           {
            "marker": {
             "colorbar": {
              "outlinewidth": 0,
              "ticks": ""
             }
            },
            "type": "scattergl"
           }
          ],
          "scattermapbox": [
           {
            "marker": {
             "colorbar": {
              "outlinewidth": 0,
              "ticks": ""
             }
            },
            "type": "scattermapbox"
           }
          ],
          "scatterpolar": [
           {
            "marker": {
             "colorbar": {
              "outlinewidth": 0,
              "ticks": ""
             }
            },
            "type": "scatterpolar"
           }
          ],
          "scatterpolargl": [
           {
            "marker": {
             "colorbar": {
              "outlinewidth": 0,
              "ticks": ""
             }
            },
            "type": "scatterpolargl"
           }
          ],
          "scatterternary": [
           {
            "marker": {
             "colorbar": {
              "outlinewidth": 0,
              "ticks": ""
             }
            },
            "type": "scatterternary"
           }
          ],
          "surface": [
           {
            "colorbar": {
             "outlinewidth": 0,
             "ticks": ""
            },
            "colorscale": [
             [
              0,
              "#0d0887"
             ],
             [
              0.1111111111111111,
              "#46039f"
             ],
             [
              0.2222222222222222,
              "#7201a8"
             ],
             [
              0.3333333333333333,
              "#9c179e"
             ],
             [
              0.4444444444444444,
              "#bd3786"
             ],
             [
              0.5555555555555556,
              "#d8576b"
             ],
             [
              0.6666666666666666,
              "#ed7953"
             ],
             [
              0.7777777777777778,
              "#fb9f3a"
             ],
             [
              0.8888888888888888,
              "#fdca26"
             ],
             [
              1,
              "#f0f921"
             ]
            ],
            "type": "surface"
           }
          ],
          "table": [
           {
            "cells": {
             "fill": {
              "color": "#EBF0F8"
             },
             "line": {
              "color": "white"
             }
            },
            "header": {
             "fill": {
              "color": "#C8D4E3"
             },
             "line": {
              "color": "white"
             }
            },
            "type": "table"
           }
          ]
         },
         "layout": {
          "annotationdefaults": {
           "arrowcolor": "#2a3f5f",
           "arrowhead": 0,
           "arrowwidth": 1
          },
          "coloraxis": {
           "colorbar": {
            "outlinewidth": 0,
            "ticks": ""
           }
          },
          "colorscale": {
           "diverging": [
            [
             0,
             "#8e0152"
            ],
            [
             0.1,
             "#c51b7d"
            ],
            [
             0.2,
             "#de77ae"
            ],
            [
             0.3,
             "#f1b6da"
            ],
            [
             0.4,
             "#fde0ef"
            ],
            [
             0.5,
             "#f7f7f7"
            ],
            [
             0.6,
             "#e6f5d0"
            ],
            [
             0.7,
             "#b8e186"
            ],
            [
             0.8,
             "#7fbc41"
            ],
            [
             0.9,
             "#4d9221"
            ],
            [
             1,
             "#276419"
            ]
           ],
           "sequential": [
            [
             0,
             "#0d0887"
            ],
            [
             0.1111111111111111,
             "#46039f"
            ],
            [
             0.2222222222222222,
             "#7201a8"
            ],
            [
             0.3333333333333333,
             "#9c179e"
            ],
            [
             0.4444444444444444,
             "#bd3786"
            ],
            [
             0.5555555555555556,
             "#d8576b"
            ],
            [
             0.6666666666666666,
             "#ed7953"
            ],
            [
             0.7777777777777778,
             "#fb9f3a"
            ],
            [
             0.8888888888888888,
             "#fdca26"
            ],
            [
             1,
             "#f0f921"
            ]
           ],
           "sequentialminus": [
            [
             0,
             "#0d0887"
            ],
            [
             0.1111111111111111,
             "#46039f"
            ],
            [
             0.2222222222222222,
             "#7201a8"
            ],
            [
             0.3333333333333333,
             "#9c179e"
            ],
            [
             0.4444444444444444,
             "#bd3786"
            ],
            [
             0.5555555555555556,
             "#d8576b"
            ],
            [
             0.6666666666666666,
             "#ed7953"
            ],
            [
             0.7777777777777778,
             "#fb9f3a"
            ],
            [
             0.8888888888888888,
             "#fdca26"
            ],
            [
             1,
             "#f0f921"
            ]
           ]
          },
          "colorway": [
           "#636efa",
           "#EF553B",
           "#00cc96",
           "#ab63fa",
           "#FFA15A",
           "#19d3f3",
           "#FF6692",
           "#B6E880",
           "#FF97FF",
           "#FECB52"
          ],
          "font": {
           "color": "#2a3f5f"
          },
          "geo": {
           "bgcolor": "white",
           "lakecolor": "white",
           "landcolor": "#E5ECF6",
           "showlakes": true,
           "showland": true,
           "subunitcolor": "white"
          },
          "hoverlabel": {
           "align": "left"
          },
          "hovermode": "closest",
          "mapbox": {
           "style": "light"
          },
          "paper_bgcolor": "white",
          "plot_bgcolor": "#E5ECF6",
          "polar": {
           "angularaxis": {
            "gridcolor": "white",
            "linecolor": "white",
            "ticks": ""
           },
           "bgcolor": "#E5ECF6",
           "radialaxis": {
            "gridcolor": "white",
            "linecolor": "white",
            "ticks": ""
           }
          },
          "scene": {
           "xaxis": {
            "backgroundcolor": "#E5ECF6",
            "gridcolor": "white",
            "gridwidth": 2,
            "linecolor": "white",
            "showbackground": true,
            "ticks": "",
            "zerolinecolor": "white"
           },
           "yaxis": {
            "backgroundcolor": "#E5ECF6",
            "gridcolor": "white",
            "gridwidth": 2,
            "linecolor": "white",
            "showbackground": true,
            "ticks": "",
            "zerolinecolor": "white"
           },
           "zaxis": {
            "backgroundcolor": "#E5ECF6",
            "gridcolor": "white",
            "gridwidth": 2,
            "linecolor": "white",
            "showbackground": true,
            "ticks": "",
            "zerolinecolor": "white"
           }
          },
          "shapedefaults": {
           "line": {
            "color": "#2a3f5f"
           }
          },
          "ternary": {
           "aaxis": {
            "gridcolor": "white",
            "linecolor": "white",
            "ticks": ""
           },
           "baxis": {
            "gridcolor": "white",
            "linecolor": "white",
            "ticks": ""
           },
           "bgcolor": "#E5ECF6",
           "caxis": {
            "gridcolor": "white",
            "linecolor": "white",
            "ticks": ""
           }
          },
          "title": {
           "x": 0.05
          },
          "xaxis": {
           "automargin": true,
           "gridcolor": "white",
           "linecolor": "white",
           "ticks": "",
           "title": {
            "standoff": 15
           },
           "zerolinecolor": "white",
           "zerolinewidth": 2
          },
          "yaxis": {
           "automargin": true,
           "gridcolor": "white",
           "linecolor": "white",
           "ticks": "",
           "title": {
            "standoff": 15
           },
           "zerolinecolor": "white",
           "zerolinewidth": 2
          }
         }
        },
        "xaxis": {
         "anchor": "y",
         "domain": [
          0,
          1
         ],
         "title": {
          "text": "States Affected"
         }
        },
        "yaxis": {
         "anchor": "x",
         "domain": [
          0,
          1
         ],
         "title": {
          "text": "No. of Cases (Lab Confirmed)"
         }
        }
       }
      },
      "text/html": [
       "<div>                            <div id=\"a1dce5f0-a82e-4bed-a93b-d9151abb4fb9\" class=\"plotly-graph-div\" style=\"height:525px; width:100%;\"></div>            <script type=\"text/javascript\">                require([\"plotly\"], function(Plotly) {                    window.PLOTLYENV=window.PLOTLYENV || {};                                    if (document.getElementById(\"a1dce5f0-a82e-4bed-a93b-d9151abb4fb9\")) {                    Plotly.newPlot(                        \"a1dce5f0-a82e-4bed-a93b-d9151abb4fb9\",                        [{\"alignmentgroup\": \"True\", \"hovertemplate\": \"States Affected=%{x}<br>No. of Cases (Lab Confirmed)=%{y}<extra></extra>\", \"legendgroup\": \"\", \"marker\": {\"color\": \"#636efa\"}, \"name\": \"\", \"offsetgroup\": \"\", \"orientation\": \"v\", \"showlegend\": false, \"textposition\": \"auto\", \"type\": \"bar\", \"x\": [\"Lagos\", \"FCT\", \"Kaduna\", \"Plateau\", \"Rivers\", \"Oyo\", \"Edo\", \"Ogun\", \"Kano\", \"Ondo\", \"Kwara\", \"Delta\", \"Osun\", \"Enugu\", \"Nasarawa\", \"Katsina\", \"Gombe\", \"Ebonyi\", \"Akwa Ibom\", \"Anambra\", \"Abia\", \"Imo\", \"Bauchi\", \"Benue\", \"Borno\", \"Adamawa\", \"Taraba\", \"Niger\", \"Bayelsa\", \"Ekiti\", \"Sokoto\", \"Jigawa\", \"Yobe\", \"Kebbi\", \"Cross River\", \"Zamfara\", \"Kogi\"], \"xaxis\": \"x\", \"y\": [59833, 19902, 9123, 9067, 7335, 6872, 4910, 4694, 4005, 3483, 3144, 2650, 2578, 2464, 2384, 2110, 2098, 2039, 1931, 1909, 1693, 1661, 1549, 1366, 1344, 1134, 1001, 935, 906, 880, 775, 534, 499, 450, 402, 244, 5], \"yaxis\": \"y\"}],                        {\"barmode\": \"relative\", \"legend\": {\"tracegroupgap\": 0}, \"margin\": {\"t\": 60}, \"template\": {\"data\": {\"bar\": [{\"error_x\": {\"color\": \"#2a3f5f\"}, \"error_y\": {\"color\": \"#2a3f5f\"}, \"marker\": {\"line\": {\"color\": \"#E5ECF6\", \"width\": 0.5}}, \"type\": \"bar\"}], \"barpolar\": [{\"marker\": {\"line\": {\"color\": \"#E5ECF6\", \"width\": 0.5}}, \"type\": \"barpolar\"}], \"carpet\": [{\"aaxis\": {\"endlinecolor\": \"#2a3f5f\", \"gridcolor\": \"white\", \"linecolor\": \"white\", \"minorgridcolor\": \"white\", \"startlinecolor\": \"#2a3f5f\"}, \"baxis\": {\"endlinecolor\": \"#2a3f5f\", \"gridcolor\": \"white\", \"linecolor\": \"white\", \"minorgridcolor\": \"white\", \"startlinecolor\": \"#2a3f5f\"}, \"type\": \"carpet\"}], \"choropleth\": [{\"colorbar\": {\"outlinewidth\": 0, \"ticks\": \"\"}, \"type\": \"choropleth\"}], \"contour\": [{\"colorbar\": {\"outlinewidth\": 0, \"ticks\": \"\"}, \"colorscale\": [[0.0, \"#0d0887\"], [0.1111111111111111, \"#46039f\"], [0.2222222222222222, \"#7201a8\"], [0.3333333333333333, \"#9c179e\"], [0.4444444444444444, \"#bd3786\"], [0.5555555555555556, \"#d8576b\"], [0.6666666666666666, \"#ed7953\"], [0.7777777777777778, \"#fb9f3a\"], [0.8888888888888888, \"#fdca26\"], [1.0, \"#f0f921\"]], \"type\": \"contour\"}], \"contourcarpet\": [{\"colorbar\": {\"outlinewidth\": 0, \"ticks\": \"\"}, \"type\": \"contourcarpet\"}], \"heatmap\": [{\"colorbar\": {\"outlinewidth\": 0, \"ticks\": \"\"}, \"colorscale\": [[0.0, \"#0d0887\"], [0.1111111111111111, \"#46039f\"], [0.2222222222222222, \"#7201a8\"], [0.3333333333333333, \"#9c179e\"], [0.4444444444444444, \"#bd3786\"], [0.5555555555555556, \"#d8576b\"], [0.6666666666666666, \"#ed7953\"], [0.7777777777777778, \"#fb9f3a\"], [0.8888888888888888, \"#fdca26\"], [1.0, \"#f0f921\"]], \"type\": \"heatmap\"}], \"heatmapgl\": [{\"colorbar\": {\"outlinewidth\": 0, \"ticks\": \"\"}, \"colorscale\": [[0.0, \"#0d0887\"], [0.1111111111111111, \"#46039f\"], [0.2222222222222222, \"#7201a8\"], [0.3333333333333333, \"#9c179e\"], [0.4444444444444444, \"#bd3786\"], [0.5555555555555556, \"#d8576b\"], [0.6666666666666666, \"#ed7953\"], [0.7777777777777778, \"#fb9f3a\"], [0.8888888888888888, \"#fdca26\"], [1.0, \"#f0f921\"]], \"type\": \"heatmapgl\"}], \"histogram\": [{\"marker\": {\"colorbar\": {\"outlinewidth\": 0, \"ticks\": \"\"}}, \"type\": \"histogram\"}], \"histogram2d\": [{\"colorbar\": {\"outlinewidth\": 0, \"ticks\": \"\"}, \"colorscale\": [[0.0, \"#0d0887\"], [0.1111111111111111, \"#46039f\"], [0.2222222222222222, \"#7201a8\"], [0.3333333333333333, \"#9c179e\"], [0.4444444444444444, \"#bd3786\"], [0.5555555555555556, \"#d8576b\"], [0.6666666666666666, \"#ed7953\"], [0.7777777777777778, \"#fb9f3a\"], [0.8888888888888888, \"#fdca26\"], [1.0, \"#f0f921\"]], \"type\": \"histogram2d\"}], \"histogram2dcontour\": [{\"colorbar\": {\"outlinewidth\": 0, \"ticks\": \"\"}, \"colorscale\": [[0.0, \"#0d0887\"], [0.1111111111111111, \"#46039f\"], [0.2222222222222222, \"#7201a8\"], [0.3333333333333333, \"#9c179e\"], [0.4444444444444444, \"#bd3786\"], [0.5555555555555556, \"#d8576b\"], [0.6666666666666666, \"#ed7953\"], [0.7777777777777778, \"#fb9f3a\"], [0.8888888888888888, \"#fdca26\"], [1.0, \"#f0f921\"]], \"type\": \"histogram2dcontour\"}], \"mesh3d\": [{\"colorbar\": {\"outlinewidth\": 0, \"ticks\": \"\"}, \"type\": \"mesh3d\"}], \"parcoords\": [{\"line\": {\"colorbar\": {\"outlinewidth\": 0, \"ticks\": \"\"}}, \"type\": \"parcoords\"}], \"pie\": [{\"automargin\": true, \"type\": \"pie\"}], \"scatter\": [{\"marker\": {\"colorbar\": {\"outlinewidth\": 0, \"ticks\": \"\"}}, \"type\": \"scatter\"}], \"scatter3d\": [{\"line\": {\"colorbar\": {\"outlinewidth\": 0, \"ticks\": \"\"}}, \"marker\": {\"colorbar\": {\"outlinewidth\": 0, \"ticks\": \"\"}}, \"type\": \"scatter3d\"}], \"scattercarpet\": [{\"marker\": {\"colorbar\": {\"outlinewidth\": 0, \"ticks\": \"\"}}, \"type\": \"scattercarpet\"}], \"scattergeo\": [{\"marker\": {\"colorbar\": {\"outlinewidth\": 0, \"ticks\": \"\"}}, \"type\": \"scattergeo\"}], \"scattergl\": [{\"marker\": {\"colorbar\": {\"outlinewidth\": 0, \"ticks\": \"\"}}, \"type\": \"scattergl\"}], \"scattermapbox\": [{\"marker\": {\"colorbar\": {\"outlinewidth\": 0, \"ticks\": \"\"}}, \"type\": \"scattermapbox\"}], \"scatterpolar\": [{\"marker\": {\"colorbar\": {\"outlinewidth\": 0, \"ticks\": \"\"}}, \"type\": \"scatterpolar\"}], \"scatterpolargl\": [{\"marker\": {\"colorbar\": {\"outlinewidth\": 0, \"ticks\": \"\"}}, \"type\": \"scatterpolargl\"}], \"scatterternary\": [{\"marker\": {\"colorbar\": {\"outlinewidth\": 0, \"ticks\": \"\"}}, \"type\": \"scatterternary\"}], \"surface\": [{\"colorbar\": {\"outlinewidth\": 0, \"ticks\": \"\"}, \"colorscale\": [[0.0, \"#0d0887\"], [0.1111111111111111, \"#46039f\"], [0.2222222222222222, \"#7201a8\"], [0.3333333333333333, \"#9c179e\"], [0.4444444444444444, \"#bd3786\"], [0.5555555555555556, \"#d8576b\"], [0.6666666666666666, \"#ed7953\"], [0.7777777777777778, \"#fb9f3a\"], [0.8888888888888888, \"#fdca26\"], [1.0, \"#f0f921\"]], \"type\": \"surface\"}], \"table\": [{\"cells\": {\"fill\": {\"color\": \"#EBF0F8\"}, \"line\": {\"color\": \"white\"}}, \"header\": {\"fill\": {\"color\": \"#C8D4E3\"}, \"line\": {\"color\": \"white\"}}, \"type\": \"table\"}]}, \"layout\": {\"annotationdefaults\": {\"arrowcolor\": \"#2a3f5f\", \"arrowhead\": 0, \"arrowwidth\": 1}, \"coloraxis\": {\"colorbar\": {\"outlinewidth\": 0, \"ticks\": \"\"}}, \"colorscale\": {\"diverging\": [[0, \"#8e0152\"], [0.1, \"#c51b7d\"], [0.2, \"#de77ae\"], [0.3, \"#f1b6da\"], [0.4, \"#fde0ef\"], [0.5, \"#f7f7f7\"], [0.6, \"#e6f5d0\"], [0.7, \"#b8e186\"], [0.8, \"#7fbc41\"], [0.9, \"#4d9221\"], [1, \"#276419\"]], \"sequential\": [[0.0, \"#0d0887\"], [0.1111111111111111, \"#46039f\"], [0.2222222222222222, \"#7201a8\"], [0.3333333333333333, \"#9c179e\"], [0.4444444444444444, \"#bd3786\"], [0.5555555555555556, \"#d8576b\"], [0.6666666666666666, \"#ed7953\"], [0.7777777777777778, \"#fb9f3a\"], [0.8888888888888888, \"#fdca26\"], [1.0, \"#f0f921\"]], \"sequentialminus\": [[0.0, \"#0d0887\"], [0.1111111111111111, \"#46039f\"], [0.2222222222222222, \"#7201a8\"], [0.3333333333333333, \"#9c179e\"], [0.4444444444444444, \"#bd3786\"], [0.5555555555555556, \"#d8576b\"], [0.6666666666666666, \"#ed7953\"], [0.7777777777777778, \"#fb9f3a\"], [0.8888888888888888, \"#fdca26\"], [1.0, \"#f0f921\"]]}, \"colorway\": [\"#636efa\", \"#EF553B\", \"#00cc96\", \"#ab63fa\", \"#FFA15A\", \"#19d3f3\", \"#FF6692\", \"#B6E880\", \"#FF97FF\", \"#FECB52\"], \"font\": {\"color\": \"#2a3f5f\"}, \"geo\": {\"bgcolor\": \"white\", \"lakecolor\": \"white\", \"landcolor\": \"#E5ECF6\", \"showlakes\": true, \"showland\": true, \"subunitcolor\": \"white\"}, \"hoverlabel\": {\"align\": \"left\"}, \"hovermode\": \"closest\", \"mapbox\": {\"style\": \"light\"}, \"paper_bgcolor\": \"white\", \"plot_bgcolor\": \"#E5ECF6\", \"polar\": {\"angularaxis\": {\"gridcolor\": \"white\", \"linecolor\": \"white\", \"ticks\": \"\"}, \"bgcolor\": \"#E5ECF6\", \"radialaxis\": {\"gridcolor\": \"white\", \"linecolor\": \"white\", \"ticks\": \"\"}}, \"scene\": {\"xaxis\": {\"backgroundcolor\": \"#E5ECF6\", \"gridcolor\": \"white\", \"gridwidth\": 2, \"linecolor\": \"white\", \"showbackground\": true, \"ticks\": \"\", \"zerolinecolor\": \"white\"}, \"yaxis\": {\"backgroundcolor\": \"#E5ECF6\", \"gridcolor\": \"white\", \"gridwidth\": 2, \"linecolor\": \"white\", \"showbackground\": true, \"ticks\": \"\", \"zerolinecolor\": \"white\"}, \"zaxis\": {\"backgroundcolor\": \"#E5ECF6\", \"gridcolor\": \"white\", \"gridwidth\": 2, \"linecolor\": \"white\", \"showbackground\": true, \"ticks\": \"\", \"zerolinecolor\": \"white\"}}, \"shapedefaults\": {\"line\": {\"color\": \"#2a3f5f\"}}, \"ternary\": {\"aaxis\": {\"gridcolor\": \"white\", \"linecolor\": \"white\", \"ticks\": \"\"}, \"baxis\": {\"gridcolor\": \"white\", \"linecolor\": \"white\", \"ticks\": \"\"}, \"bgcolor\": \"#E5ECF6\", \"caxis\": {\"gridcolor\": \"white\", \"linecolor\": \"white\", \"ticks\": \"\"}}, \"title\": {\"x\": 0.05}, \"xaxis\": {\"automargin\": true, \"gridcolor\": \"white\", \"linecolor\": \"white\", \"ticks\": \"\", \"title\": {\"standoff\": 15}, \"zerolinecolor\": \"white\", \"zerolinewidth\": 2}, \"yaxis\": {\"automargin\": true, \"gridcolor\": \"white\", \"linecolor\": \"white\", \"ticks\": \"\", \"title\": {\"standoff\": 15}, \"zerolinecolor\": \"white\", \"zerolinewidth\": 2}}}, \"xaxis\": {\"anchor\": \"y\", \"domain\": [0.0, 1.0], \"title\": {\"text\": \"States Affected\"}}, \"yaxis\": {\"anchor\": \"x\", \"domain\": [0.0, 1.0], \"title\": {\"text\": \"No. of Cases (Lab Confirmed)\"}}},                        {\"responsive\": true}                    ).then(function(){\n",
       "                            \n",
       "var gd = document.getElementById('a1dce5f0-a82e-4bed-a93b-d9151abb4fb9');\n",
       "var x = new MutationObserver(function (mutations, observer) {{\n",
       "        var display = window.getComputedStyle(gd).display;\n",
       "        if (!display || display === 'none') {{\n",
       "            console.log([gd, 'removed!']);\n",
       "            Plotly.purge(gd);\n",
       "            observer.disconnect();\n",
       "        }}\n",
       "}});\n",
       "\n",
       "// Listen for the removal of the full notebook cells\n",
       "var notebookContainer = gd.closest('#notebook-container');\n",
       "if (notebookContainer) {{\n",
       "    x.observe(notebookContainer, {childList: true});\n",
       "}}\n",
       "\n",
       "// Listen for the clearing of the current output cell\n",
       "var outputEl = gd.closest('.output');\n",
       "if (outputEl) {{\n",
       "    x.observe(outputEl, {childList: true});\n",
       "}}\n",
       "\n",
       "                        })                };                });            </script>        </div>"
      ]
     },
     "metadata": {},
     "output_type": "display_data"
    }
   ],
   "source": [
    "px.bar(df,x = 'States Affected',y = 'No. of Cases (Lab Confirmed)')"
   ]
  },
  {
   "cell_type": "markdown",
   "metadata": {},
   "source": [
    "**scroll over each bar for more information**"
   ]
  },
  {
   "cell_type": "markdown",
   "metadata": {},
   "source": [
    "Lagos state has the highest number of Confirmed Cases and Kogi state has the lowest number of Confirmed Cases"
   ]
  },
  {
   "cell_type": "markdown",
   "metadata": {},
   "source": [
    "# Number of cases on Admisssion"
   ]
  },
  {
   "cell_type": "code",
   "execution_count": 59,
   "metadata": {},
   "outputs": [
    {
     "data": {
      "application/vnd.plotly.v1+json": {
       "config": {
        "plotlyServerURL": "https://plot.ly"
       },
       "data": [
        {
         "alignmentgroup": "True",
         "hovertemplate": "States Affected=%{x}<br>No. of Cases (on admission)=%{y}<extra></extra>",
         "legendgroup": "",
         "marker": {
          "color": "#636efa"
         },
         "name": "",
         "offsetgroup": "",
         "orientation": "v",
         "showlegend": false,
         "textposition": "auto",
         "type": "bar",
         "x": [
          "Lagos",
          "FCT",
          "Kaduna",
          "Plateau",
          "Rivers",
          "Oyo",
          "Edo",
          "Ogun",
          "Kano",
          "Ondo",
          "Kwara",
          "Delta",
          "Osun",
          "Enugu",
          "Nasarawa",
          "Katsina",
          "Gombe",
          "Ebonyi",
          "Akwa Ibom",
          "Anambra",
          "Abia",
          "Imo",
          "Bauchi",
          "Benue",
          "Borno",
          "Adamawa",
          "Taraba",
          "Niger",
          "Bayelsa",
          "Ekiti",
          "Sokoto",
          "Jigawa",
          "Yobe",
          "Kebbi",
          "Cross River",
          "Zamfara",
          "Kogi"
         ],
         "xaxis": "x",
         "y": [
          862,
          183,
          18,
          4,
          26,
          12,
          0,
          10,
          6,
          27,
          21,
          22,
          6,
          0,
          0,
          21,
          18,
          5,
          1,
          64,
          -2,
          0,
          0,
          15,
          1,
          4,
          0,
          5,
          1,
          6,
          0,
          6,
          0,
          42,
          0,
          3,
          0
         ],
         "yaxis": "y"
        }
       ],
       "layout": {
        "barmode": "relative",
        "legend": {
         "tracegroupgap": 0
        },
        "margin": {
         "t": 60
        },
        "template": {
         "data": {
          "bar": [
           {
            "error_x": {
             "color": "#2a3f5f"
            },
            "error_y": {
             "color": "#2a3f5f"
            },
            "marker": {
             "line": {
              "color": "#E5ECF6",
              "width": 0.5
             }
            },
            "type": "bar"
           }
          ],
          "barpolar": [
           {
            "marker": {
             "line": {
              "color": "#E5ECF6",
              "width": 0.5
             }
            },
            "type": "barpolar"
           }
          ],
          "carpet": [
           {
            "aaxis": {
             "endlinecolor": "#2a3f5f",
             "gridcolor": "white",
             "linecolor": "white",
             "minorgridcolor": "white",
             "startlinecolor": "#2a3f5f"
            },
            "baxis": {
             "endlinecolor": "#2a3f5f",
             "gridcolor": "white",
             "linecolor": "white",
             "minorgridcolor": "white",
             "startlinecolor": "#2a3f5f"
            },
            "type": "carpet"
           }
          ],
          "choropleth": [
           {
            "colorbar": {
             "outlinewidth": 0,
             "ticks": ""
            },
            "type": "choropleth"
           }
          ],
          "contour": [
           {
            "colorbar": {
             "outlinewidth": 0,
             "ticks": ""
            },
            "colorscale": [
             [
              0,
              "#0d0887"
             ],
             [
              0.1111111111111111,
              "#46039f"
             ],
             [
              0.2222222222222222,
              "#7201a8"
             ],
             [
              0.3333333333333333,
              "#9c179e"
             ],
             [
              0.4444444444444444,
              "#bd3786"
             ],
             [
              0.5555555555555556,
              "#d8576b"
             ],
             [
              0.6666666666666666,
              "#ed7953"
             ],
             [
              0.7777777777777778,
              "#fb9f3a"
             ],
             [
              0.8888888888888888,
              "#fdca26"
             ],
             [
              1,
              "#f0f921"
             ]
            ],
            "type": "contour"
           }
          ],
          "contourcarpet": [
           {
            "colorbar": {
             "outlinewidth": 0,
             "ticks": ""
            },
            "type": "contourcarpet"
           }
          ],
          "heatmap": [
           {
            "colorbar": {
             "outlinewidth": 0,
             "ticks": ""
            },
            "colorscale": [
             [
              0,
              "#0d0887"
             ],
             [
              0.1111111111111111,
              "#46039f"
             ],
             [
              0.2222222222222222,
              "#7201a8"
             ],
             [
              0.3333333333333333,
              "#9c179e"
             ],
             [
              0.4444444444444444,
              "#bd3786"
             ],
             [
              0.5555555555555556,
              "#d8576b"
             ],
             [
              0.6666666666666666,
              "#ed7953"
             ],
             [
              0.7777777777777778,
              "#fb9f3a"
             ],
             [
              0.8888888888888888,
              "#fdca26"
             ],
             [
              1,
              "#f0f921"
             ]
            ],
            "type": "heatmap"
           }
          ],
          "heatmapgl": [
           {
            "colorbar": {
             "outlinewidth": 0,
             "ticks": ""
            },
            "colorscale": [
             [
              0,
              "#0d0887"
             ],
             [
              0.1111111111111111,
              "#46039f"
             ],
             [
              0.2222222222222222,
              "#7201a8"
             ],
             [
              0.3333333333333333,
              "#9c179e"
             ],
             [
              0.4444444444444444,
              "#bd3786"
             ],
             [
              0.5555555555555556,
              "#d8576b"
             ],
             [
              0.6666666666666666,
              "#ed7953"
             ],
             [
              0.7777777777777778,
              "#fb9f3a"
             ],
             [
              0.8888888888888888,
              "#fdca26"
             ],
             [
              1,
              "#f0f921"
             ]
            ],
            "type": "heatmapgl"
           }
          ],
          "histogram": [
           {
            "marker": {
             "colorbar": {
              "outlinewidth": 0,
              "ticks": ""
             }
            },
            "type": "histogram"
           }
          ],
          "histogram2d": [
           {
            "colorbar": {
             "outlinewidth": 0,
             "ticks": ""
            },
            "colorscale": [
             [
              0,
              "#0d0887"
             ],
             [
              0.1111111111111111,
              "#46039f"
             ],
             [
              0.2222222222222222,
              "#7201a8"
             ],
             [
              0.3333333333333333,
              "#9c179e"
             ],
             [
              0.4444444444444444,
              "#bd3786"
             ],
             [
              0.5555555555555556,
              "#d8576b"
             ],
             [
              0.6666666666666666,
              "#ed7953"
             ],
             [
              0.7777777777777778,
              "#fb9f3a"
             ],
             [
              0.8888888888888888,
              "#fdca26"
             ],
             [
              1,
              "#f0f921"
             ]
            ],
            "type": "histogram2d"
           }
          ],
          "histogram2dcontour": [
           {
            "colorbar": {
             "outlinewidth": 0,
             "ticks": ""
            },
            "colorscale": [
             [
              0,
              "#0d0887"
             ],
             [
              0.1111111111111111,
              "#46039f"
             ],
             [
              0.2222222222222222,
              "#7201a8"
             ],
             [
              0.3333333333333333,
              "#9c179e"
             ],
             [
              0.4444444444444444,
              "#bd3786"
             ],
             [
              0.5555555555555556,
              "#d8576b"
             ],
             [
              0.6666666666666666,
              "#ed7953"
             ],
             [
              0.7777777777777778,
              "#fb9f3a"
             ],
             [
              0.8888888888888888,
              "#fdca26"
             ],
             [
              1,
              "#f0f921"
             ]
            ],
            "type": "histogram2dcontour"
           }
          ],
          "mesh3d": [
           {
            "colorbar": {
             "outlinewidth": 0,
             "ticks": ""
            },
            "type": "mesh3d"
           }
          ],
          "parcoords": [
           {
            "line": {
             "colorbar": {
              "outlinewidth": 0,
              "ticks": ""
             }
            },
            "type": "parcoords"
           }
          ],
          "pie": [
           {
            "automargin": true,
            "type": "pie"
           }
          ],
          "scatter": [
           {
            "marker": {
             "colorbar": {
              "outlinewidth": 0,
              "ticks": ""
             }
            },
            "type": "scatter"
           }
          ],
          "scatter3d": [
           {
            "line": {
             "colorbar": {
              "outlinewidth": 0,
              "ticks": ""
             }
            },
            "marker": {
             "colorbar": {
              "outlinewidth": 0,
              "ticks": ""
             }
            },
            "type": "scatter3d"
           }
          ],
          "scattercarpet": [
           {
            "marker": {
             "colorbar": {
              "outlinewidth": 0,
              "ticks": ""
             }
            },
            "type": "scattercarpet"
           }
          ],
          "scattergeo": [
           {
            "marker": {
             "colorbar": {
              "outlinewidth": 0,
              "ticks": ""
             }
            },
            "type": "scattergeo"
           }
          ],
          "scattergl": [
           {
            "marker": {
             "colorbar": {
              "outlinewidth": 0,
              "ticks": ""
             }
            },
            "type": "scattergl"
           }
          ],
          "scattermapbox": [
           {
            "marker": {
             "colorbar": {
              "outlinewidth": 0,
              "ticks": ""
             }
            },
            "type": "scattermapbox"
           }
          ],
          "scatterpolar": [
           {
            "marker": {
             "colorbar": {
              "outlinewidth": 0,
              "ticks": ""
             }
            },
            "type": "scatterpolar"
           }
          ],
          "scatterpolargl": [
           {
            "marker": {
             "colorbar": {
              "outlinewidth": 0,
              "ticks": ""
             }
            },
            "type": "scatterpolargl"
           }
          ],
          "scatterternary": [
           {
            "marker": {
             "colorbar": {
              "outlinewidth": 0,
              "ticks": ""
             }
            },
            "type": "scatterternary"
           }
          ],
          "surface": [
           {
            "colorbar": {
             "outlinewidth": 0,
             "ticks": ""
            },
            "colorscale": [
             [
              0,
              "#0d0887"
             ],
             [
              0.1111111111111111,
              "#46039f"
             ],
             [
              0.2222222222222222,
              "#7201a8"
             ],
             [
              0.3333333333333333,
              "#9c179e"
             ],
             [
              0.4444444444444444,
              "#bd3786"
             ],
             [
              0.5555555555555556,
              "#d8576b"
             ],
             [
              0.6666666666666666,
              "#ed7953"
             ],
             [
              0.7777777777777778,
              "#fb9f3a"
             ],
             [
              0.8888888888888888,
              "#fdca26"
             ],
             [
              1,
              "#f0f921"
             ]
            ],
            "type": "surface"
           }
          ],
          "table": [
           {
            "cells": {
             "fill": {
              "color": "#EBF0F8"
             },
             "line": {
              "color": "white"
             }
            },
            "header": {
             "fill": {
              "color": "#C8D4E3"
             },
             "line": {
              "color": "white"
             }
            },
            "type": "table"
           }
          ]
         },
         "layout": {
          "annotationdefaults": {
           "arrowcolor": "#2a3f5f",
           "arrowhead": 0,
           "arrowwidth": 1
          },
          "coloraxis": {
           "colorbar": {
            "outlinewidth": 0,
            "ticks": ""
           }
          },
          "colorscale": {
           "diverging": [
            [
             0,
             "#8e0152"
            ],
            [
             0.1,
             "#c51b7d"
            ],
            [
             0.2,
             "#de77ae"
            ],
            [
             0.3,
             "#f1b6da"
            ],
            [
             0.4,
             "#fde0ef"
            ],
            [
             0.5,
             "#f7f7f7"
            ],
            [
             0.6,
             "#e6f5d0"
            ],
            [
             0.7,
             "#b8e186"
            ],
            [
             0.8,
             "#7fbc41"
            ],
            [
             0.9,
             "#4d9221"
            ],
            [
             1,
             "#276419"
            ]
           ],
           "sequential": [
            [
             0,
             "#0d0887"
            ],
            [
             0.1111111111111111,
             "#46039f"
            ],
            [
             0.2222222222222222,
             "#7201a8"
            ],
            [
             0.3333333333333333,
             "#9c179e"
            ],
            [
             0.4444444444444444,
             "#bd3786"
            ],
            [
             0.5555555555555556,
             "#d8576b"
            ],
            [
             0.6666666666666666,
             "#ed7953"
            ],
            [
             0.7777777777777778,
             "#fb9f3a"
            ],
            [
             0.8888888888888888,
             "#fdca26"
            ],
            [
             1,
             "#f0f921"
            ]
           ],
           "sequentialminus": [
            [
             0,
             "#0d0887"
            ],
            [
             0.1111111111111111,
             "#46039f"
            ],
            [
             0.2222222222222222,
             "#7201a8"
            ],
            [
             0.3333333333333333,
             "#9c179e"
            ],
            [
             0.4444444444444444,
             "#bd3786"
            ],
            [
             0.5555555555555556,
             "#d8576b"
            ],
            [
             0.6666666666666666,
             "#ed7953"
            ],
            [
             0.7777777777777778,
             "#fb9f3a"
            ],
            [
             0.8888888888888888,
             "#fdca26"
            ],
            [
             1,
             "#f0f921"
            ]
           ]
          },
          "colorway": [
           "#636efa",
           "#EF553B",
           "#00cc96",
           "#ab63fa",
           "#FFA15A",
           "#19d3f3",
           "#FF6692",
           "#B6E880",
           "#FF97FF",
           "#FECB52"
          ],
          "font": {
           "color": "#2a3f5f"
          },
          "geo": {
           "bgcolor": "white",
           "lakecolor": "white",
           "landcolor": "#E5ECF6",
           "showlakes": true,
           "showland": true,
           "subunitcolor": "white"
          },
          "hoverlabel": {
           "align": "left"
          },
          "hovermode": "closest",
          "mapbox": {
           "style": "light"
          },
          "paper_bgcolor": "white",
          "plot_bgcolor": "#E5ECF6",
          "polar": {
           "angularaxis": {
            "gridcolor": "white",
            "linecolor": "white",
            "ticks": ""
           },
           "bgcolor": "#E5ECF6",
           "radialaxis": {
            "gridcolor": "white",
            "linecolor": "white",
            "ticks": ""
           }
          },
          "scene": {
           "xaxis": {
            "backgroundcolor": "#E5ECF6",
            "gridcolor": "white",
            "gridwidth": 2,
            "linecolor": "white",
            "showbackground": true,
            "ticks": "",
            "zerolinecolor": "white"
           },
           "yaxis": {
            "backgroundcolor": "#E5ECF6",
            "gridcolor": "white",
            "gridwidth": 2,
            "linecolor": "white",
            "showbackground": true,
            "ticks": "",
            "zerolinecolor": "white"
           },
           "zaxis": {
            "backgroundcolor": "#E5ECF6",
            "gridcolor": "white",
            "gridwidth": 2,
            "linecolor": "white",
            "showbackground": true,
            "ticks": "",
            "zerolinecolor": "white"
           }
          },
          "shapedefaults": {
           "line": {
            "color": "#2a3f5f"
           }
          },
          "ternary": {
           "aaxis": {
            "gridcolor": "white",
            "linecolor": "white",
            "ticks": ""
           },
           "baxis": {
            "gridcolor": "white",
            "linecolor": "white",
            "ticks": ""
           },
           "bgcolor": "#E5ECF6",
           "caxis": {
            "gridcolor": "white",
            "linecolor": "white",
            "ticks": ""
           }
          },
          "title": {
           "x": 0.05
          },
          "xaxis": {
           "automargin": true,
           "gridcolor": "white",
           "linecolor": "white",
           "ticks": "",
           "title": {
            "standoff": 15
           },
           "zerolinecolor": "white",
           "zerolinewidth": 2
          },
          "yaxis": {
           "automargin": true,
           "gridcolor": "white",
           "linecolor": "white",
           "ticks": "",
           "title": {
            "standoff": 15
           },
           "zerolinecolor": "white",
           "zerolinewidth": 2
          }
         }
        },
        "xaxis": {
         "anchor": "y",
         "domain": [
          0,
          1
         ],
         "title": {
          "text": "States Affected"
         }
        },
        "yaxis": {
         "anchor": "x",
         "domain": [
          0,
          1
         ],
         "title": {
          "text": "No. of Cases (on admission)"
         }
        }
       }
      },
      "text/html": [
       "<div>                            <div id=\"555aa4f4-1153-4d58-b76c-cf1acb8f65df\" class=\"plotly-graph-div\" style=\"height:525px; width:100%;\"></div>            <script type=\"text/javascript\">                require([\"plotly\"], function(Plotly) {                    window.PLOTLYENV=window.PLOTLYENV || {};                                    if (document.getElementById(\"555aa4f4-1153-4d58-b76c-cf1acb8f65df\")) {                    Plotly.newPlot(                        \"555aa4f4-1153-4d58-b76c-cf1acb8f65df\",                        [{\"alignmentgroup\": \"True\", \"hovertemplate\": \"States Affected=%{x}<br>No. of Cases (on admission)=%{y}<extra></extra>\", \"legendgroup\": \"\", \"marker\": {\"color\": \"#636efa\"}, \"name\": \"\", \"offsetgroup\": \"\", \"orientation\": \"v\", \"showlegend\": false, \"textposition\": \"auto\", \"type\": \"bar\", \"x\": [\"Lagos\", \"FCT\", \"Kaduna\", \"Plateau\", \"Rivers\", \"Oyo\", \"Edo\", \"Ogun\", \"Kano\", \"Ondo\", \"Kwara\", \"Delta\", \"Osun\", \"Enugu\", \"Nasarawa\", \"Katsina\", \"Gombe\", \"Ebonyi\", \"Akwa Ibom\", \"Anambra\", \"Abia\", \"Imo\", \"Bauchi\", \"Benue\", \"Borno\", \"Adamawa\", \"Taraba\", \"Niger\", \"Bayelsa\", \"Ekiti\", \"Sokoto\", \"Jigawa\", \"Yobe\", \"Kebbi\", \"Cross River\", \"Zamfara\", \"Kogi\"], \"xaxis\": \"x\", \"y\": [862, 183, 18, 4, 26, 12, 0, 10, 6, 27, 21, 22, 6, 0, 0, 21, 18, 5, 1, 64, -2, 0, 0, 15, 1, 4, 0, 5, 1, 6, 0, 6, 0, 42, 0, 3, 0], \"yaxis\": \"y\"}],                        {\"barmode\": \"relative\", \"legend\": {\"tracegroupgap\": 0}, \"margin\": {\"t\": 60}, \"template\": {\"data\": {\"bar\": [{\"error_x\": {\"color\": \"#2a3f5f\"}, \"error_y\": {\"color\": \"#2a3f5f\"}, \"marker\": {\"line\": {\"color\": \"#E5ECF6\", \"width\": 0.5}}, \"type\": \"bar\"}], \"barpolar\": [{\"marker\": {\"line\": {\"color\": \"#E5ECF6\", \"width\": 0.5}}, \"type\": \"barpolar\"}], \"carpet\": [{\"aaxis\": {\"endlinecolor\": \"#2a3f5f\", \"gridcolor\": \"white\", \"linecolor\": \"white\", \"minorgridcolor\": \"white\", \"startlinecolor\": \"#2a3f5f\"}, \"baxis\": {\"endlinecolor\": \"#2a3f5f\", \"gridcolor\": \"white\", \"linecolor\": \"white\", \"minorgridcolor\": \"white\", \"startlinecolor\": \"#2a3f5f\"}, \"type\": \"carpet\"}], \"choropleth\": [{\"colorbar\": {\"outlinewidth\": 0, \"ticks\": \"\"}, \"type\": \"choropleth\"}], \"contour\": [{\"colorbar\": {\"outlinewidth\": 0, \"ticks\": \"\"}, \"colorscale\": [[0.0, \"#0d0887\"], [0.1111111111111111, \"#46039f\"], [0.2222222222222222, \"#7201a8\"], [0.3333333333333333, \"#9c179e\"], [0.4444444444444444, \"#bd3786\"], [0.5555555555555556, \"#d8576b\"], [0.6666666666666666, \"#ed7953\"], [0.7777777777777778, \"#fb9f3a\"], [0.8888888888888888, \"#fdca26\"], [1.0, \"#f0f921\"]], \"type\": \"contour\"}], \"contourcarpet\": [{\"colorbar\": {\"outlinewidth\": 0, \"ticks\": \"\"}, \"type\": \"contourcarpet\"}], \"heatmap\": [{\"colorbar\": {\"outlinewidth\": 0, \"ticks\": \"\"}, \"colorscale\": [[0.0, \"#0d0887\"], [0.1111111111111111, \"#46039f\"], [0.2222222222222222, \"#7201a8\"], [0.3333333333333333, \"#9c179e\"], [0.4444444444444444, \"#bd3786\"], [0.5555555555555556, \"#d8576b\"], [0.6666666666666666, \"#ed7953\"], [0.7777777777777778, \"#fb9f3a\"], [0.8888888888888888, \"#fdca26\"], [1.0, \"#f0f921\"]], \"type\": \"heatmap\"}], \"heatmapgl\": [{\"colorbar\": {\"outlinewidth\": 0, \"ticks\": \"\"}, \"colorscale\": [[0.0, \"#0d0887\"], [0.1111111111111111, \"#46039f\"], [0.2222222222222222, \"#7201a8\"], [0.3333333333333333, \"#9c179e\"], [0.4444444444444444, \"#bd3786\"], [0.5555555555555556, \"#d8576b\"], [0.6666666666666666, \"#ed7953\"], [0.7777777777777778, \"#fb9f3a\"], [0.8888888888888888, \"#fdca26\"], [1.0, \"#f0f921\"]], \"type\": \"heatmapgl\"}], \"histogram\": [{\"marker\": {\"colorbar\": {\"outlinewidth\": 0, \"ticks\": \"\"}}, \"type\": \"histogram\"}], \"histogram2d\": [{\"colorbar\": {\"outlinewidth\": 0, \"ticks\": \"\"}, \"colorscale\": [[0.0, \"#0d0887\"], [0.1111111111111111, \"#46039f\"], [0.2222222222222222, \"#7201a8\"], [0.3333333333333333, \"#9c179e\"], [0.4444444444444444, \"#bd3786\"], [0.5555555555555556, \"#d8576b\"], [0.6666666666666666, \"#ed7953\"], [0.7777777777777778, \"#fb9f3a\"], [0.8888888888888888, \"#fdca26\"], [1.0, \"#f0f921\"]], \"type\": \"histogram2d\"}], \"histogram2dcontour\": [{\"colorbar\": {\"outlinewidth\": 0, \"ticks\": \"\"}, \"colorscale\": [[0.0, \"#0d0887\"], [0.1111111111111111, \"#46039f\"], [0.2222222222222222, \"#7201a8\"], [0.3333333333333333, \"#9c179e\"], [0.4444444444444444, \"#bd3786\"], [0.5555555555555556, \"#d8576b\"], [0.6666666666666666, \"#ed7953\"], [0.7777777777777778, \"#fb9f3a\"], [0.8888888888888888, \"#fdca26\"], [1.0, \"#f0f921\"]], \"type\": \"histogram2dcontour\"}], \"mesh3d\": [{\"colorbar\": {\"outlinewidth\": 0, \"ticks\": \"\"}, \"type\": \"mesh3d\"}], \"parcoords\": [{\"line\": {\"colorbar\": {\"outlinewidth\": 0, \"ticks\": \"\"}}, \"type\": \"parcoords\"}], \"pie\": [{\"automargin\": true, \"type\": \"pie\"}], \"scatter\": [{\"marker\": {\"colorbar\": {\"outlinewidth\": 0, \"ticks\": \"\"}}, \"type\": \"scatter\"}], \"scatter3d\": [{\"line\": {\"colorbar\": {\"outlinewidth\": 0, \"ticks\": \"\"}}, \"marker\": {\"colorbar\": {\"outlinewidth\": 0, \"ticks\": \"\"}}, \"type\": \"scatter3d\"}], \"scattercarpet\": [{\"marker\": {\"colorbar\": {\"outlinewidth\": 0, \"ticks\": \"\"}}, \"type\": \"scattercarpet\"}], \"scattergeo\": [{\"marker\": {\"colorbar\": {\"outlinewidth\": 0, \"ticks\": \"\"}}, \"type\": \"scattergeo\"}], \"scattergl\": [{\"marker\": {\"colorbar\": {\"outlinewidth\": 0, \"ticks\": \"\"}}, \"type\": \"scattergl\"}], \"scattermapbox\": [{\"marker\": {\"colorbar\": {\"outlinewidth\": 0, \"ticks\": \"\"}}, \"type\": \"scattermapbox\"}], \"scatterpolar\": [{\"marker\": {\"colorbar\": {\"outlinewidth\": 0, \"ticks\": \"\"}}, \"type\": \"scatterpolar\"}], \"scatterpolargl\": [{\"marker\": {\"colorbar\": {\"outlinewidth\": 0, \"ticks\": \"\"}}, \"type\": \"scatterpolargl\"}], \"scatterternary\": [{\"marker\": {\"colorbar\": {\"outlinewidth\": 0, \"ticks\": \"\"}}, \"type\": \"scatterternary\"}], \"surface\": [{\"colorbar\": {\"outlinewidth\": 0, \"ticks\": \"\"}, \"colorscale\": [[0.0, \"#0d0887\"], [0.1111111111111111, \"#46039f\"], [0.2222222222222222, \"#7201a8\"], [0.3333333333333333, \"#9c179e\"], [0.4444444444444444, \"#bd3786\"], [0.5555555555555556, \"#d8576b\"], [0.6666666666666666, \"#ed7953\"], [0.7777777777777778, \"#fb9f3a\"], [0.8888888888888888, \"#fdca26\"], [1.0, \"#f0f921\"]], \"type\": \"surface\"}], \"table\": [{\"cells\": {\"fill\": {\"color\": \"#EBF0F8\"}, \"line\": {\"color\": \"white\"}}, \"header\": {\"fill\": {\"color\": \"#C8D4E3\"}, \"line\": {\"color\": \"white\"}}, \"type\": \"table\"}]}, \"layout\": {\"annotationdefaults\": {\"arrowcolor\": \"#2a3f5f\", \"arrowhead\": 0, \"arrowwidth\": 1}, \"coloraxis\": {\"colorbar\": {\"outlinewidth\": 0, \"ticks\": \"\"}}, \"colorscale\": {\"diverging\": [[0, \"#8e0152\"], [0.1, \"#c51b7d\"], [0.2, \"#de77ae\"], [0.3, \"#f1b6da\"], [0.4, \"#fde0ef\"], [0.5, \"#f7f7f7\"], [0.6, \"#e6f5d0\"], [0.7, \"#b8e186\"], [0.8, \"#7fbc41\"], [0.9, \"#4d9221\"], [1, \"#276419\"]], \"sequential\": [[0.0, \"#0d0887\"], [0.1111111111111111, \"#46039f\"], [0.2222222222222222, \"#7201a8\"], [0.3333333333333333, \"#9c179e\"], [0.4444444444444444, \"#bd3786\"], [0.5555555555555556, \"#d8576b\"], [0.6666666666666666, \"#ed7953\"], [0.7777777777777778, \"#fb9f3a\"], [0.8888888888888888, \"#fdca26\"], [1.0, \"#f0f921\"]], \"sequentialminus\": [[0.0, \"#0d0887\"], [0.1111111111111111, \"#46039f\"], [0.2222222222222222, \"#7201a8\"], [0.3333333333333333, \"#9c179e\"], [0.4444444444444444, \"#bd3786\"], [0.5555555555555556, \"#d8576b\"], [0.6666666666666666, \"#ed7953\"], [0.7777777777777778, \"#fb9f3a\"], [0.8888888888888888, \"#fdca26\"], [1.0, \"#f0f921\"]]}, \"colorway\": [\"#636efa\", \"#EF553B\", \"#00cc96\", \"#ab63fa\", \"#FFA15A\", \"#19d3f3\", \"#FF6692\", \"#B6E880\", \"#FF97FF\", \"#FECB52\"], \"font\": {\"color\": \"#2a3f5f\"}, \"geo\": {\"bgcolor\": \"white\", \"lakecolor\": \"white\", \"landcolor\": \"#E5ECF6\", \"showlakes\": true, \"showland\": true, \"subunitcolor\": \"white\"}, \"hoverlabel\": {\"align\": \"left\"}, \"hovermode\": \"closest\", \"mapbox\": {\"style\": \"light\"}, \"paper_bgcolor\": \"white\", \"plot_bgcolor\": \"#E5ECF6\", \"polar\": {\"angularaxis\": {\"gridcolor\": \"white\", \"linecolor\": \"white\", \"ticks\": \"\"}, \"bgcolor\": \"#E5ECF6\", \"radialaxis\": {\"gridcolor\": \"white\", \"linecolor\": \"white\", \"ticks\": \"\"}}, \"scene\": {\"xaxis\": {\"backgroundcolor\": \"#E5ECF6\", \"gridcolor\": \"white\", \"gridwidth\": 2, \"linecolor\": \"white\", \"showbackground\": true, \"ticks\": \"\", \"zerolinecolor\": \"white\"}, \"yaxis\": {\"backgroundcolor\": \"#E5ECF6\", \"gridcolor\": \"white\", \"gridwidth\": 2, \"linecolor\": \"white\", \"showbackground\": true, \"ticks\": \"\", \"zerolinecolor\": \"white\"}, \"zaxis\": {\"backgroundcolor\": \"#E5ECF6\", \"gridcolor\": \"white\", \"gridwidth\": 2, \"linecolor\": \"white\", \"showbackground\": true, \"ticks\": \"\", \"zerolinecolor\": \"white\"}}, \"shapedefaults\": {\"line\": {\"color\": \"#2a3f5f\"}}, \"ternary\": {\"aaxis\": {\"gridcolor\": \"white\", \"linecolor\": \"white\", \"ticks\": \"\"}, \"baxis\": {\"gridcolor\": \"white\", \"linecolor\": \"white\", \"ticks\": \"\"}, \"bgcolor\": \"#E5ECF6\", \"caxis\": {\"gridcolor\": \"white\", \"linecolor\": \"white\", \"ticks\": \"\"}}, \"title\": {\"x\": 0.05}, \"xaxis\": {\"automargin\": true, \"gridcolor\": \"white\", \"linecolor\": \"white\", \"ticks\": \"\", \"title\": {\"standoff\": 15}, \"zerolinecolor\": \"white\", \"zerolinewidth\": 2}, \"yaxis\": {\"automargin\": true, \"gridcolor\": \"white\", \"linecolor\": \"white\", \"ticks\": \"\", \"title\": {\"standoff\": 15}, \"zerolinecolor\": \"white\", \"zerolinewidth\": 2}}}, \"xaxis\": {\"anchor\": \"y\", \"domain\": [0.0, 1.0], \"title\": {\"text\": \"States Affected\"}}, \"yaxis\": {\"anchor\": \"x\", \"domain\": [0.0, 1.0], \"title\": {\"text\": \"No. of Cases (on admission)\"}}},                        {\"responsive\": true}                    ).then(function(){\n",
       "                            \n",
       "var gd = document.getElementById('555aa4f4-1153-4d58-b76c-cf1acb8f65df');\n",
       "var x = new MutationObserver(function (mutations, observer) {{\n",
       "        var display = window.getComputedStyle(gd).display;\n",
       "        if (!display || display === 'none') {{\n",
       "            console.log([gd, 'removed!']);\n",
       "            Plotly.purge(gd);\n",
       "            observer.disconnect();\n",
       "        }}\n",
       "}});\n",
       "\n",
       "// Listen for the removal of the full notebook cells\n",
       "var notebookContainer = gd.closest('#notebook-container');\n",
       "if (notebookContainer) {{\n",
       "    x.observe(notebookContainer, {childList: true});\n",
       "}}\n",
       "\n",
       "// Listen for the clearing of the current output cell\n",
       "var outputEl = gd.closest('.output');\n",
       "if (outputEl) {{\n",
       "    x.observe(outputEl, {childList: true});\n",
       "}}\n",
       "\n",
       "                        })                };                });            </script>        </div>"
      ]
     },
     "metadata": {},
     "output_type": "display_data"
    }
   ],
   "source": [
    "px.bar(df,x = 'States Affected',y = 'No. of Cases (on admission)')"
   ]
  },
  {
   "cell_type": "markdown",
   "metadata": {},
   "source": [
    "**scroll over each bar for more information**"
   ]
  },
  {
   "cell_type": "markdown",
   "metadata": {},
   "source": [
    "Lagos state has the highest number of Admitted Cases."
   ]
  },
  {
   "cell_type": "markdown",
   "metadata": {},
   "source": [
    "# Number of Discharged cases"
   ]
  },
  {
   "cell_type": "code",
   "execution_count": 61,
   "metadata": {},
   "outputs": [
    {
     "data": {
      "application/vnd.plotly.v1+json": {
       "config": {
        "plotlyServerURL": "https://plot.ly"
       },
       "data": [
        {
         "alignmentgroup": "True",
         "hovertemplate": "States Affected=%{x}<br>No. Discharged=%{y}<extra></extra>",
         "legendgroup": "",
         "marker": {
          "color": "#636efa"
         },
         "name": "",
         "offsetgroup": "",
         "orientation": "v",
         "showlegend": false,
         "textposition": "auto",
         "type": "bar",
         "x": [
          "Lagos",
          "FCT",
          "Kaduna",
          "Plateau",
          "Rivers",
          "Oyo",
          "Edo",
          "Ogun",
          "Kano",
          "Ondo",
          "Kwara",
          "Delta",
          "Osun",
          "Enugu",
          "Nasarawa",
          "Katsina",
          "Gombe",
          "Ebonyi",
          "Akwa Ibom",
          "Anambra",
          "Abia",
          "Imo",
          "Bauchi",
          "Benue",
          "Borno",
          "Adamawa",
          "Taraba",
          "Niger",
          "Bayelsa",
          "Ekiti",
          "Sokoto",
          "Jigawa",
          "Yobe",
          "Kebbi",
          "Cross River",
          "Zamfara",
          "Kogi"
         ],
         "xaxis": "x",
         "y": [
          58515,
          19552,
          9040,
          9006,
          7208,
          6734,
          4725,
          4633,
          3889,
          3391,
          3068,
          2556,
          2520,
          2435,
          2345,
          2055,
          2036,
          2002,
          1912,
          1826,
          1673,
          1624,
          1532,
          1327,
          1305,
          1098,
          977,
          913,
          879,
          863,
          747,
          512,
          490,
          392,
          384,
          233,
          3
         ],
         "yaxis": "y"
        }
       ],
       "layout": {
        "barmode": "relative",
        "legend": {
         "tracegroupgap": 0
        },
        "margin": {
         "t": 60
        },
        "template": {
         "data": {
          "bar": [
           {
            "error_x": {
             "color": "#2a3f5f"
            },
            "error_y": {
             "color": "#2a3f5f"
            },
            "marker": {
             "line": {
              "color": "#E5ECF6",
              "width": 0.5
             }
            },
            "type": "bar"
           }
          ],
          "barpolar": [
           {
            "marker": {
             "line": {
              "color": "#E5ECF6",
              "width": 0.5
             }
            },
            "type": "barpolar"
           }
          ],
          "carpet": [
           {
            "aaxis": {
             "endlinecolor": "#2a3f5f",
             "gridcolor": "white",
             "linecolor": "white",
             "minorgridcolor": "white",
             "startlinecolor": "#2a3f5f"
            },
            "baxis": {
             "endlinecolor": "#2a3f5f",
             "gridcolor": "white",
             "linecolor": "white",
             "minorgridcolor": "white",
             "startlinecolor": "#2a3f5f"
            },
            "type": "carpet"
           }
          ],
          "choropleth": [
           {
            "colorbar": {
             "outlinewidth": 0,
             "ticks": ""
            },
            "type": "choropleth"
           }
          ],
          "contour": [
           {
            "colorbar": {
             "outlinewidth": 0,
             "ticks": ""
            },
            "colorscale": [
             [
              0,
              "#0d0887"
             ],
             [
              0.1111111111111111,
              "#46039f"
             ],
             [
              0.2222222222222222,
              "#7201a8"
             ],
             [
              0.3333333333333333,
              "#9c179e"
             ],
             [
              0.4444444444444444,
              "#bd3786"
             ],
             [
              0.5555555555555556,
              "#d8576b"
             ],
             [
              0.6666666666666666,
              "#ed7953"
             ],
             [
              0.7777777777777778,
              "#fb9f3a"
             ],
             [
              0.8888888888888888,
              "#fdca26"
             ],
             [
              1,
              "#f0f921"
             ]
            ],
            "type": "contour"
           }
          ],
          "contourcarpet": [
           {
            "colorbar": {
             "outlinewidth": 0,
             "ticks": ""
            },
            "type": "contourcarpet"
           }
          ],
          "heatmap": [
           {
            "colorbar": {
             "outlinewidth": 0,
             "ticks": ""
            },
            "colorscale": [
             [
              0,
              "#0d0887"
             ],
             [
              0.1111111111111111,
              "#46039f"
             ],
             [
              0.2222222222222222,
              "#7201a8"
             ],
             [
              0.3333333333333333,
              "#9c179e"
             ],
             [
              0.4444444444444444,
              "#bd3786"
             ],
             [
              0.5555555555555556,
              "#d8576b"
             ],
             [
              0.6666666666666666,
              "#ed7953"
             ],
             [
              0.7777777777777778,
              "#fb9f3a"
             ],
             [
              0.8888888888888888,
              "#fdca26"
             ],
             [
              1,
              "#f0f921"
             ]
            ],
            "type": "heatmap"
           }
          ],
          "heatmapgl": [
           {
            "colorbar": {
             "outlinewidth": 0,
             "ticks": ""
            },
            "colorscale": [
             [
              0,
              "#0d0887"
             ],
             [
              0.1111111111111111,
              "#46039f"
             ],
             [
              0.2222222222222222,
              "#7201a8"
             ],
             [
              0.3333333333333333,
              "#9c179e"
             ],
             [
              0.4444444444444444,
              "#bd3786"
             ],
             [
              0.5555555555555556,
              "#d8576b"
             ],
             [
              0.6666666666666666,
              "#ed7953"
             ],
             [
              0.7777777777777778,
              "#fb9f3a"
             ],
             [
              0.8888888888888888,
              "#fdca26"
             ],
             [
              1,
              "#f0f921"
             ]
            ],
            "type": "heatmapgl"
           }
          ],
          "histogram": [
           {
            "marker": {
             "colorbar": {
              "outlinewidth": 0,
              "ticks": ""
             }
            },
            "type": "histogram"
           }
          ],
          "histogram2d": [
           {
            "colorbar": {
             "outlinewidth": 0,
             "ticks": ""
            },
            "colorscale": [
             [
              0,
              "#0d0887"
             ],
             [
              0.1111111111111111,
              "#46039f"
             ],
             [
              0.2222222222222222,
              "#7201a8"
             ],
             [
              0.3333333333333333,
              "#9c179e"
             ],
             [
              0.4444444444444444,
              "#bd3786"
             ],
             [
              0.5555555555555556,
              "#d8576b"
             ],
             [
              0.6666666666666666,
              "#ed7953"
             ],
             [
              0.7777777777777778,
              "#fb9f3a"
             ],
             [
              0.8888888888888888,
              "#fdca26"
             ],
             [
              1,
              "#f0f921"
             ]
            ],
            "type": "histogram2d"
           }
          ],
          "histogram2dcontour": [
           {
            "colorbar": {
             "outlinewidth": 0,
             "ticks": ""
            },
            "colorscale": [
             [
              0,
              "#0d0887"
             ],
             [
              0.1111111111111111,
              "#46039f"
             ],
             [
              0.2222222222222222,
              "#7201a8"
             ],
             [
              0.3333333333333333,
              "#9c179e"
             ],
             [
              0.4444444444444444,
              "#bd3786"
             ],
             [
              0.5555555555555556,
              "#d8576b"
             ],
             [
              0.6666666666666666,
              "#ed7953"
             ],
             [
              0.7777777777777778,
              "#fb9f3a"
             ],
             [
              0.8888888888888888,
              "#fdca26"
             ],
             [
              1,
              "#f0f921"
             ]
            ],
            "type": "histogram2dcontour"
           }
          ],
          "mesh3d": [
           {
            "colorbar": {
             "outlinewidth": 0,
             "ticks": ""
            },
            "type": "mesh3d"
           }
          ],
          "parcoords": [
           {
            "line": {
             "colorbar": {
              "outlinewidth": 0,
              "ticks": ""
             }
            },
            "type": "parcoords"
           }
          ],
          "pie": [
           {
            "automargin": true,
            "type": "pie"
           }
          ],
          "scatter": [
           {
            "marker": {
             "colorbar": {
              "outlinewidth": 0,
              "ticks": ""
             }
            },
            "type": "scatter"
           }
          ],
          "scatter3d": [
           {
            "line": {
             "colorbar": {
              "outlinewidth": 0,
              "ticks": ""
             }
            },
            "marker": {
             "colorbar": {
              "outlinewidth": 0,
              "ticks": ""
             }
            },
            "type": "scatter3d"
           }
          ],
          "scattercarpet": [
           {
            "marker": {
             "colorbar": {
              "outlinewidth": 0,
              "ticks": ""
             }
            },
            "type": "scattercarpet"
           }
          ],
          "scattergeo": [
           {
            "marker": {
             "colorbar": {
              "outlinewidth": 0,
              "ticks": ""
             }
            },
            "type": "scattergeo"
           }
          ],
          "scattergl": [
           {
            "marker": {
             "colorbar": {
              "outlinewidth": 0,
              "ticks": ""
             }
            },
            "type": "scattergl"
           }
          ],
          "scattermapbox": [
           {
            "marker": {
             "colorbar": {
              "outlinewidth": 0,
              "ticks": ""
             }
            },
            "type": "scattermapbox"
           }
          ],
          "scatterpolar": [
           {
            "marker": {
             "colorbar": {
              "outlinewidth": 0,
              "ticks": ""
             }
            },
            "type": "scatterpolar"
           }
          ],
          "scatterpolargl": [
           {
            "marker": {
             "colorbar": {
              "outlinewidth": 0,
              "ticks": ""
             }
            },
            "type": "scatterpolargl"
           }
          ],
          "scatterternary": [
           {
            "marker": {
             "colorbar": {
              "outlinewidth": 0,
              "ticks": ""
             }
            },
            "type": "scatterternary"
           }
          ],
          "surface": [
           {
            "colorbar": {
             "outlinewidth": 0,
             "ticks": ""
            },
            "colorscale": [
             [
              0,
              "#0d0887"
             ],
             [
              0.1111111111111111,
              "#46039f"
             ],
             [
              0.2222222222222222,
              "#7201a8"
             ],
             [
              0.3333333333333333,
              "#9c179e"
             ],
             [
              0.4444444444444444,
              "#bd3786"
             ],
             [
              0.5555555555555556,
              "#d8576b"
             ],
             [
              0.6666666666666666,
              "#ed7953"
             ],
             [
              0.7777777777777778,
              "#fb9f3a"
             ],
             [
              0.8888888888888888,
              "#fdca26"
             ],
             [
              1,
              "#f0f921"
             ]
            ],
            "type": "surface"
           }
          ],
          "table": [
           {
            "cells": {
             "fill": {
              "color": "#EBF0F8"
             },
             "line": {
              "color": "white"
             }
            },
            "header": {
             "fill": {
              "color": "#C8D4E3"
             },
             "line": {
              "color": "white"
             }
            },
            "type": "table"
           }
          ]
         },
         "layout": {
          "annotationdefaults": {
           "arrowcolor": "#2a3f5f",
           "arrowhead": 0,
           "arrowwidth": 1
          },
          "coloraxis": {
           "colorbar": {
            "outlinewidth": 0,
            "ticks": ""
           }
          },
          "colorscale": {
           "diverging": [
            [
             0,
             "#8e0152"
            ],
            [
             0.1,
             "#c51b7d"
            ],
            [
             0.2,
             "#de77ae"
            ],
            [
             0.3,
             "#f1b6da"
            ],
            [
             0.4,
             "#fde0ef"
            ],
            [
             0.5,
             "#f7f7f7"
            ],
            [
             0.6,
             "#e6f5d0"
            ],
            [
             0.7,
             "#b8e186"
            ],
            [
             0.8,
             "#7fbc41"
            ],
            [
             0.9,
             "#4d9221"
            ],
            [
             1,
             "#276419"
            ]
           ],
           "sequential": [
            [
             0,
             "#0d0887"
            ],
            [
             0.1111111111111111,
             "#46039f"
            ],
            [
             0.2222222222222222,
             "#7201a8"
            ],
            [
             0.3333333333333333,
             "#9c179e"
            ],
            [
             0.4444444444444444,
             "#bd3786"
            ],
            [
             0.5555555555555556,
             "#d8576b"
            ],
            [
             0.6666666666666666,
             "#ed7953"
            ],
            [
             0.7777777777777778,
             "#fb9f3a"
            ],
            [
             0.8888888888888888,
             "#fdca26"
            ],
            [
             1,
             "#f0f921"
            ]
           ],
           "sequentialminus": [
            [
             0,
             "#0d0887"
            ],
            [
             0.1111111111111111,
             "#46039f"
            ],
            [
             0.2222222222222222,
             "#7201a8"
            ],
            [
             0.3333333333333333,
             "#9c179e"
            ],
            [
             0.4444444444444444,
             "#bd3786"
            ],
            [
             0.5555555555555556,
             "#d8576b"
            ],
            [
             0.6666666666666666,
             "#ed7953"
            ],
            [
             0.7777777777777778,
             "#fb9f3a"
            ],
            [
             0.8888888888888888,
             "#fdca26"
            ],
            [
             1,
             "#f0f921"
            ]
           ]
          },
          "colorway": [
           "#636efa",
           "#EF553B",
           "#00cc96",
           "#ab63fa",
           "#FFA15A",
           "#19d3f3",
           "#FF6692",
           "#B6E880",
           "#FF97FF",
           "#FECB52"
          ],
          "font": {
           "color": "#2a3f5f"
          },
          "geo": {
           "bgcolor": "white",
           "lakecolor": "white",
           "landcolor": "#E5ECF6",
           "showlakes": true,
           "showland": true,
           "subunitcolor": "white"
          },
          "hoverlabel": {
           "align": "left"
          },
          "hovermode": "closest",
          "mapbox": {
           "style": "light"
          },
          "paper_bgcolor": "white",
          "plot_bgcolor": "#E5ECF6",
          "polar": {
           "angularaxis": {
            "gridcolor": "white",
            "linecolor": "white",
            "ticks": ""
           },
           "bgcolor": "#E5ECF6",
           "radialaxis": {
            "gridcolor": "white",
            "linecolor": "white",
            "ticks": ""
           }
          },
          "scene": {
           "xaxis": {
            "backgroundcolor": "#E5ECF6",
            "gridcolor": "white",
            "gridwidth": 2,
            "linecolor": "white",
            "showbackground": true,
            "ticks": "",
            "zerolinecolor": "white"
           },
           "yaxis": {
            "backgroundcolor": "#E5ECF6",
            "gridcolor": "white",
            "gridwidth": 2,
            "linecolor": "white",
            "showbackground": true,
            "ticks": "",
            "zerolinecolor": "white"
           },
           "zaxis": {
            "backgroundcolor": "#E5ECF6",
            "gridcolor": "white",
            "gridwidth": 2,
            "linecolor": "white",
            "showbackground": true,
            "ticks": "",
            "zerolinecolor": "white"
           }
          },
          "shapedefaults": {
           "line": {
            "color": "#2a3f5f"
           }
          },
          "ternary": {
           "aaxis": {
            "gridcolor": "white",
            "linecolor": "white",
            "ticks": ""
           },
           "baxis": {
            "gridcolor": "white",
            "linecolor": "white",
            "ticks": ""
           },
           "bgcolor": "#E5ECF6",
           "caxis": {
            "gridcolor": "white",
            "linecolor": "white",
            "ticks": ""
           }
          },
          "title": {
           "x": 0.05
          },
          "xaxis": {
           "automargin": true,
           "gridcolor": "white",
           "linecolor": "white",
           "ticks": "",
           "title": {
            "standoff": 15
           },
           "zerolinecolor": "white",
           "zerolinewidth": 2
          },
          "yaxis": {
           "automargin": true,
           "gridcolor": "white",
           "linecolor": "white",
           "ticks": "",
           "title": {
            "standoff": 15
           },
           "zerolinecolor": "white",
           "zerolinewidth": 2
          }
         }
        },
        "xaxis": {
         "anchor": "y",
         "domain": [
          0,
          1
         ],
         "title": {
          "text": "States Affected"
         }
        },
        "yaxis": {
         "anchor": "x",
         "domain": [
          0,
          1
         ],
         "title": {
          "text": "No. Discharged"
         }
        }
       }
      },
      "text/html": [
       "<div>                            <div id=\"508c72e7-9560-42da-af13-86da0f4e90bd\" class=\"plotly-graph-div\" style=\"height:525px; width:100%;\"></div>            <script type=\"text/javascript\">                require([\"plotly\"], function(Plotly) {                    window.PLOTLYENV=window.PLOTLYENV || {};                                    if (document.getElementById(\"508c72e7-9560-42da-af13-86da0f4e90bd\")) {                    Plotly.newPlot(                        \"508c72e7-9560-42da-af13-86da0f4e90bd\",                        [{\"alignmentgroup\": \"True\", \"hovertemplate\": \"States Affected=%{x}<br>No. Discharged=%{y}<extra></extra>\", \"legendgroup\": \"\", \"marker\": {\"color\": \"#636efa\"}, \"name\": \"\", \"offsetgroup\": \"\", \"orientation\": \"v\", \"showlegend\": false, \"textposition\": \"auto\", \"type\": \"bar\", \"x\": [\"Lagos\", \"FCT\", \"Kaduna\", \"Plateau\", \"Rivers\", \"Oyo\", \"Edo\", \"Ogun\", \"Kano\", \"Ondo\", \"Kwara\", \"Delta\", \"Osun\", \"Enugu\", \"Nasarawa\", \"Katsina\", \"Gombe\", \"Ebonyi\", \"Akwa Ibom\", \"Anambra\", \"Abia\", \"Imo\", \"Bauchi\", \"Benue\", \"Borno\", \"Adamawa\", \"Taraba\", \"Niger\", \"Bayelsa\", \"Ekiti\", \"Sokoto\", \"Jigawa\", \"Yobe\", \"Kebbi\", \"Cross River\", \"Zamfara\", \"Kogi\"], \"xaxis\": \"x\", \"y\": [58515, 19552, 9040, 9006, 7208, 6734, 4725, 4633, 3889, 3391, 3068, 2556, 2520, 2435, 2345, 2055, 2036, 2002, 1912, 1826, 1673, 1624, 1532, 1327, 1305, 1098, 977, 913, 879, 863, 747, 512, 490, 392, 384, 233, 3], \"yaxis\": \"y\"}],                        {\"barmode\": \"relative\", \"legend\": {\"tracegroupgap\": 0}, \"margin\": {\"t\": 60}, \"template\": {\"data\": {\"bar\": [{\"error_x\": {\"color\": \"#2a3f5f\"}, \"error_y\": {\"color\": \"#2a3f5f\"}, \"marker\": {\"line\": {\"color\": \"#E5ECF6\", \"width\": 0.5}}, \"type\": \"bar\"}], \"barpolar\": [{\"marker\": {\"line\": {\"color\": \"#E5ECF6\", \"width\": 0.5}}, \"type\": \"barpolar\"}], \"carpet\": [{\"aaxis\": {\"endlinecolor\": \"#2a3f5f\", \"gridcolor\": \"white\", \"linecolor\": \"white\", \"minorgridcolor\": \"white\", \"startlinecolor\": \"#2a3f5f\"}, \"baxis\": {\"endlinecolor\": \"#2a3f5f\", \"gridcolor\": \"white\", \"linecolor\": \"white\", \"minorgridcolor\": \"white\", \"startlinecolor\": \"#2a3f5f\"}, \"type\": \"carpet\"}], \"choropleth\": [{\"colorbar\": {\"outlinewidth\": 0, \"ticks\": \"\"}, \"type\": \"choropleth\"}], \"contour\": [{\"colorbar\": {\"outlinewidth\": 0, \"ticks\": \"\"}, \"colorscale\": [[0.0, \"#0d0887\"], [0.1111111111111111, \"#46039f\"], [0.2222222222222222, \"#7201a8\"], [0.3333333333333333, \"#9c179e\"], [0.4444444444444444, \"#bd3786\"], [0.5555555555555556, \"#d8576b\"], [0.6666666666666666, \"#ed7953\"], [0.7777777777777778, \"#fb9f3a\"], [0.8888888888888888, \"#fdca26\"], [1.0, \"#f0f921\"]], \"type\": \"contour\"}], \"contourcarpet\": [{\"colorbar\": {\"outlinewidth\": 0, \"ticks\": \"\"}, \"type\": \"contourcarpet\"}], \"heatmap\": [{\"colorbar\": {\"outlinewidth\": 0, \"ticks\": \"\"}, \"colorscale\": [[0.0, \"#0d0887\"], [0.1111111111111111, \"#46039f\"], [0.2222222222222222, \"#7201a8\"], [0.3333333333333333, \"#9c179e\"], [0.4444444444444444, \"#bd3786\"], [0.5555555555555556, \"#d8576b\"], [0.6666666666666666, \"#ed7953\"], [0.7777777777777778, \"#fb9f3a\"], [0.8888888888888888, \"#fdca26\"], [1.0, \"#f0f921\"]], \"type\": \"heatmap\"}], \"heatmapgl\": [{\"colorbar\": {\"outlinewidth\": 0, \"ticks\": \"\"}, \"colorscale\": [[0.0, \"#0d0887\"], [0.1111111111111111, \"#46039f\"], [0.2222222222222222, \"#7201a8\"], [0.3333333333333333, \"#9c179e\"], [0.4444444444444444, \"#bd3786\"], [0.5555555555555556, \"#d8576b\"], [0.6666666666666666, \"#ed7953\"], [0.7777777777777778, \"#fb9f3a\"], [0.8888888888888888, \"#fdca26\"], [1.0, \"#f0f921\"]], \"type\": \"heatmapgl\"}], \"histogram\": [{\"marker\": {\"colorbar\": {\"outlinewidth\": 0, \"ticks\": \"\"}}, \"type\": \"histogram\"}], \"histogram2d\": [{\"colorbar\": {\"outlinewidth\": 0, \"ticks\": \"\"}, \"colorscale\": [[0.0, \"#0d0887\"], [0.1111111111111111, \"#46039f\"], [0.2222222222222222, \"#7201a8\"], [0.3333333333333333, \"#9c179e\"], [0.4444444444444444, \"#bd3786\"], [0.5555555555555556, \"#d8576b\"], [0.6666666666666666, \"#ed7953\"], [0.7777777777777778, \"#fb9f3a\"], [0.8888888888888888, \"#fdca26\"], [1.0, \"#f0f921\"]], \"type\": \"histogram2d\"}], \"histogram2dcontour\": [{\"colorbar\": {\"outlinewidth\": 0, \"ticks\": \"\"}, \"colorscale\": [[0.0, \"#0d0887\"], [0.1111111111111111, \"#46039f\"], [0.2222222222222222, \"#7201a8\"], [0.3333333333333333, \"#9c179e\"], [0.4444444444444444, \"#bd3786\"], [0.5555555555555556, \"#d8576b\"], [0.6666666666666666, \"#ed7953\"], [0.7777777777777778, \"#fb9f3a\"], [0.8888888888888888, \"#fdca26\"], [1.0, \"#f0f921\"]], \"type\": \"histogram2dcontour\"}], \"mesh3d\": [{\"colorbar\": {\"outlinewidth\": 0, \"ticks\": \"\"}, \"type\": \"mesh3d\"}], \"parcoords\": [{\"line\": {\"colorbar\": {\"outlinewidth\": 0, \"ticks\": \"\"}}, \"type\": \"parcoords\"}], \"pie\": [{\"automargin\": true, \"type\": \"pie\"}], \"scatter\": [{\"marker\": {\"colorbar\": {\"outlinewidth\": 0, \"ticks\": \"\"}}, \"type\": \"scatter\"}], \"scatter3d\": [{\"line\": {\"colorbar\": {\"outlinewidth\": 0, \"ticks\": \"\"}}, \"marker\": {\"colorbar\": {\"outlinewidth\": 0, \"ticks\": \"\"}}, \"type\": \"scatter3d\"}], \"scattercarpet\": [{\"marker\": {\"colorbar\": {\"outlinewidth\": 0, \"ticks\": \"\"}}, \"type\": \"scattercarpet\"}], \"scattergeo\": [{\"marker\": {\"colorbar\": {\"outlinewidth\": 0, \"ticks\": \"\"}}, \"type\": \"scattergeo\"}], \"scattergl\": [{\"marker\": {\"colorbar\": {\"outlinewidth\": 0, \"ticks\": \"\"}}, \"type\": \"scattergl\"}], \"scattermapbox\": [{\"marker\": {\"colorbar\": {\"outlinewidth\": 0, \"ticks\": \"\"}}, \"type\": \"scattermapbox\"}], \"scatterpolar\": [{\"marker\": {\"colorbar\": {\"outlinewidth\": 0, \"ticks\": \"\"}}, \"type\": \"scatterpolar\"}], \"scatterpolargl\": [{\"marker\": {\"colorbar\": {\"outlinewidth\": 0, \"ticks\": \"\"}}, \"type\": \"scatterpolargl\"}], \"scatterternary\": [{\"marker\": {\"colorbar\": {\"outlinewidth\": 0, \"ticks\": \"\"}}, \"type\": \"scatterternary\"}], \"surface\": [{\"colorbar\": {\"outlinewidth\": 0, \"ticks\": \"\"}, \"colorscale\": [[0.0, \"#0d0887\"], [0.1111111111111111, \"#46039f\"], [0.2222222222222222, \"#7201a8\"], [0.3333333333333333, \"#9c179e\"], [0.4444444444444444, \"#bd3786\"], [0.5555555555555556, \"#d8576b\"], [0.6666666666666666, \"#ed7953\"], [0.7777777777777778, \"#fb9f3a\"], [0.8888888888888888, \"#fdca26\"], [1.0, \"#f0f921\"]], \"type\": \"surface\"}], \"table\": [{\"cells\": {\"fill\": {\"color\": \"#EBF0F8\"}, \"line\": {\"color\": \"white\"}}, \"header\": {\"fill\": {\"color\": \"#C8D4E3\"}, \"line\": {\"color\": \"white\"}}, \"type\": \"table\"}]}, \"layout\": {\"annotationdefaults\": {\"arrowcolor\": \"#2a3f5f\", \"arrowhead\": 0, \"arrowwidth\": 1}, \"coloraxis\": {\"colorbar\": {\"outlinewidth\": 0, \"ticks\": \"\"}}, \"colorscale\": {\"diverging\": [[0, \"#8e0152\"], [0.1, \"#c51b7d\"], [0.2, \"#de77ae\"], [0.3, \"#f1b6da\"], [0.4, \"#fde0ef\"], [0.5, \"#f7f7f7\"], [0.6, \"#e6f5d0\"], [0.7, \"#b8e186\"], [0.8, \"#7fbc41\"], [0.9, \"#4d9221\"], [1, \"#276419\"]], \"sequential\": [[0.0, \"#0d0887\"], [0.1111111111111111, \"#46039f\"], [0.2222222222222222, \"#7201a8\"], [0.3333333333333333, \"#9c179e\"], [0.4444444444444444, \"#bd3786\"], [0.5555555555555556, \"#d8576b\"], [0.6666666666666666, \"#ed7953\"], [0.7777777777777778, \"#fb9f3a\"], [0.8888888888888888, \"#fdca26\"], [1.0, \"#f0f921\"]], \"sequentialminus\": [[0.0, \"#0d0887\"], [0.1111111111111111, \"#46039f\"], [0.2222222222222222, \"#7201a8\"], [0.3333333333333333, \"#9c179e\"], [0.4444444444444444, \"#bd3786\"], [0.5555555555555556, \"#d8576b\"], [0.6666666666666666, \"#ed7953\"], [0.7777777777777778, \"#fb9f3a\"], [0.8888888888888888, \"#fdca26\"], [1.0, \"#f0f921\"]]}, \"colorway\": [\"#636efa\", \"#EF553B\", \"#00cc96\", \"#ab63fa\", \"#FFA15A\", \"#19d3f3\", \"#FF6692\", \"#B6E880\", \"#FF97FF\", \"#FECB52\"], \"font\": {\"color\": \"#2a3f5f\"}, \"geo\": {\"bgcolor\": \"white\", \"lakecolor\": \"white\", \"landcolor\": \"#E5ECF6\", \"showlakes\": true, \"showland\": true, \"subunitcolor\": \"white\"}, \"hoverlabel\": {\"align\": \"left\"}, \"hovermode\": \"closest\", \"mapbox\": {\"style\": \"light\"}, \"paper_bgcolor\": \"white\", \"plot_bgcolor\": \"#E5ECF6\", \"polar\": {\"angularaxis\": {\"gridcolor\": \"white\", \"linecolor\": \"white\", \"ticks\": \"\"}, \"bgcolor\": \"#E5ECF6\", \"radialaxis\": {\"gridcolor\": \"white\", \"linecolor\": \"white\", \"ticks\": \"\"}}, \"scene\": {\"xaxis\": {\"backgroundcolor\": \"#E5ECF6\", \"gridcolor\": \"white\", \"gridwidth\": 2, \"linecolor\": \"white\", \"showbackground\": true, \"ticks\": \"\", \"zerolinecolor\": \"white\"}, \"yaxis\": {\"backgroundcolor\": \"#E5ECF6\", \"gridcolor\": \"white\", \"gridwidth\": 2, \"linecolor\": \"white\", \"showbackground\": true, \"ticks\": \"\", \"zerolinecolor\": \"white\"}, \"zaxis\": {\"backgroundcolor\": \"#E5ECF6\", \"gridcolor\": \"white\", \"gridwidth\": 2, \"linecolor\": \"white\", \"showbackground\": true, \"ticks\": \"\", \"zerolinecolor\": \"white\"}}, \"shapedefaults\": {\"line\": {\"color\": \"#2a3f5f\"}}, \"ternary\": {\"aaxis\": {\"gridcolor\": \"white\", \"linecolor\": \"white\", \"ticks\": \"\"}, \"baxis\": {\"gridcolor\": \"white\", \"linecolor\": \"white\", \"ticks\": \"\"}, \"bgcolor\": \"#E5ECF6\", \"caxis\": {\"gridcolor\": \"white\", \"linecolor\": \"white\", \"ticks\": \"\"}}, \"title\": {\"x\": 0.05}, \"xaxis\": {\"automargin\": true, \"gridcolor\": \"white\", \"linecolor\": \"white\", \"ticks\": \"\", \"title\": {\"standoff\": 15}, \"zerolinecolor\": \"white\", \"zerolinewidth\": 2}, \"yaxis\": {\"automargin\": true, \"gridcolor\": \"white\", \"linecolor\": \"white\", \"ticks\": \"\", \"title\": {\"standoff\": 15}, \"zerolinecolor\": \"white\", \"zerolinewidth\": 2}}}, \"xaxis\": {\"anchor\": \"y\", \"domain\": [0.0, 1.0], \"title\": {\"text\": \"States Affected\"}}, \"yaxis\": {\"anchor\": \"x\", \"domain\": [0.0, 1.0], \"title\": {\"text\": \"No. Discharged\"}}},                        {\"responsive\": true}                    ).then(function(){\n",
       "                            \n",
       "var gd = document.getElementById('508c72e7-9560-42da-af13-86da0f4e90bd');\n",
       "var x = new MutationObserver(function (mutations, observer) {{\n",
       "        var display = window.getComputedStyle(gd).display;\n",
       "        if (!display || display === 'none') {{\n",
       "            console.log([gd, 'removed!']);\n",
       "            Plotly.purge(gd);\n",
       "            observer.disconnect();\n",
       "        }}\n",
       "}});\n",
       "\n",
       "// Listen for the removal of the full notebook cells\n",
       "var notebookContainer = gd.closest('#notebook-container');\n",
       "if (notebookContainer) {{\n",
       "    x.observe(notebookContainer, {childList: true});\n",
       "}}\n",
       "\n",
       "// Listen for the clearing of the current output cell\n",
       "var outputEl = gd.closest('.output');\n",
       "if (outputEl) {{\n",
       "    x.observe(outputEl, {childList: true});\n",
       "}}\n",
       "\n",
       "                        })                };                });            </script>        </div>"
      ]
     },
     "metadata": {},
     "output_type": "display_data"
    }
   ],
   "source": [
    "px.bar(df,x = 'States Affected',y = 'No. Discharged')"
   ]
  },
  {
   "cell_type": "markdown",
   "metadata": {},
   "source": [
    "**scroll over each bar for more information**"
   ]
  },
  {
   "cell_type": "markdown",
   "metadata": {},
   "source": [
    "Lagos state has the highest number of Discharged Cases and Kogi state has the lowest number of Discharged Cases"
   ]
  },
  {
   "cell_type": "markdown",
   "metadata": {},
   "source": [
    "# Number of Deaths"
   ]
  },
  {
   "cell_type": "code",
   "execution_count": 63,
   "metadata": {},
   "outputs": [
    {
     "data": {
      "application/vnd.plotly.v1+json": {
       "config": {
        "plotlyServerURL": "https://plot.ly"
       },
       "data": [
        {
         "alignmentgroup": "True",
         "hovertemplate": "States Affected=%{x}<br>No. of Deaths=%{y}<extra></extra>",
         "legendgroup": "",
         "marker": {
          "color": "#636efa"
         },
         "name": "",
         "offsetgroup": "",
         "orientation": "v",
         "showlegend": false,
         "textposition": "auto",
         "type": "bar",
         "x": [
          "Lagos",
          "FCT",
          "Kaduna",
          "Plateau",
          "Rivers",
          "Oyo",
          "Edo",
          "Ogun",
          "Kano",
          "Ondo",
          "Kwara",
          "Delta",
          "Osun",
          "Enugu",
          "Nasarawa",
          "Katsina",
          "Gombe",
          "Ebonyi",
          "Akwa Ibom",
          "Anambra",
          "Abia",
          "Imo",
          "Bauchi",
          "Benue",
          "Borno",
          "Adamawa",
          "Taraba",
          "Niger",
          "Bayelsa",
          "Ekiti",
          "Sokoto",
          "Jigawa",
          "Yobe",
          "Kebbi",
          "Cross River",
          "Zamfara",
          "Kogi"
         ],
         "xaxis": "x",
         "y": [
          456,
          167,
          65,
          57,
          101,
          126,
          185,
          51,
          110,
          65,
          55,
          72,
          52,
          29,
          39,
          34,
          44,
          32,
          18,
          19,
          22,
          37,
          17,
          24,
          38,
          32,
          24,
          17,
          26,
          11,
          28,
          16,
          9,
          16,
          18,
          8,
          2
         ],
         "yaxis": "y"
        }
       ],
       "layout": {
        "barmode": "relative",
        "legend": {
         "tracegroupgap": 0
        },
        "margin": {
         "t": 60
        },
        "template": {
         "data": {
          "bar": [
           {
            "error_x": {
             "color": "#2a3f5f"
            },
            "error_y": {
             "color": "#2a3f5f"
            },
            "marker": {
             "line": {
              "color": "#E5ECF6",
              "width": 0.5
             }
            },
            "type": "bar"
           }
          ],
          "barpolar": [
           {
            "marker": {
             "line": {
              "color": "#E5ECF6",
              "width": 0.5
             }
            },
            "type": "barpolar"
           }
          ],
          "carpet": [
           {
            "aaxis": {
             "endlinecolor": "#2a3f5f",
             "gridcolor": "white",
             "linecolor": "white",
             "minorgridcolor": "white",
             "startlinecolor": "#2a3f5f"
            },
            "baxis": {
             "endlinecolor": "#2a3f5f",
             "gridcolor": "white",
             "linecolor": "white",
             "minorgridcolor": "white",
             "startlinecolor": "#2a3f5f"
            },
            "type": "carpet"
           }
          ],
          "choropleth": [
           {
            "colorbar": {
             "outlinewidth": 0,
             "ticks": ""
            },
            "type": "choropleth"
           }
          ],
          "contour": [
           {
            "colorbar": {
             "outlinewidth": 0,
             "ticks": ""
            },
            "colorscale": [
             [
              0,
              "#0d0887"
             ],
             [
              0.1111111111111111,
              "#46039f"
             ],
             [
              0.2222222222222222,
              "#7201a8"
             ],
             [
              0.3333333333333333,
              "#9c179e"
             ],
             [
              0.4444444444444444,
              "#bd3786"
             ],
             [
              0.5555555555555556,
              "#d8576b"
             ],
             [
              0.6666666666666666,
              "#ed7953"
             ],
             [
              0.7777777777777778,
              "#fb9f3a"
             ],
             [
              0.8888888888888888,
              "#fdca26"
             ],
             [
              1,
              "#f0f921"
             ]
            ],
            "type": "contour"
           }
          ],
          "contourcarpet": [
           {
            "colorbar": {
             "outlinewidth": 0,
             "ticks": ""
            },
            "type": "contourcarpet"
           }
          ],
          "heatmap": [
           {
            "colorbar": {
             "outlinewidth": 0,
             "ticks": ""
            },
            "colorscale": [
             [
              0,
              "#0d0887"
             ],
             [
              0.1111111111111111,
              "#46039f"
             ],
             [
              0.2222222222222222,
              "#7201a8"
             ],
             [
              0.3333333333333333,
              "#9c179e"
             ],
             [
              0.4444444444444444,
              "#bd3786"
             ],
             [
              0.5555555555555556,
              "#d8576b"
             ],
             [
              0.6666666666666666,
              "#ed7953"
             ],
             [
              0.7777777777777778,
              "#fb9f3a"
             ],
             [
              0.8888888888888888,
              "#fdca26"
             ],
             [
              1,
              "#f0f921"
             ]
            ],
            "type": "heatmap"
           }
          ],
          "heatmapgl": [
           {
            "colorbar": {
             "outlinewidth": 0,
             "ticks": ""
            },
            "colorscale": [
             [
              0,
              "#0d0887"
             ],
             [
              0.1111111111111111,
              "#46039f"
             ],
             [
              0.2222222222222222,
              "#7201a8"
             ],
             [
              0.3333333333333333,
              "#9c179e"
             ],
             [
              0.4444444444444444,
              "#bd3786"
             ],
             [
              0.5555555555555556,
              "#d8576b"
             ],
             [
              0.6666666666666666,
              "#ed7953"
             ],
             [
              0.7777777777777778,
              "#fb9f3a"
             ],
             [
              0.8888888888888888,
              "#fdca26"
             ],
             [
              1,
              "#f0f921"
             ]
            ],
            "type": "heatmapgl"
           }
          ],
          "histogram": [
           {
            "marker": {
             "colorbar": {
              "outlinewidth": 0,
              "ticks": ""
             }
            },
            "type": "histogram"
           }
          ],
          "histogram2d": [
           {
            "colorbar": {
             "outlinewidth": 0,
             "ticks": ""
            },
            "colorscale": [
             [
              0,
              "#0d0887"
             ],
             [
              0.1111111111111111,
              "#46039f"
             ],
             [
              0.2222222222222222,
              "#7201a8"
             ],
             [
              0.3333333333333333,
              "#9c179e"
             ],
             [
              0.4444444444444444,
              "#bd3786"
             ],
             [
              0.5555555555555556,
              "#d8576b"
             ],
             [
              0.6666666666666666,
              "#ed7953"
             ],
             [
              0.7777777777777778,
              "#fb9f3a"
             ],
             [
              0.8888888888888888,
              "#fdca26"
             ],
             [
              1,
              "#f0f921"
             ]
            ],
            "type": "histogram2d"
           }
          ],
          "histogram2dcontour": [
           {
            "colorbar": {
             "outlinewidth": 0,
             "ticks": ""
            },
            "colorscale": [
             [
              0,
              "#0d0887"
             ],
             [
              0.1111111111111111,
              "#46039f"
             ],
             [
              0.2222222222222222,
              "#7201a8"
             ],
             [
              0.3333333333333333,
              "#9c179e"
             ],
             [
              0.4444444444444444,
              "#bd3786"
             ],
             [
              0.5555555555555556,
              "#d8576b"
             ],
             [
              0.6666666666666666,
              "#ed7953"
             ],
             [
              0.7777777777777778,
              "#fb9f3a"
             ],
             [
              0.8888888888888888,
              "#fdca26"
             ],
             [
              1,
              "#f0f921"
             ]
            ],
            "type": "histogram2dcontour"
           }
          ],
          "mesh3d": [
           {
            "colorbar": {
             "outlinewidth": 0,
             "ticks": ""
            },
            "type": "mesh3d"
           }
          ],
          "parcoords": [
           {
            "line": {
             "colorbar": {
              "outlinewidth": 0,
              "ticks": ""
             }
            },
            "type": "parcoords"
           }
          ],
          "pie": [
           {
            "automargin": true,
            "type": "pie"
           }
          ],
          "scatter": [
           {
            "marker": {
             "colorbar": {
              "outlinewidth": 0,
              "ticks": ""
             }
            },
            "type": "scatter"
           }
          ],
          "scatter3d": [
           {
            "line": {
             "colorbar": {
              "outlinewidth": 0,
              "ticks": ""
             }
            },
            "marker": {
             "colorbar": {
              "outlinewidth": 0,
              "ticks": ""
             }
            },
            "type": "scatter3d"
           }
          ],
          "scattercarpet": [
           {
            "marker": {
             "colorbar": {
              "outlinewidth": 0,
              "ticks": ""
             }
            },
            "type": "scattercarpet"
           }
          ],
          "scattergeo": [
           {
            "marker": {
             "colorbar": {
              "outlinewidth": 0,
              "ticks": ""
             }
            },
            "type": "scattergeo"
           }
          ],
          "scattergl": [
           {
            "marker": {
             "colorbar": {
              "outlinewidth": 0,
              "ticks": ""
             }
            },
            "type": "scattergl"
           }
          ],
          "scattermapbox": [
           {
            "marker": {
             "colorbar": {
              "outlinewidth": 0,
              "ticks": ""
             }
            },
            "type": "scattermapbox"
           }
          ],
          "scatterpolar": [
           {
            "marker": {
             "colorbar": {
              "outlinewidth": 0,
              "ticks": ""
             }
            },
            "type": "scatterpolar"
           }
          ],
          "scatterpolargl": [
           {
            "marker": {
             "colorbar": {
              "outlinewidth": 0,
              "ticks": ""
             }
            },
            "type": "scatterpolargl"
           }
          ],
          "scatterternary": [
           {
            "marker": {
             "colorbar": {
              "outlinewidth": 0,
              "ticks": ""
             }
            },
            "type": "scatterternary"
           }
          ],
          "surface": [
           {
            "colorbar": {
             "outlinewidth": 0,
             "ticks": ""
            },
            "colorscale": [
             [
              0,
              "#0d0887"
             ],
             [
              0.1111111111111111,
              "#46039f"
             ],
             [
              0.2222222222222222,
              "#7201a8"
             ],
             [
              0.3333333333333333,
              "#9c179e"
             ],
             [
              0.4444444444444444,
              "#bd3786"
             ],
             [
              0.5555555555555556,
              "#d8576b"
             ],
             [
              0.6666666666666666,
              "#ed7953"
             ],
             [
              0.7777777777777778,
              "#fb9f3a"
             ],
             [
              0.8888888888888888,
              "#fdca26"
             ],
             [
              1,
              "#f0f921"
             ]
            ],
            "type": "surface"
           }
          ],
          "table": [
           {
            "cells": {
             "fill": {
              "color": "#EBF0F8"
             },
             "line": {
              "color": "white"
             }
            },
            "header": {
             "fill": {
              "color": "#C8D4E3"
             },
             "line": {
              "color": "white"
             }
            },
            "type": "table"
           }
          ]
         },
         "layout": {
          "annotationdefaults": {
           "arrowcolor": "#2a3f5f",
           "arrowhead": 0,
           "arrowwidth": 1
          },
          "coloraxis": {
           "colorbar": {
            "outlinewidth": 0,
            "ticks": ""
           }
          },
          "colorscale": {
           "diverging": [
            [
             0,
             "#8e0152"
            ],
            [
             0.1,
             "#c51b7d"
            ],
            [
             0.2,
             "#de77ae"
            ],
            [
             0.3,
             "#f1b6da"
            ],
            [
             0.4,
             "#fde0ef"
            ],
            [
             0.5,
             "#f7f7f7"
            ],
            [
             0.6,
             "#e6f5d0"
            ],
            [
             0.7,
             "#b8e186"
            ],
            [
             0.8,
             "#7fbc41"
            ],
            [
             0.9,
             "#4d9221"
            ],
            [
             1,
             "#276419"
            ]
           ],
           "sequential": [
            [
             0,
             "#0d0887"
            ],
            [
             0.1111111111111111,
             "#46039f"
            ],
            [
             0.2222222222222222,
             "#7201a8"
            ],
            [
             0.3333333333333333,
             "#9c179e"
            ],
            [
             0.4444444444444444,
             "#bd3786"
            ],
            [
             0.5555555555555556,
             "#d8576b"
            ],
            [
             0.6666666666666666,
             "#ed7953"
            ],
            [
             0.7777777777777778,
             "#fb9f3a"
            ],
            [
             0.8888888888888888,
             "#fdca26"
            ],
            [
             1,
             "#f0f921"
            ]
           ],
           "sequentialminus": [
            [
             0,
             "#0d0887"
            ],
            [
             0.1111111111111111,
             "#46039f"
            ],
            [
             0.2222222222222222,
             "#7201a8"
            ],
            [
             0.3333333333333333,
             "#9c179e"
            ],
            [
             0.4444444444444444,
             "#bd3786"
            ],
            [
             0.5555555555555556,
             "#d8576b"
            ],
            [
             0.6666666666666666,
             "#ed7953"
            ],
            [
             0.7777777777777778,
             "#fb9f3a"
            ],
            [
             0.8888888888888888,
             "#fdca26"
            ],
            [
             1,
             "#f0f921"
            ]
           ]
          },
          "colorway": [
           "#636efa",
           "#EF553B",
           "#00cc96",
           "#ab63fa",
           "#FFA15A",
           "#19d3f3",
           "#FF6692",
           "#B6E880",
           "#FF97FF",
           "#FECB52"
          ],
          "font": {
           "color": "#2a3f5f"
          },
          "geo": {
           "bgcolor": "white",
           "lakecolor": "white",
           "landcolor": "#E5ECF6",
           "showlakes": true,
           "showland": true,
           "subunitcolor": "white"
          },
          "hoverlabel": {
           "align": "left"
          },
          "hovermode": "closest",
          "mapbox": {
           "style": "light"
          },
          "paper_bgcolor": "white",
          "plot_bgcolor": "#E5ECF6",
          "polar": {
           "angularaxis": {
            "gridcolor": "white",
            "linecolor": "white",
            "ticks": ""
           },
           "bgcolor": "#E5ECF6",
           "radialaxis": {
            "gridcolor": "white",
            "linecolor": "white",
            "ticks": ""
           }
          },
          "scene": {
           "xaxis": {
            "backgroundcolor": "#E5ECF6",
            "gridcolor": "white",
            "gridwidth": 2,
            "linecolor": "white",
            "showbackground": true,
            "ticks": "",
            "zerolinecolor": "white"
           },
           "yaxis": {
            "backgroundcolor": "#E5ECF6",
            "gridcolor": "white",
            "gridwidth": 2,
            "linecolor": "white",
            "showbackground": true,
            "ticks": "",
            "zerolinecolor": "white"
           },
           "zaxis": {
            "backgroundcolor": "#E5ECF6",
            "gridcolor": "white",
            "gridwidth": 2,
            "linecolor": "white",
            "showbackground": true,
            "ticks": "",
            "zerolinecolor": "white"
           }
          },
          "shapedefaults": {
           "line": {
            "color": "#2a3f5f"
           }
          },
          "ternary": {
           "aaxis": {
            "gridcolor": "white",
            "linecolor": "white",
            "ticks": ""
           },
           "baxis": {
            "gridcolor": "white",
            "linecolor": "white",
            "ticks": ""
           },
           "bgcolor": "#E5ECF6",
           "caxis": {
            "gridcolor": "white",
            "linecolor": "white",
            "ticks": ""
           }
          },
          "title": {
           "x": 0.05
          },
          "xaxis": {
           "automargin": true,
           "gridcolor": "white",
           "linecolor": "white",
           "ticks": "",
           "title": {
            "standoff": 15
           },
           "zerolinecolor": "white",
           "zerolinewidth": 2
          },
          "yaxis": {
           "automargin": true,
           "gridcolor": "white",
           "linecolor": "white",
           "ticks": "",
           "title": {
            "standoff": 15
           },
           "zerolinecolor": "white",
           "zerolinewidth": 2
          }
         }
        },
        "xaxis": {
         "anchor": "y",
         "domain": [
          0,
          1
         ],
         "title": {
          "text": "States Affected"
         }
        },
        "yaxis": {
         "anchor": "x",
         "domain": [
          0,
          1
         ],
         "title": {
          "text": "No. of Deaths"
         }
        }
       }
      },
      "text/html": [
       "<div>                            <div id=\"b30e4ee2-ce6a-4a8e-bd79-82feccfd8855\" class=\"plotly-graph-div\" style=\"height:525px; width:100%;\"></div>            <script type=\"text/javascript\">                require([\"plotly\"], function(Plotly) {                    window.PLOTLYENV=window.PLOTLYENV || {};                                    if (document.getElementById(\"b30e4ee2-ce6a-4a8e-bd79-82feccfd8855\")) {                    Plotly.newPlot(                        \"b30e4ee2-ce6a-4a8e-bd79-82feccfd8855\",                        [{\"alignmentgroup\": \"True\", \"hovertemplate\": \"States Affected=%{x}<br>No. of Deaths=%{y}<extra></extra>\", \"legendgroup\": \"\", \"marker\": {\"color\": \"#636efa\"}, \"name\": \"\", \"offsetgroup\": \"\", \"orientation\": \"v\", \"showlegend\": false, \"textposition\": \"auto\", \"type\": \"bar\", \"x\": [\"Lagos\", \"FCT\", \"Kaduna\", \"Plateau\", \"Rivers\", \"Oyo\", \"Edo\", \"Ogun\", \"Kano\", \"Ondo\", \"Kwara\", \"Delta\", \"Osun\", \"Enugu\", \"Nasarawa\", \"Katsina\", \"Gombe\", \"Ebonyi\", \"Akwa Ibom\", \"Anambra\", \"Abia\", \"Imo\", \"Bauchi\", \"Benue\", \"Borno\", \"Adamawa\", \"Taraba\", \"Niger\", \"Bayelsa\", \"Ekiti\", \"Sokoto\", \"Jigawa\", \"Yobe\", \"Kebbi\", \"Cross River\", \"Zamfara\", \"Kogi\"], \"xaxis\": \"x\", \"y\": [456, 167, 65, 57, 101, 126, 185, 51, 110, 65, 55, 72, 52, 29, 39, 34, 44, 32, 18, 19, 22, 37, 17, 24, 38, 32, 24, 17, 26, 11, 28, 16, 9, 16, 18, 8, 2], \"yaxis\": \"y\"}],                        {\"barmode\": \"relative\", \"legend\": {\"tracegroupgap\": 0}, \"margin\": {\"t\": 60}, \"template\": {\"data\": {\"bar\": [{\"error_x\": {\"color\": \"#2a3f5f\"}, \"error_y\": {\"color\": \"#2a3f5f\"}, \"marker\": {\"line\": {\"color\": \"#E5ECF6\", \"width\": 0.5}}, \"type\": \"bar\"}], \"barpolar\": [{\"marker\": {\"line\": {\"color\": \"#E5ECF6\", \"width\": 0.5}}, \"type\": \"barpolar\"}], \"carpet\": [{\"aaxis\": {\"endlinecolor\": \"#2a3f5f\", \"gridcolor\": \"white\", \"linecolor\": \"white\", \"minorgridcolor\": \"white\", \"startlinecolor\": \"#2a3f5f\"}, \"baxis\": {\"endlinecolor\": \"#2a3f5f\", \"gridcolor\": \"white\", \"linecolor\": \"white\", \"minorgridcolor\": \"white\", \"startlinecolor\": \"#2a3f5f\"}, \"type\": \"carpet\"}], \"choropleth\": [{\"colorbar\": {\"outlinewidth\": 0, \"ticks\": \"\"}, \"type\": \"choropleth\"}], \"contour\": [{\"colorbar\": {\"outlinewidth\": 0, \"ticks\": \"\"}, \"colorscale\": [[0.0, \"#0d0887\"], [0.1111111111111111, \"#46039f\"], [0.2222222222222222, \"#7201a8\"], [0.3333333333333333, \"#9c179e\"], [0.4444444444444444, \"#bd3786\"], [0.5555555555555556, \"#d8576b\"], [0.6666666666666666, \"#ed7953\"], [0.7777777777777778, \"#fb9f3a\"], [0.8888888888888888, \"#fdca26\"], [1.0, \"#f0f921\"]], \"type\": \"contour\"}], \"contourcarpet\": [{\"colorbar\": {\"outlinewidth\": 0, \"ticks\": \"\"}, \"type\": \"contourcarpet\"}], \"heatmap\": [{\"colorbar\": {\"outlinewidth\": 0, \"ticks\": \"\"}, \"colorscale\": [[0.0, \"#0d0887\"], [0.1111111111111111, \"#46039f\"], [0.2222222222222222, \"#7201a8\"], [0.3333333333333333, \"#9c179e\"], [0.4444444444444444, \"#bd3786\"], [0.5555555555555556, \"#d8576b\"], [0.6666666666666666, \"#ed7953\"], [0.7777777777777778, \"#fb9f3a\"], [0.8888888888888888, \"#fdca26\"], [1.0, \"#f0f921\"]], \"type\": \"heatmap\"}], \"heatmapgl\": [{\"colorbar\": {\"outlinewidth\": 0, \"ticks\": \"\"}, \"colorscale\": [[0.0, \"#0d0887\"], [0.1111111111111111, \"#46039f\"], [0.2222222222222222, \"#7201a8\"], [0.3333333333333333, \"#9c179e\"], [0.4444444444444444, \"#bd3786\"], [0.5555555555555556, \"#d8576b\"], [0.6666666666666666, \"#ed7953\"], [0.7777777777777778, \"#fb9f3a\"], [0.8888888888888888, \"#fdca26\"], [1.0, \"#f0f921\"]], \"type\": \"heatmapgl\"}], \"histogram\": [{\"marker\": {\"colorbar\": {\"outlinewidth\": 0, \"ticks\": \"\"}}, \"type\": \"histogram\"}], \"histogram2d\": [{\"colorbar\": {\"outlinewidth\": 0, \"ticks\": \"\"}, \"colorscale\": [[0.0, \"#0d0887\"], [0.1111111111111111, \"#46039f\"], [0.2222222222222222, \"#7201a8\"], [0.3333333333333333, \"#9c179e\"], [0.4444444444444444, \"#bd3786\"], [0.5555555555555556, \"#d8576b\"], [0.6666666666666666, \"#ed7953\"], [0.7777777777777778, \"#fb9f3a\"], [0.8888888888888888, \"#fdca26\"], [1.0, \"#f0f921\"]], \"type\": \"histogram2d\"}], \"histogram2dcontour\": [{\"colorbar\": {\"outlinewidth\": 0, \"ticks\": \"\"}, \"colorscale\": [[0.0, \"#0d0887\"], [0.1111111111111111, \"#46039f\"], [0.2222222222222222, \"#7201a8\"], [0.3333333333333333, \"#9c179e\"], [0.4444444444444444, \"#bd3786\"], [0.5555555555555556, \"#d8576b\"], [0.6666666666666666, \"#ed7953\"], [0.7777777777777778, \"#fb9f3a\"], [0.8888888888888888, \"#fdca26\"], [1.0, \"#f0f921\"]], \"type\": \"histogram2dcontour\"}], \"mesh3d\": [{\"colorbar\": {\"outlinewidth\": 0, \"ticks\": \"\"}, \"type\": \"mesh3d\"}], \"parcoords\": [{\"line\": {\"colorbar\": {\"outlinewidth\": 0, \"ticks\": \"\"}}, \"type\": \"parcoords\"}], \"pie\": [{\"automargin\": true, \"type\": \"pie\"}], \"scatter\": [{\"marker\": {\"colorbar\": {\"outlinewidth\": 0, \"ticks\": \"\"}}, \"type\": \"scatter\"}], \"scatter3d\": [{\"line\": {\"colorbar\": {\"outlinewidth\": 0, \"ticks\": \"\"}}, \"marker\": {\"colorbar\": {\"outlinewidth\": 0, \"ticks\": \"\"}}, \"type\": \"scatter3d\"}], \"scattercarpet\": [{\"marker\": {\"colorbar\": {\"outlinewidth\": 0, \"ticks\": \"\"}}, \"type\": \"scattercarpet\"}], \"scattergeo\": [{\"marker\": {\"colorbar\": {\"outlinewidth\": 0, \"ticks\": \"\"}}, \"type\": \"scattergeo\"}], \"scattergl\": [{\"marker\": {\"colorbar\": {\"outlinewidth\": 0, \"ticks\": \"\"}}, \"type\": \"scattergl\"}], \"scattermapbox\": [{\"marker\": {\"colorbar\": {\"outlinewidth\": 0, \"ticks\": \"\"}}, \"type\": \"scattermapbox\"}], \"scatterpolar\": [{\"marker\": {\"colorbar\": {\"outlinewidth\": 0, \"ticks\": \"\"}}, \"type\": \"scatterpolar\"}], \"scatterpolargl\": [{\"marker\": {\"colorbar\": {\"outlinewidth\": 0, \"ticks\": \"\"}}, \"type\": \"scatterpolargl\"}], \"scatterternary\": [{\"marker\": {\"colorbar\": {\"outlinewidth\": 0, \"ticks\": \"\"}}, \"type\": \"scatterternary\"}], \"surface\": [{\"colorbar\": {\"outlinewidth\": 0, \"ticks\": \"\"}, \"colorscale\": [[0.0, \"#0d0887\"], [0.1111111111111111, \"#46039f\"], [0.2222222222222222, \"#7201a8\"], [0.3333333333333333, \"#9c179e\"], [0.4444444444444444, \"#bd3786\"], [0.5555555555555556, \"#d8576b\"], [0.6666666666666666, \"#ed7953\"], [0.7777777777777778, \"#fb9f3a\"], [0.8888888888888888, \"#fdca26\"], [1.0, \"#f0f921\"]], \"type\": \"surface\"}], \"table\": [{\"cells\": {\"fill\": {\"color\": \"#EBF0F8\"}, \"line\": {\"color\": \"white\"}}, \"header\": {\"fill\": {\"color\": \"#C8D4E3\"}, \"line\": {\"color\": \"white\"}}, \"type\": \"table\"}]}, \"layout\": {\"annotationdefaults\": {\"arrowcolor\": \"#2a3f5f\", \"arrowhead\": 0, \"arrowwidth\": 1}, \"coloraxis\": {\"colorbar\": {\"outlinewidth\": 0, \"ticks\": \"\"}}, \"colorscale\": {\"diverging\": [[0, \"#8e0152\"], [0.1, \"#c51b7d\"], [0.2, \"#de77ae\"], [0.3, \"#f1b6da\"], [0.4, \"#fde0ef\"], [0.5, \"#f7f7f7\"], [0.6, \"#e6f5d0\"], [0.7, \"#b8e186\"], [0.8, \"#7fbc41\"], [0.9, \"#4d9221\"], [1, \"#276419\"]], \"sequential\": [[0.0, \"#0d0887\"], [0.1111111111111111, \"#46039f\"], [0.2222222222222222, \"#7201a8\"], [0.3333333333333333, \"#9c179e\"], [0.4444444444444444, \"#bd3786\"], [0.5555555555555556, \"#d8576b\"], [0.6666666666666666, \"#ed7953\"], [0.7777777777777778, \"#fb9f3a\"], [0.8888888888888888, \"#fdca26\"], [1.0, \"#f0f921\"]], \"sequentialminus\": [[0.0, \"#0d0887\"], [0.1111111111111111, \"#46039f\"], [0.2222222222222222, \"#7201a8\"], [0.3333333333333333, \"#9c179e\"], [0.4444444444444444, \"#bd3786\"], [0.5555555555555556, \"#d8576b\"], [0.6666666666666666, \"#ed7953\"], [0.7777777777777778, \"#fb9f3a\"], [0.8888888888888888, \"#fdca26\"], [1.0, \"#f0f921\"]]}, \"colorway\": [\"#636efa\", \"#EF553B\", \"#00cc96\", \"#ab63fa\", \"#FFA15A\", \"#19d3f3\", \"#FF6692\", \"#B6E880\", \"#FF97FF\", \"#FECB52\"], \"font\": {\"color\": \"#2a3f5f\"}, \"geo\": {\"bgcolor\": \"white\", \"lakecolor\": \"white\", \"landcolor\": \"#E5ECF6\", \"showlakes\": true, \"showland\": true, \"subunitcolor\": \"white\"}, \"hoverlabel\": {\"align\": \"left\"}, \"hovermode\": \"closest\", \"mapbox\": {\"style\": \"light\"}, \"paper_bgcolor\": \"white\", \"plot_bgcolor\": \"#E5ECF6\", \"polar\": {\"angularaxis\": {\"gridcolor\": \"white\", \"linecolor\": \"white\", \"ticks\": \"\"}, \"bgcolor\": \"#E5ECF6\", \"radialaxis\": {\"gridcolor\": \"white\", \"linecolor\": \"white\", \"ticks\": \"\"}}, \"scene\": {\"xaxis\": {\"backgroundcolor\": \"#E5ECF6\", \"gridcolor\": \"white\", \"gridwidth\": 2, \"linecolor\": \"white\", \"showbackground\": true, \"ticks\": \"\", \"zerolinecolor\": \"white\"}, \"yaxis\": {\"backgroundcolor\": \"#E5ECF6\", \"gridcolor\": \"white\", \"gridwidth\": 2, \"linecolor\": \"white\", \"showbackground\": true, \"ticks\": \"\", \"zerolinecolor\": \"white\"}, \"zaxis\": {\"backgroundcolor\": \"#E5ECF6\", \"gridcolor\": \"white\", \"gridwidth\": 2, \"linecolor\": \"white\", \"showbackground\": true, \"ticks\": \"\", \"zerolinecolor\": \"white\"}}, \"shapedefaults\": {\"line\": {\"color\": \"#2a3f5f\"}}, \"ternary\": {\"aaxis\": {\"gridcolor\": \"white\", \"linecolor\": \"white\", \"ticks\": \"\"}, \"baxis\": {\"gridcolor\": \"white\", \"linecolor\": \"white\", \"ticks\": \"\"}, \"bgcolor\": \"#E5ECF6\", \"caxis\": {\"gridcolor\": \"white\", \"linecolor\": \"white\", \"ticks\": \"\"}}, \"title\": {\"x\": 0.05}, \"xaxis\": {\"automargin\": true, \"gridcolor\": \"white\", \"linecolor\": \"white\", \"ticks\": \"\", \"title\": {\"standoff\": 15}, \"zerolinecolor\": \"white\", \"zerolinewidth\": 2}, \"yaxis\": {\"automargin\": true, \"gridcolor\": \"white\", \"linecolor\": \"white\", \"ticks\": \"\", \"title\": {\"standoff\": 15}, \"zerolinecolor\": \"white\", \"zerolinewidth\": 2}}}, \"xaxis\": {\"anchor\": \"y\", \"domain\": [0.0, 1.0], \"title\": {\"text\": \"States Affected\"}}, \"yaxis\": {\"anchor\": \"x\", \"domain\": [0.0, 1.0], \"title\": {\"text\": \"No. of Deaths\"}}},                        {\"responsive\": true}                    ).then(function(){\n",
       "                            \n",
       "var gd = document.getElementById('b30e4ee2-ce6a-4a8e-bd79-82feccfd8855');\n",
       "var x = new MutationObserver(function (mutations, observer) {{\n",
       "        var display = window.getComputedStyle(gd).display;\n",
       "        if (!display || display === 'none') {{\n",
       "            console.log([gd, 'removed!']);\n",
       "            Plotly.purge(gd);\n",
       "            observer.disconnect();\n",
       "        }}\n",
       "}});\n",
       "\n",
       "// Listen for the removal of the full notebook cells\n",
       "var notebookContainer = gd.closest('#notebook-container');\n",
       "if (notebookContainer) {{\n",
       "    x.observe(notebookContainer, {childList: true});\n",
       "}}\n",
       "\n",
       "// Listen for the clearing of the current output cell\n",
       "var outputEl = gd.closest('.output');\n",
       "if (outputEl) {{\n",
       "    x.observe(outputEl, {childList: true});\n",
       "}}\n",
       "\n",
       "                        })                };                });            </script>        </div>"
      ]
     },
     "metadata": {},
     "output_type": "display_data"
    }
   ],
   "source": [
    "px.bar(df,x = 'States Affected',y = 'No. of Deaths')"
   ]
  },
  {
   "cell_type": "markdown",
   "metadata": {},
   "source": [
    "**scroll over each bar for more information**"
   ]
  },
  {
   "cell_type": "markdown",
   "metadata": {},
   "source": [
    "Lagos state has the highest number of Death Cases and Kogi state has the lowest number of Death Cases"
   ]
  },
  {
   "cell_type": "markdown",
   "metadata": {},
   "source": [
    "## Distribution of Number of cases(Lab Confirmed)"
   ]
  },
  {
   "cell_type": "code",
   "execution_count": 42,
   "metadata": {},
   "outputs": [
    {
     "data": {
      "image/png": "[encoded data removed]",
      "text/plain": [
       "<Figure size 432x288 with 1 Axes>"
      ]
     },
     "metadata": {
      "needs_background": "light"
     },
     "output_type": "display_data"
    }
   ],
   "source": [
    "sns.distplot(df[\"No. of Cases (Lab Confirmed)\"]);"
   ]
  },
  {
   "cell_type": "markdown",
   "metadata": {},
   "source": [
    "From the above distribution plots, we discover that the number of Confirmed cases in each state is majorly between 0 and 100 000."
   ]
  },
  {
   "cell_type": "markdown",
   "metadata": {},
   "source": [
    "## Distribution of Number of Admitted Cases."
   ]
  },
  {
   "cell_type": "code",
   "execution_count": 43,
   "metadata": {},
   "outputs": [
    {
     "data": {
      "image/png": "[encoded data removed]",
      "text/plain": [
       "<Figure size 432x288 with 1 Axes>"
      ]
     },
     "metadata": {
      "needs_background": "light"
     },
     "output_type": "display_data"
    }
   ],
   "source": [
    "sns.distplot(df[\"No. of Cases (on admission)\"]);"
   ]
  },
  {
   "cell_type": "markdown",
   "metadata": {},
   "source": [
    "From the above distribution plots, we discover that the number of Admitted cases in each state is majorly between 0 and 200."
   ]
  },
  {
   "cell_type": "markdown",
   "metadata": {},
   "source": [
    "## Distribution of Number of Discharged"
   ]
  },
  {
   "cell_type": "code",
   "execution_count": 35,
   "metadata": {},
   "outputs": [
    {
     "data": {
      "image/png": "[encoded data removed]",
      "text/plain": [
       "<Figure size 432x288 with 1 Axes>"
      ]
     },
     "metadata": {
      "needs_background": "light"
     },
     "output_type": "display_data"
    }
   ],
   "source": [
    "sns.distplot(df[\"No. Discharged\"]);"
   ]
  },
  {
   "cell_type": "markdown",
   "metadata": {},
   "source": [
    "### Scatter plot of Number of Cases(Lab Confirmed) against the Number of Deaths for with each point representing a state."
   ]
  },
  {
   "cell_type": "code",
   "execution_count": 55,
   "metadata": {},
   "outputs": [
    {
     "data": {
      "application/vnd.plotly.v1+json": {
       "config": {
        "plotlyServerURL": "https://plot.ly"
       },
       "data": [
        {
         "hovertemplate": "States Affected=Lagos<br>No. of Cases (Lab Confirmed)=%{marker.size}<br>No. of Deaths=%{y}<extra></extra>",
         "legendgroup": "Lagos",
         "marker": {
          "color": "#636efa",
          "size": [
           59833
          ],
          "sizemode": "area",
          "sizeref": 149.5825,
          "symbol": "circle"
         },
         "mode": "markers",
         "name": "Lagos",
         "orientation": "v",
         "showlegend": true,
         "type": "scatter",
         "x": [
          59833
         ],
         "xaxis": "x",
         "y": [
          456
         ],
         "yaxis": "y"
        },
        {
         "hovertemplate": "States Affected=FCT<br>No. of Cases (Lab Confirmed)=%{marker.size}<br>No. of Deaths=%{y}<extra></extra>",
         "legendgroup": "FCT",
         "marker": {
          "color": "#EF553B",
          "size": [
           19902
          ],
          "sizemode": "area",
          "sizeref": 149.5825,
          "symbol": "circle"
         },
         "mode": "markers",
         "name": "FCT",
         "orientation": "v",
         "showlegend": true,
         "type": "scatter",
         "x": [
          19902
         ],
         "xaxis": "x",
         "y": [
          167
         ],
         "yaxis": "y"
        },
        {
         "hovertemplate": "States Affected=Kaduna<br>No. of Cases (Lab Confirmed)=%{marker.size}<br>No. of Deaths=%{y}<extra></extra>",
         "legendgroup": "Kaduna",
         "marker": {
          "color": "#00cc96",
          "size": [
           9123
          ],
          "sizemode": "area",
          "sizeref": 149.5825,
          "symbol": "circle"
         },
         "mode": "markers",
         "name": "Kaduna",
         "orientation": "v",
         "showlegend": true,
         "type": "scatter",
         "x": [
          9123
         ],
         "xaxis": "x",
         "y": [
          65
         ],
         "yaxis": "y"
        },
        {
         "hovertemplate": "States Affected=Plateau<br>No. of Cases (Lab Confirmed)=%{marker.size}<br>No. of Deaths=%{y}<extra></extra>",
         "legendgroup": "Plateau",
         "marker": {
          "color": "#ab63fa",
          "size": [
           9067
          ],
          "sizemode": "area",
          "sizeref": 149.5825,
          "symbol": "circle"
         },
         "mode": "markers",
         "name": "Plateau",
         "orientation": "v",
         "showlegend": true,
         "type": "scatter",
         "x": [
          9067
         ],
         "xaxis": "x",
         "y": [
          57
         ],
         "yaxis": "y"
        },
        {
         "hovertemplate": "States Affected=Rivers<br>No. of Cases (Lab Confirmed)=%{marker.size}<br>No. of Deaths=%{y}<extra></extra>",
         "legendgroup": "Rivers",
         "marker": {
          "color": "#FFA15A",
          "size": [
           7335
          ],
          "sizemode": "area",
          "sizeref": 149.5825,
          "symbol": "circle"
         },
         "mode": "markers",
         "name": "Rivers",
         "orientation": "v",
         "showlegend": true,
         "type": "scatter",
         "x": [
          7335
         ],
         "xaxis": "x",
         "y": [
          101
         ],
         "yaxis": "y"
        },
        {
         "hovertemplate": "States Affected=Oyo<br>No. of Cases (Lab Confirmed)=%{marker.size}<br>No. of Deaths=%{y}<extra></extra>",
         "legendgroup": "Oyo",
         "marker": {
          "color": "#19d3f3",
          "size": [
           6872
          ],
          "sizemode": "area",
          "sizeref": 149.5825,
          "symbol": "circle"
         },
         "mode": "markers",
         "name": "Oyo",
         "orientation": "v",
         "showlegend": true,
         "type": "scatter",
         "x": [
          6872
         ],
         "xaxis": "x",
         "y": [
          126
         ],
         "yaxis": "y"
        },
        {
         "hovertemplate": "States Affected=Edo<br>No. of Cases (Lab Confirmed)=%{marker.size}<br>No. of Deaths=%{y}<extra></extra>",
         "legendgroup": "Edo",
         "marker": {
          "color": "#FF6692",
          "size": [
           4910
          ],
          "sizemode": "area",
          "sizeref": 149.5825,
          "symbol": "circle"
         },
         "mode": "markers",
         "name": "Edo",
         "orientation": "v",
         "showlegend": true,
         "type": "scatter",
         "x": [
          4910
         ],
         "xaxis": "x",
         "y": [
          185
         ],
         "yaxis": "y"
        },
        {
         "hovertemplate": "States Affected=Ogun<br>No. of Cases (Lab Confirmed)=%{marker.size}<br>No. of Deaths=%{y}<extra></extra>",
         "legendgroup": "Ogun",
         "marker": {
          "color": "#B6E880",
          "size": [
           4694
          ],
          "sizemode": "area",
          "sizeref": 149.5825,
          "symbol": "circle"
         },
         "mode": "markers",
         "name": "Ogun",
         "orientation": "v",
         "showlegend": true,
         "type": "scatter",
         "x": [
          4694
         ],
         "xaxis": "x",
         "y": [
          51
         ],
         "yaxis": "y"
        },
        {
         "hovertemplate": "States Affected=Kano<br>No. of Cases (Lab Confirmed)=%{marker.size}<br>No. of Deaths=%{y}<extra></extra>",
         "legendgroup": "Kano",
         "marker": {
          "color": "#FF97FF",
          "size": [
           4005
          ],
          "sizemode": "area",
          "sizeref": 149.5825,
          "symbol": "circle"
         },
         "mode": "markers",
         "name": "Kano",
         "orientation": "v",
         "showlegend": true,
         "type": "scatter",
         "x": [
          4005
         ],
         "xaxis": "x",
         "y": [
          110
         ],
         "yaxis": "y"
        },
        {
         "hovertemplate": "States Affected=Ondo<br>No. of Cases (Lab Confirmed)=%{marker.size}<br>No. of Deaths=%{y}<extra></extra>",
         "legendgroup": "Ondo",
         "marker": {
          "color": "#FECB52",
          "size": [
           3483
          ],
          "sizemode": "area",
          "sizeref": 149.5825,
          "symbol": "circle"
         },
         "mode": "markers",
         "name": "Ondo",
         "orientation": "v",
         "showlegend": true,
         "type": "scatter",
         "x": [
          3483
         ],
         "xaxis": "x",
         "y": [
          65
         ],
         "yaxis": "y"
        },
        {
         "hovertemplate": "States Affected=Kwara<br>No. of Cases (Lab Confirmed)=%{marker.size}<br>No. of Deaths=%{y}<extra></extra>",
         "legendgroup": "Kwara",
         "marker": {
          "color": "#636efa",
          "size": [
           3144
          ],
          "sizemode": "area",
          "sizeref": 149.5825,
          "symbol": "circle"
         },
         "mode": "markers",
         "name": "Kwara",
         "orientation": "v",
         "showlegend": true,
         "type": "scatter",
         "x": [
          3144
         ],
         "xaxis": "x",
         "y": [
          55
         ],
         "yaxis": "y"
        },
        {
         "hovertemplate": "States Affected=Delta<br>No. of Cases (Lab Confirmed)=%{marker.size}<br>No. of Deaths=%{y}<extra></extra>",
         "legendgroup": "Delta",
         "marker": {
          "color": "#EF553B",
          "size": [
           2650
          ],
          "sizemode": "area",
          "sizeref": 149.5825,
          "symbol": "circle"
         },
         "mode": "markers",
         "name": "Delta",
         "orientation": "v",
         "showlegend": true,
         "type": "scatter",
         "x": [
          2650
         ],
         "xaxis": "x",
         "y": [
          72
         ],
         "yaxis": "y"
        },
        {
         "hovertemplate": "States Affected=Osun<br>No. of Cases (Lab Confirmed)=%{marker.size}<br>No. of Deaths=%{y}<extra></extra>",
         "legendgroup": "Osun",
         "marker": {
          "color": "#00cc96",
          "size": [
           2578
          ],
          "sizemode": "area",
          "sizeref": 149.5825,
          "symbol": "circle"
         },
         "mode": "markers",
         "name": "Osun",
         "orientation": "v",
         "showlegend": true,
         "type": "scatter",
         "x": [
          2578
         ],
         "xaxis": "x",
         "y": [
          52
         ],
         "yaxis": "y"
        },
        {
         "hovertemplate": "States Affected=Enugu<br>No. of Cases (Lab Confirmed)=%{marker.size}<br>No. of Deaths=%{y}<extra></extra>",
         "legendgroup": "Enugu",
         "marker": {
          "color": "#ab63fa",
          "size": [
           2464
          ],
          "sizemode": "area",
          "sizeref": 149.5825,
          "symbol": "circle"
         },
         "mode": "markers",
         "name": "Enugu",
         "orientation": "v",
         "showlegend": true,
         "type": "scatter",
         "x": [
          2464
         ],
         "xaxis": "x",
         "y": [
          29
         ],
         "yaxis": "y"
        },
        {
         "hovertemplate": "States Affected=Nasarawa<br>No. of Cases (Lab Confirmed)=%{marker.size}<br>No. of Deaths=%{y}<extra></extra>",
         "legendgroup": "Nasarawa",
         "marker": {
          "color": "#FFA15A",
          "size": [
           2384
          ],
          "sizemode": "area",
          "sizeref": 149.5825,
          "symbol": "circle"
         },
         "mode": "markers",
         "name": "Nasarawa",
         "orientation": "v",
         "showlegend": true,
         "type": "scatter",
         "x": [
          2384
         ],
         "xaxis": "x",
         "y": [
          39
         ],
         "yaxis": "y"
        },
        {
         "hovertemplate": "States Affected=Katsina<br>No. of Cases (Lab Confirmed)=%{marker.size}<br>No. of Deaths=%{y}<extra></extra>",
         "legendgroup": "Katsina",
         "marker": {
          "color": "#19d3f3",
          "size": [
           2110
          ],
          "sizemode": "area",
          "sizeref": 149.5825,
          "symbol": "circle"
         },
         "mode": "markers",
         "name": "Katsina",
         "orientation": "v",
         "showlegend": true,
         "type": "scatter",
         "x": [
          2110
         ],
         "xaxis": "x",
         "y": [
          34
         ],
         "yaxis": "y"
        },
        {
         "hovertemplate": "States Affected=Gombe<br>No. of Cases (Lab Confirmed)=%{marker.size}<br>No. of Deaths=%{y}<extra></extra>",
         "legendgroup": "Gombe",
         "marker": {
          "color": "#FF6692",
          "size": [
           2098
          ],
          "sizemode": "area",
          "sizeref": 149.5825,
          "symbol": "circle"
         },
         "mode": "markers",
         "name": "Gombe",
         "orientation": "v",
         "showlegend": true,
         "type": "scatter",
         "x": [
          2098
         ],
         "xaxis": "x",
         "y": [
          44
         ],
         "yaxis": "y"
        },
        {
         "hovertemplate": "States Affected=Ebonyi<br>No. of Cases (Lab Confirmed)=%{marker.size}<br>No. of Deaths=%{y}<extra></extra>",
         "legendgroup": "Ebonyi",
         "marker": {
          "color": "#B6E880",
          "size": [
           2039
          ],
          "sizemode": "area",
          "sizeref": 149.5825,
          "symbol": "circle"
         },
         "mode": "markers",
         "name": "Ebonyi",
         "orientation": "v",
         "showlegend": true,
         "type": "scatter",
         "x": [
          2039
         ],
         "xaxis": "x",
         "y": [
          32
         ],
         "yaxis": "y"
        },
        {
         "hovertemplate": "States Affected=Akwa Ibom<br>No. of Cases (Lab Confirmed)=%{marker.size}<br>No. of Deaths=%{y}<extra></extra>",
         "legendgroup": "Akwa Ibom",
         "marker": {
          "color": "#FF97FF",
          "size": [
           1931
          ],
          "sizemode": "area",
          "sizeref": 149.5825,
          "symbol": "circle"
         },
         "mode": "markers",
         "name": "Akwa Ibom",
         "orientation": "v",
         "showlegend": true,
         "type": "scatter",
         "x": [
          1931
         ],
         "xaxis": "x",
         "y": [
          18
         ],
         "yaxis": "y"
        },
        {
         "hovertemplate": "States Affected=Anambra<br>No. of Cases (Lab Confirmed)=%{marker.size}<br>No. of Deaths=%{y}<extra></extra>",
         "legendgroup": "Anambra",
         "marker": {
          "color": "#FECB52",
          "size": [
           1909
          ],
          "sizemode": "area",
          "sizeref": 149.5825,
          "symbol": "circle"
         },
         "mode": "markers",
         "name": "Anambra",
         "orientation": "v",
         "showlegend": true,
         "type": "scatter",
         "x": [
          1909
         ],
         "xaxis": "x",
         "y": [
          19
         ],
         "yaxis": "y"
        },
        {
         "hovertemplate": "States Affected=Abia<br>No. of Cases (Lab Confirmed)=%{marker.size}<br>No. of Deaths=%{y}<extra></extra>",
         "legendgroup": "Abia",
         "marker": {
          "color": "#636efa",
          "size": [
           1693
          ],
          "sizemode": "area",
          "sizeref": 149.5825,
          "symbol": "circle"
         },
         "mode": "markers",
         "name": "Abia",
         "orientation": "v",
         "showlegend": true,
         "type": "scatter",
         "x": [
          1693
         ],
         "xaxis": "x",
         "y": [
          22
         ],
         "yaxis": "y"
        },
        {
         "hovertemplate": "States Affected=Imo<br>No. of Cases (Lab Confirmed)=%{marker.size}<br>No. of Deaths=%{y}<extra></extra>",
         "legendgroup": "Imo",
         "marker": {
          "color": "#EF553B",
          "size": [
           1661
          ],
          "sizemode": "area",
          "sizeref": 149.5825,
          "symbol": "circle"
         },
         "mode": "markers",
         "name": "Imo",
         "orientation": "v",
         "showlegend": true,
         "type": "scatter",
         "x": [
          1661
         ],
         "xaxis": "x",
         "y": [
          37
         ],
         "yaxis": "y"
        },
        {
         "hovertemplate": "States Affected=Bauchi<br>No. of Cases (Lab Confirmed)=%{marker.size}<br>No. of Deaths=%{y}<extra></extra>",
         "legendgroup": "Bauchi",
         "marker": {
          "color": "#00cc96",
          "size": [
           1549
          ],
          "sizemode": "area",
          "sizeref": 149.5825,
          "symbol": "circle"
         },
         "mode": "markers",
         "name": "Bauchi",
         "orientation": "v",
         "showlegend": true,
         "type": "scatter",
         "x": [
          1549
         ],
         "xaxis": "x",
         "y": [
          17
         ],
         "yaxis": "y"
        },
        {
         "hovertemplate": "States Affected=Benue<br>No. of Cases (Lab Confirmed)=%{marker.size}<br>No. of Deaths=%{y}<extra></extra>",
         "legendgroup": "Benue",
         "marker": {
          "color": "#ab63fa",
          "size": [
           1366
          ],
          "sizemode": "area",
          "sizeref": 149.5825,
          "symbol": "circle"
         },
         "mode": "markers",
         "name": "Benue",
         "orientation": "v",
         "showlegend": true,
         "type": "scatter",
         "x": [
          1366
         ],
         "xaxis": "x",
         "y": [
          24
         ],
         "yaxis": "y"
        },
        {
         "hovertemplate": "States Affected=Borno<br>No. of Cases (Lab Confirmed)=%{marker.size}<br>No. of Deaths=%{y}<extra></extra>",
         "legendgroup": "Borno",
         "marker": {
          "color": "#FFA15A",
          "size": [
           1344
          ],
          "sizemode": "area",
          "sizeref": 149.5825,
          "symbol": "circle"
         },
         "mode": "markers",
         "name": "Borno",
         "orientation": "v",
         "showlegend": true,
         "type": "scatter",
         "x": [
          1344
         ],
         "xaxis": "x",
         "y": [
          38
         ],
         "yaxis": "y"
        },
        {
         "hovertemplate": "States Affected=Adamawa<br>No. of Cases (Lab Confirmed)=%{marker.size}<br>No. of Deaths=%{y}<extra></extra>",
         "legendgroup": "Adamawa",
         "marker": {
          "color": "#19d3f3",
          "size": [
           1134
          ],
          "sizemode": "area",
          "sizeref": 149.5825,
          "symbol": "circle"
         },
         "mode": "markers",
         "name": "Adamawa",
         "orientation": "v",
         "showlegend": true,
         "type": "scatter",
         "x": [
          1134
         ],
         "xaxis": "x",
         "y": [
          32
         ],
         "yaxis": "y"
        },
        {
         "hovertemplate": "States Affected=Taraba<br>No. of Cases (Lab Confirmed)=%{marker.size}<br>No. of Deaths=%{y}<extra></extra>",
         "legendgroup": "Taraba",
         "marker": {
          "color": "#FF6692",
          "size": [
           1001
          ],
          "sizemode": "area",
          "sizeref": 149.5825,
          "symbol": "circle"
         },
         "mode": "markers",
         "name": "Taraba",
         "orientation": "v",
         "showlegend": true,
         "type": "scatter",
         "x": [
          1001
         ],
         "xaxis": "x",
         "y": [
          24
         ],
         "yaxis": "y"
        },
        {
         "hovertemplate": "States Affected=Niger<br>No. of Cases (Lab Confirmed)=%{marker.size}<br>No. of Deaths=%{y}<extra></extra>",
         "legendgroup": "Niger",
         "marker": {
          "color": "#B6E880",
          "size": [
           935
          ],
          "sizemode": "area",
          "sizeref": 149.5825,
          "symbol": "circle"
         },
         "mode": "markers",
         "name": "Niger",
         "orientation": "v",
         "showlegend": true,
         "type": "scatter",
         "x": [
          935
         ],
         "xaxis": "x",
         "y": [
          17
         ],
         "yaxis": "y"
        },
        {
         "hovertemplate": "States Affected=Bayelsa<br>No. of Cases (Lab Confirmed)=%{marker.size}<br>No. of Deaths=%{y}<extra></extra>",
         "legendgroup": "Bayelsa",
         "marker": {
          "color": "#FF97FF",
          "size": [
           906
          ],
          "sizemode": "area",
          "sizeref": 149.5825,
          "symbol": "circle"
         },
         "mode": "markers",
         "name": "Bayelsa",
         "orientation": "v",
         "showlegend": true,
         "type": "scatter",
         "x": [
          906
         ],
         "xaxis": "x",
         "y": [
          26
         ],
         "yaxis": "y"
        },
        {
         "hovertemplate": "States Affected=Ekiti<br>No. of Cases (Lab Confirmed)=%{marker.size}<br>No. of Deaths=%{y}<extra></extra>",
         "legendgroup": "Ekiti",
         "marker": {
          "color": "#FECB52",
          "size": [
           880
          ],
          "sizemode": "area",
          "sizeref": 149.5825,
          "symbol": "circle"
         },
         "mode": "markers",
         "name": "Ekiti",
         "orientation": "v",
         "showlegend": true,
         "type": "scatter",
         "x": [
          880
         ],
         "xaxis": "x",
         "y": [
          11
         ],
         "yaxis": "y"
        },
        {
         "hovertemplate": "States Affected=Sokoto<br>No. of Cases (Lab Confirmed)=%{marker.size}<br>No. of Deaths=%{y}<extra></extra>",
         "legendgroup": "Sokoto",
         "marker": {
          "color": "#636efa",
          "size": [
           775
          ],
          "sizemode": "area",
          "sizeref": 149.5825,
          "symbol": "circle"
         },
         "mode": "markers",
         "name": "Sokoto",
         "orientation": "v",
         "showlegend": true,
         "type": "scatter",
         "x": [
          775
         ],
         "xaxis": "x",
         "y": [
          28
         ],
         "yaxis": "y"
        },
        {
         "hovertemplate": "States Affected=Jigawa<br>No. of Cases (Lab Confirmed)=%{marker.size}<br>No. of Deaths=%{y}<extra></extra>",
         "legendgroup": "Jigawa",
         "marker": {
          "color": "#EF553B",
          "size": [
           534
          ],
          "sizemode": "area",
          "sizeref": 149.5825,
          "symbol": "circle"
         },
         "mode": "markers",
         "name": "Jigawa",
         "orientation": "v",
         "showlegend": true,
         "type": "scatter",
         "x": [
          534
         ],
         "xaxis": "x",
         "y": [
          16
         ],
         "yaxis": "y"
        },
        {
         "hovertemplate": "States Affected=Yobe<br>No. of Cases (Lab Confirmed)=%{marker.size}<br>No. of Deaths=%{y}<extra></extra>",
         "legendgroup": "Yobe",
         "marker": {
          "color": "#00cc96",
          "size": [
           499
          ],
          "sizemode": "area",
          "sizeref": 149.5825,
          "symbol": "circle"
         },
         "mode": "markers",
         "name": "Yobe",
         "orientation": "v",
         "showlegend": true,
         "type": "scatter",
         "x": [
          499
         ],
         "xaxis": "x",
         "y": [
          9
         ],
         "yaxis": "y"
        },
        {
         "hovertemplate": "States Affected=Kebbi<br>No. of Cases (Lab Confirmed)=%{marker.size}<br>No. of Deaths=%{y}<extra></extra>",
         "legendgroup": "Kebbi",
         "marker": {
          "color": "#ab63fa",
          "size": [
           450
          ],
          "sizemode": "area",
          "sizeref": 149.5825,
          "symbol": "circle"
         },
         "mode": "markers",
         "name": "Kebbi",
         "orientation": "v",
         "showlegend": true,
         "type": "scatter",
         "x": [
          450
         ],
         "xaxis": "x",
         "y": [
          16
         ],
         "yaxis": "y"
        },
        {
         "hovertemplate": "States Affected=Cross River<br>No. of Cases (Lab Confirmed)=%{marker.size}<br>No. of Deaths=%{y}<extra></extra>",
         "legendgroup": "Cross River",
         "marker": {
          "color": "#FFA15A",
          "size": [
           402
          ],
          "sizemode": "area",
          "sizeref": 149.5825,
          "symbol": "circle"
         },
         "mode": "markers",
         "name": "Cross River",
         "orientation": "v",
         "showlegend": true,
         "type": "scatter",
         "x": [
          402
         ],
         "xaxis": "x",
         "y": [
          18
         ],
         "yaxis": "y"
        },
        {
         "hovertemplate": "States Affected=Zamfara<br>No. of Cases (Lab Confirmed)=%{marker.size}<br>No. of Deaths=%{y}<extra></extra>",
         "legendgroup": "Zamfara",
         "marker": {
          "color": "#19d3f3",
          "size": [
           244
          ],
          "sizemode": "area",
          "sizeref": 149.5825,
          "symbol": "circle"
         },
         "mode": "markers",
         "name": "Zamfara",
         "orientation": "v",
         "showlegend": true,
         "type": "scatter",
         "x": [
          244
         ],
         "xaxis": "x",
         "y": [
          8
         ],
         "yaxis": "y"
        },
        {
         "hovertemplate": "States Affected=Kogi<br>No. of Cases (Lab Confirmed)=%{marker.size}<br>No. of Deaths=%{y}<extra></extra>",
         "legendgroup": "Kogi",
         "marker": {
          "color": "#FF6692",
          "size": [
           5
          ],
          "sizemode": "area",
          "sizeref": 149.5825,
          "symbol": "circle"
         },
         "mode": "markers",
         "name": "Kogi",
         "orientation": "v",
         "showlegend": true,
         "type": "scatter",
         "x": [
          5
         ],
         "xaxis": "x",
         "y": [
          2
         ],
         "yaxis": "y"
        }
       ],
       "layout": {
        "legend": {
         "itemsizing": "constant",
         "title": {
          "text": "States Affected"
         },
         "tracegroupgap": 0
        },
        "margin": {
         "t": 60
        },
        "template": {
         "data": {
          "bar": [
           {
            "error_x": {
             "color": "#2a3f5f"
            },
            "error_y": {
             "color": "#2a3f5f"
            },
            "marker": {
             "line": {
              "color": "#E5ECF6",
              "width": 0.5
             }
            },
            "type": "bar"
           }
          ],
          "barpolar": [
           {
            "marker": {
             "line": {
              "color": "#E5ECF6",
              "width": 0.5
             }
            },
            "type": "barpolar"
           }
          ],
          "carpet": [
           {
            "aaxis": {
             "endlinecolor": "#2a3f5f",
             "gridcolor": "white",
             "linecolor": "white",
             "minorgridcolor": "white",
             "startlinecolor": "#2a3f5f"
            },
            "baxis": {
             "endlinecolor": "#2a3f5f",
             "gridcolor": "white",
             "linecolor": "white",
             "minorgridcolor": "white",
             "startlinecolor": "#2a3f5f"
            },
            "type": "carpet"
           }
          ],
          "choropleth": [
           {
            "colorbar": {
             "outlinewidth": 0,
             "ticks": ""
            },
            "type": "choropleth"
           }
          ],
          "contour": [
           {
            "colorbar": {
             "outlinewidth": 0,
             "ticks": ""
            },
            "colorscale": [
             [
              0,
              "#0d0887"
             ],
             [
              0.1111111111111111,
              "#46039f"
             ],
             [
              0.2222222222222222,
              "#7201a8"
             ],
             [
              0.3333333333333333,
              "#9c179e"
             ],
             [
              0.4444444444444444,
              "#bd3786"
             ],
             [
              0.5555555555555556,
              "#d8576b"
             ],
             [
              0.6666666666666666,
              "#ed7953"
             ],
             [
              0.7777777777777778,
              "#fb9f3a"
             ],
             [
              0.8888888888888888,
              "#fdca26"
             ],
             [
              1,
              "#f0f921"
             ]
            ],
            "type": "contour"
           }
          ],
          "contourcarpet": [
           {
            "colorbar": {
             "outlinewidth": 0,
             "ticks": ""
            },
            "type": "contourcarpet"
           }
          ],
          "heatmap": [
           {
            "colorbar": {
             "outlinewidth": 0,
             "ticks": ""
            },
            "colorscale": [
             [
              0,
              "#0d0887"
             ],
             [
              0.1111111111111111,
              "#46039f"
             ],
             [
              0.2222222222222222,
              "#7201a8"
             ],
             [
              0.3333333333333333,
              "#9c179e"
             ],
             [
              0.4444444444444444,
              "#bd3786"
             ],
             [
              0.5555555555555556,
              "#d8576b"
             ],
             [
              0.6666666666666666,
              "#ed7953"
             ],
             [
              0.7777777777777778,
              "#fb9f3a"
             ],
             [
              0.8888888888888888,
              "#fdca26"
             ],
             [
              1,
              "#f0f921"
             ]
            ],
            "type": "heatmap"
           }
          ],
          "heatmapgl": [
           {
            "colorbar": {
             "outlinewidth": 0,
             "ticks": ""
            },
            "colorscale": [
             [
              0,
              "#0d0887"
             ],
             [
              0.1111111111111111,
              "#46039f"
             ],
             [
              0.2222222222222222,
              "#7201a8"
             ],
             [
              0.3333333333333333,
              "#9c179e"
             ],
             [
              0.4444444444444444,
              "#bd3786"
             ],
             [
              0.5555555555555556,
              "#d8576b"
             ],
             [
              0.6666666666666666,
              "#ed7953"
             ],
             [
              0.7777777777777778,
              "#fb9f3a"
             ],
             [
              0.8888888888888888,
              "#fdca26"
             ],
             [
              1,
              "#f0f921"
             ]
            ],
            "type": "heatmapgl"
           }
          ],
          "histogram": [
           {
            "marker": {
             "colorbar": {
              "outlinewidth": 0,
              "ticks": ""
             }
            },
            "type": "histogram"
           }
          ],
          "histogram2d": [
           {
            "colorbar": {
             "outlinewidth": 0,
             "ticks": ""
            },
            "colorscale": [
             [
              0,
              "#0d0887"
             ],
             [
              0.1111111111111111,
              "#46039f"
             ],
             [
              0.2222222222222222,
              "#7201a8"
             ],
             [
              0.3333333333333333,
              "#9c179e"
             ],
             [
              0.4444444444444444,
              "#bd3786"
             ],
             [
              0.5555555555555556,
              "#d8576b"
             ],
             [
              0.6666666666666666,
              "#ed7953"
             ],
             [
              0.7777777777777778,
              "#fb9f3a"
             ],
             [
              0.8888888888888888,
              "#fdca26"
             ],
             [
              1,
              "#f0f921"
             ]
            ],
            "type": "histogram2d"
           }
          ],
          "histogram2dcontour": [
           {
            "colorbar": {
             "outlinewidth": 0,
             "ticks": ""
            },
            "colorscale": [
             [
              0,
              "#0d0887"
             ],
             [
              0.1111111111111111,
              "#46039f"
             ],
             [
              0.2222222222222222,
              "#7201a8"
             ],
             [
              0.3333333333333333,
              "#9c179e"
             ],
             [
              0.4444444444444444,
              "#bd3786"
             ],
             [
              0.5555555555555556,
              "#d8576b"
             ],
             [
              0.6666666666666666,
              "#ed7953"
             ],
             [
              0.7777777777777778,
              "#fb9f3a"
             ],
             [
              0.8888888888888888,
              "#fdca26"
             ],
             [
              1,
              "#f0f921"
             ]
            ],
            "type": "histogram2dcontour"
           }
          ],
          "mesh3d": [
           {
            "colorbar": {
             "outlinewidth": 0,
             "ticks": ""
            },
            "type": "mesh3d"
           }
          ],
          "parcoords": [
           {
            "line": {
             "colorbar": {
              "outlinewidth": 0,
              "ticks": ""
             }
            },
            "type": "parcoords"
           }
          ],
          "pie": [
           {
            "automargin": true,
            "type": "pie"
           }
          ],
          "scatter": [
           {
            "marker": {
             "colorbar": {
              "outlinewidth": 0,
              "ticks": ""
             }
            },
            "type": "scatter"
           }
          ],
          "scatter3d": [
           {
            "line": {
             "colorbar": {
              "outlinewidth": 0,
              "ticks": ""
             }
            },
            "marker": {
             "colorbar": {
              "outlinewidth": 0,
              "ticks": ""
             }
            },
            "type": "scatter3d"
           }
          ],
          "scattercarpet": [
           {
            "marker": {
             "colorbar": {
              "outlinewidth": 0,
              "ticks": ""
             }
            },
            "type": "scattercarpet"
           }
          ],
          "scattergeo": [
           {
            "marker": {
             "colorbar": {
              "outlinewidth": 0,
              "ticks": ""
             }
            },
            "type": "scattergeo"
           }
          ],
          "scattergl": [
           {
            "marker": {
             "colorbar": {
              "outlinewidth": 0,
              "ticks": ""
             }
            },
            "type": "scattergl"
           }
          ],
          "scattermapbox": [
           {
            "marker": {
             "colorbar": {
              "outlinewidth": 0,
              "ticks": ""
             }
            },
            "type": "scattermapbox"
           }
          ],
          "scatterpolar": [
           {
            "marker": {
             "colorbar": {
              "outlinewidth": 0,
              "ticks": ""
             }
            },
            "type": "scatterpolar"
           }
          ],
          "scatterpolargl": [
           {
            "marker": {
             "colorbar": {
              "outlinewidth": 0,
              "ticks": ""
             }
            },
            "type": "scatterpolargl"
           }
          ],
          "scatterternary": [
           {
            "marker": {
             "colorbar": {
              "outlinewidth": 0,
              "ticks": ""
             }
            },
            "type": "scatterternary"
           }
          ],
          "surface": [
           {
            "colorbar": {
             "outlinewidth": 0,
             "ticks": ""
            },
            "colorscale": [
             [
              0,
              "#0d0887"
             ],
             [
              0.1111111111111111,
              "#46039f"
             ],
             [
              0.2222222222222222,
              "#7201a8"
             ],
             [
              0.3333333333333333,
              "#9c179e"
             ],
             [
              0.4444444444444444,
              "#bd3786"
             ],
             [
              0.5555555555555556,
              "#d8576b"
             ],
             [
              0.6666666666666666,
              "#ed7953"
             ],
             [
              0.7777777777777778,
              "#fb9f3a"
             ],
             [
              0.8888888888888888,
              "#fdca26"
             ],
             [
              1,
              "#f0f921"
             ]
            ],
            "type": "surface"
           }
          ],
          "table": [
           {
            "cells": {
             "fill": {
              "color": "#EBF0F8"
             },
             "line": {
              "color": "white"
             }
            },
            "header": {
             "fill": {
              "color": "#C8D4E3"
             },
             "line": {
              "color": "white"
             }
            },
            "type": "table"
           }
          ]
         },
         "layout": {
          "annotationdefaults": {
           "arrowcolor": "#2a3f5f",
           "arrowhead": 0,
           "arrowwidth": 1
          },
          "coloraxis": {
           "colorbar": {
            "outlinewidth": 0,
            "ticks": ""
           }
          },
          "colorscale": {
           "diverging": [
            [
             0,
             "#8e0152"
            ],
            [
             0.1,
             "#c51b7d"
            ],
            [
             0.2,
             "#de77ae"
            ],
            [
             0.3,
             "#f1b6da"
            ],
            [
             0.4,
             "#fde0ef"
            ],
            [
             0.5,
             "#f7f7f7"
            ],
            [
             0.6,
             "#e6f5d0"
            ],
            [
             0.7,
             "#b8e186"
            ],
            [
             0.8,
             "#7fbc41"
            ],
            [
             0.9,
             "#4d9221"
            ],
            [
             1,
             "#276419"
            ]
           ],
           "sequential": [
            [
             0,
             "#0d0887"
            ],
            [
             0.1111111111111111,
             "#46039f"
            ],
            [
             0.2222222222222222,
             "#7201a8"
            ],
            [
             0.3333333333333333,
             "#9c179e"
            ],
            [
             0.4444444444444444,
             "#bd3786"
            ],
            [
             0.5555555555555556,
             "#d8576b"
            ],
            [
             0.6666666666666666,
             "#ed7953"
            ],
            [
             0.7777777777777778,
             "#fb9f3a"
            ],
            [
             0.8888888888888888,
             "#fdca26"
            ],
            [
             1,
             "#f0f921"
            ]
           ],
           "sequentialminus": [
            [
             0,
             "#0d0887"
            ],
            [
             0.1111111111111111,
             "#46039f"
            ],
            [
             0.2222222222222222,
             "#7201a8"
            ],
            [
             0.3333333333333333,
             "#9c179e"
            ],
            [
             0.4444444444444444,
             "#bd3786"
            ],
            [
             0.5555555555555556,
             "#d8576b"
            ],
            [
             0.6666666666666666,
             "#ed7953"
            ],
            [
             0.7777777777777778,
             "#fb9f3a"
            ],
            [
             0.8888888888888888,
             "#fdca26"
            ],
            [
             1,
             "#f0f921"
            ]
           ]
          },
          "colorway": [
           "#636efa",
           "#EF553B",
           "#00cc96",
           "#ab63fa",
           "#FFA15A",
           "#19d3f3",
           "#FF6692",
           "#B6E880",
           "#FF97FF",
           "#FECB52"
          ],
          "font": {
           "color": "#2a3f5f"
          },
          "geo": {
           "bgcolor": "white",
           "lakecolor": "white",
           "landcolor": "#E5ECF6",
           "showlakes": true,
           "showland": true,
           "subunitcolor": "white"
          },
          "hoverlabel": {
           "align": "left"
          },
          "hovermode": "closest",
          "mapbox": {
           "style": "light"
          },
          "paper_bgcolor": "white",
          "plot_bgcolor": "#E5ECF6",
          "polar": {
           "angularaxis": {
            "gridcolor": "white",
            "linecolor": "white",
            "ticks": ""
           },
           "bgcolor": "#E5ECF6",
           "radialaxis": {
            "gridcolor": "white",
            "linecolor": "white",
            "ticks": ""
           }
          },
          "scene": {
           "xaxis": {
            "backgroundcolor": "#E5ECF6",
            "gridcolor": "white",
            "gridwidth": 2,
            "linecolor": "white",
            "showbackground": true,
            "ticks": "",
            "zerolinecolor": "white"
           },
           "yaxis": {
            "backgroundcolor": "#E5ECF6",
            "gridcolor": "white",
            "gridwidth": 2,
            "linecolor": "white",
            "showbackground": true,
            "ticks": "",
            "zerolinecolor": "white"
           },
           "zaxis": {
            "backgroundcolor": "#E5ECF6",
            "gridcolor": "white",
            "gridwidth": 2,
            "linecolor": "white",
            "showbackground": true,
            "ticks": "",
            "zerolinecolor": "white"
           }
          },
          "shapedefaults": {
           "line": {
            "color": "#2a3f5f"
           }
          },
          "ternary": {
           "aaxis": {
            "gridcolor": "white",
            "linecolor": "white",
            "ticks": ""
           },
           "baxis": {
            "gridcolor": "white",
            "linecolor": "white",
            "ticks": ""
           },
           "bgcolor": "#E5ECF6",
           "caxis": {
            "gridcolor": "white",
            "linecolor": "white",
            "ticks": ""
           }
          },
          "title": {
           "x": 0.05
          },
          "xaxis": {
           "automargin": true,
           "gridcolor": "white",
           "linecolor": "white",
           "ticks": "",
           "title": {
            "standoff": 15
           },
           "zerolinecolor": "white",
           "zerolinewidth": 2
          },
          "yaxis": {
           "automargin": true,
           "gridcolor": "white",
           "linecolor": "white",
           "ticks": "",
           "title": {
            "standoff": 15
           },
           "zerolinecolor": "white",
           "zerolinewidth": 2
          }
         }
        },
        "xaxis": {
         "anchor": "y",
         "domain": [
          0,
          1
         ],
         "title": {
          "text": "No. of Cases (Lab Confirmed)"
         }
        },
        "yaxis": {
         "anchor": "x",
         "domain": [
          0,
          1
         ],
         "title": {
          "text": "No. of Deaths"
         }
        }
       }
      },
      "text/html": [
       "<div>                            <div id=\"c1026a19-43d4-4ebd-a46d-2144ea3f6c9d\" class=\"plotly-graph-div\" style=\"height:525px; width:100%;\"></div>            <script type=\"text/javascript\">                require([\"plotly\"], function(Plotly) {                    window.PLOTLYENV=window.PLOTLYENV || {};                                    if (document.getElementById(\"c1026a19-43d4-4ebd-a46d-2144ea3f6c9d\")) {                    Plotly.newPlot(                        \"c1026a19-43d4-4ebd-a46d-2144ea3f6c9d\",                        [{\"hovertemplate\": \"States Affected=Lagos<br>No. of Cases (Lab Confirmed)=%{marker.size}<br>No. of Deaths=%{y}<extra></extra>\", \"legendgroup\": \"Lagos\", \"marker\": {\"color\": \"#636efa\", \"size\": [59833], \"sizemode\": \"area\", \"sizeref\": 149.5825, \"symbol\": \"circle\"}, \"mode\": \"markers\", \"name\": \"Lagos\", \"orientation\": \"v\", \"showlegend\": true, \"type\": \"scatter\", \"x\": [59833], \"xaxis\": \"x\", \"y\": [456], \"yaxis\": \"y\"}, {\"hovertemplate\": \"States Affected=FCT<br>No. of Cases (Lab Confirmed)=%{marker.size}<br>No. of Deaths=%{y}<extra></extra>\", \"legendgroup\": \"FCT\", \"marker\": {\"color\": \"#EF553B\", \"size\": [19902], \"sizemode\": \"area\", \"sizeref\": 149.5825, \"symbol\": \"circle\"}, \"mode\": \"markers\", \"name\": \"FCT\", \"orientation\": \"v\", \"showlegend\": true, \"type\": \"scatter\", \"x\": [19902], \"xaxis\": \"x\", \"y\": [167], \"yaxis\": \"y\"}, {\"hovertemplate\": \"States Affected=Kaduna<br>No. of Cases (Lab Confirmed)=%{marker.size}<br>No. of Deaths=%{y}<extra></extra>\", \"legendgroup\": \"Kaduna\", \"marker\": {\"color\": \"#00cc96\", \"size\": [9123], \"sizemode\": \"area\", \"sizeref\": 149.5825, \"symbol\": \"circle\"}, \"mode\": \"markers\", \"name\": \"Kaduna\", \"orientation\": \"v\", \"showlegend\": true, \"type\": \"scatter\", \"x\": [9123], \"xaxis\": \"x\", \"y\": [65], \"yaxis\": \"y\"}, {\"hovertemplate\": \"States Affected=Plateau<br>No. of Cases (Lab Confirmed)=%{marker.size}<br>No. of Deaths=%{y}<extra></extra>\", \"legendgroup\": \"Plateau\", \"marker\": {\"color\": \"#ab63fa\", \"size\": [9067], \"sizemode\": \"area\", \"sizeref\": 149.5825, \"symbol\": \"circle\"}, \"mode\": \"markers\", \"name\": \"Plateau\", \"orientation\": \"v\", \"showlegend\": true, \"type\": \"scatter\", \"x\": [9067], \"xaxis\": \"x\", \"y\": [57], \"yaxis\": \"y\"}, {\"hovertemplate\": \"States Affected=Rivers<br>No. of Cases (Lab Confirmed)=%{marker.size}<br>No. of Deaths=%{y}<extra></extra>\", \"legendgroup\": \"Rivers\", \"marker\": {\"color\": \"#FFA15A\", \"size\": [7335], \"sizemode\": \"area\", \"sizeref\": 149.5825, \"symbol\": \"circle\"}, \"mode\": \"markers\", \"name\": \"Rivers\", \"orientation\": \"v\", \"showlegend\": true, \"type\": \"scatter\", \"x\": [7335], \"xaxis\": \"x\", \"y\": [101], \"yaxis\": \"y\"}, {\"hovertemplate\": \"States Affected=Oyo<br>No. of Cases (Lab Confirmed)=%{marker.size}<br>No. of Deaths=%{y}<extra></extra>\", \"legendgroup\": \"Oyo\", \"marker\": {\"color\": \"#19d3f3\", \"size\": [6872], \"sizemode\": \"area\", \"sizeref\": 149.5825, \"symbol\": \"circle\"}, \"mode\": \"markers\", \"name\": \"Oyo\", \"orientation\": \"v\", \"showlegend\": true, \"type\": \"scatter\", \"x\": [6872], \"xaxis\": \"x\", \"y\": [126], \"yaxis\": \"y\"}, {\"hovertemplate\": \"States Affected=Edo<br>No. of Cases (Lab Confirmed)=%{marker.size}<br>No. of Deaths=%{y}<extra></extra>\", \"legendgroup\": \"Edo\", \"marker\": {\"color\": \"#FF6692\", \"size\": [4910], \"sizemode\": \"area\", \"sizeref\": 149.5825, \"symbol\": \"circle\"}, \"mode\": \"markers\", \"name\": \"Edo\", \"orientation\": \"v\", \"showlegend\": true, \"type\": \"scatter\", \"x\": [4910], \"xaxis\": \"x\", \"y\": [185], \"yaxis\": \"y\"}, {\"hovertemplate\": \"States Affected=Ogun<br>No. of Cases (Lab Confirmed)=%{marker.size}<br>No. of Deaths=%{y}<extra></extra>\", \"legendgroup\": \"Ogun\", \"marker\": {\"color\": \"#B6E880\", \"size\": [4694], \"sizemode\": \"area\", \"sizeref\": 149.5825, \"symbol\": \"circle\"}, \"mode\": \"markers\", \"name\": \"Ogun\", \"orientation\": \"v\", \"showlegend\": true, \"type\": \"scatter\", \"x\": [4694], \"xaxis\": \"x\", \"y\": [51], \"yaxis\": \"y\"}, {\"hovertemplate\": \"States Affected=Kano<br>No. of Cases (Lab Confirmed)=%{marker.size}<br>No. of Deaths=%{y}<extra></extra>\", \"legendgroup\": \"Kano\", \"marker\": {\"color\": \"#FF97FF\", \"size\": [4005], \"sizemode\": \"area\", \"sizeref\": 149.5825, \"symbol\": \"circle\"}, \"mode\": \"markers\", \"name\": \"Kano\", \"orientation\": \"v\", \"showlegend\": true, \"type\": \"scatter\", \"x\": [4005], \"xaxis\": \"x\", \"y\": [110], \"yaxis\": \"y\"}, {\"hovertemplate\": \"States Affected=Ondo<br>No. of Cases (Lab Confirmed)=%{marker.size}<br>No. of Deaths=%{y}<extra></extra>\", \"legendgroup\": \"Ondo\", \"marker\": {\"color\": \"#FECB52\", \"size\": [3483], \"sizemode\": \"area\", \"sizeref\": 149.5825, \"symbol\": \"circle\"}, \"mode\": \"markers\", \"name\": \"Ondo\", \"orientation\": \"v\", \"showlegend\": true, \"type\": \"scatter\", \"x\": [3483], \"xaxis\": \"x\", \"y\": [65], \"yaxis\": \"y\"}, {\"hovertemplate\": \"States Affected=Kwara<br>No. of Cases (Lab Confirmed)=%{marker.size}<br>No. of Deaths=%{y}<extra></extra>\", \"legendgroup\": \"Kwara\", \"marker\": {\"color\": \"#636efa\", \"size\": [3144], \"sizemode\": \"area\", \"sizeref\": 149.5825, \"symbol\": \"circle\"}, \"mode\": \"markers\", \"name\": \"Kwara\", \"orientation\": \"v\", \"showlegend\": true, \"type\": \"scatter\", \"x\": [3144], \"xaxis\": \"x\", \"y\": [55], \"yaxis\": \"y\"}, {\"hovertemplate\": \"States Affected=Delta<br>No. of Cases (Lab Confirmed)=%{marker.size}<br>No. of Deaths=%{y}<extra></extra>\", \"legendgroup\": \"Delta\", \"marker\": {\"color\": \"#EF553B\", \"size\": [2650], \"sizemode\": \"area\", \"sizeref\": 149.5825, \"symbol\": \"circle\"}, \"mode\": \"markers\", \"name\": \"Delta\", \"orientation\": \"v\", \"showlegend\": true, \"type\": \"scatter\", \"x\": [2650], \"xaxis\": \"x\", \"y\": [72], \"yaxis\": \"y\"}, {\"hovertemplate\": \"States Affected=Osun<br>No. of Cases (Lab Confirmed)=%{marker.size}<br>No. of Deaths=%{y}<extra></extra>\", \"legendgroup\": \"Osun\", \"marker\": {\"color\": \"#00cc96\", \"size\": [2578], \"sizemode\": \"area\", \"sizeref\": 149.5825, \"symbol\": \"circle\"}, \"mode\": \"markers\", \"name\": \"Osun\", \"orientation\": \"v\", \"showlegend\": true, \"type\": \"scatter\", \"x\": [2578], \"xaxis\": \"x\", \"y\": [52], \"yaxis\": \"y\"}, {\"hovertemplate\": \"States Affected=Enugu<br>No. of Cases (Lab Confirmed)=%{marker.size}<br>No. of Deaths=%{y}<extra></extra>\", \"legendgroup\": \"Enugu\", \"marker\": {\"color\": \"#ab63fa\", \"size\": [2464], \"sizemode\": \"area\", \"sizeref\": 149.5825, \"symbol\": \"circle\"}, \"mode\": \"markers\", \"name\": \"Enugu\", \"orientation\": \"v\", \"showlegend\": true, \"type\": \"scatter\", \"x\": [2464], \"xaxis\": \"x\", \"y\": [29], \"yaxis\": \"y\"}, {\"hovertemplate\": \"States Affected=Nasarawa<br>No. of Cases (Lab Confirmed)=%{marker.size}<br>No. of Deaths=%{y}<extra></extra>\", \"legendgroup\": \"Nasarawa\", \"marker\": {\"color\": \"#FFA15A\", \"size\": [2384], \"sizemode\": \"area\", \"sizeref\": 149.5825, \"symbol\": \"circle\"}, \"mode\": \"markers\", \"name\": \"Nasarawa\", \"orientation\": \"v\", \"showlegend\": true, \"type\": \"scatter\", \"x\": [2384], \"xaxis\": \"x\", \"y\": [39], \"yaxis\": \"y\"}, {\"hovertemplate\": \"States Affected=Katsina<br>No. of Cases (Lab Confirmed)=%{marker.size}<br>No. of Deaths=%{y}<extra></extra>\", \"legendgroup\": \"Katsina\", \"marker\": {\"color\": \"#19d3f3\", \"size\": [2110], \"sizemode\": \"area\", \"sizeref\": 149.5825, \"symbol\": \"circle\"}, \"mode\": \"markers\", \"name\": \"Katsina\", \"orientation\": \"v\", \"showlegend\": true, \"type\": \"scatter\", \"x\": [2110], \"xaxis\": \"x\", \"y\": [34], \"yaxis\": \"y\"}, {\"hovertemplate\": \"States Affected=Gombe<br>No. of Cases (Lab Confirmed)=%{marker.size}<br>No. of Deaths=%{y}<extra></extra>\", \"legendgroup\": \"Gombe\", \"marker\": {\"color\": \"#FF6692\", \"size\": [2098], \"sizemode\": \"area\", \"sizeref\": 149.5825, \"symbol\": \"circle\"}, \"mode\": \"markers\", \"name\": \"Gombe\", \"orientation\": \"v\", \"showlegend\": true, \"type\": \"scatter\", \"x\": [2098], \"xaxis\": \"x\", \"y\": [44], \"yaxis\": \"y\"}, {\"hovertemplate\": \"States Affected=Ebonyi<br>No. of Cases (Lab Confirmed)=%{marker.size}<br>No. of Deaths=%{y}<extra></extra>\", \"legendgroup\": \"Ebonyi\", \"marker\": {\"color\": \"#B6E880\", \"size\": [2039], \"sizemode\": \"area\", \"sizeref\": 149.5825, \"symbol\": \"circle\"}, \"mode\": \"markers\", \"name\": \"Ebonyi\", \"orientation\": \"v\", \"showlegend\": true, \"type\": \"scatter\", \"x\": [2039], \"xaxis\": \"x\", \"y\": [32], \"yaxis\": \"y\"}, {\"hovertemplate\": \"States Affected=Akwa Ibom<br>No. of Cases (Lab Confirmed)=%{marker.size}<br>No. of Deaths=%{y}<extra></extra>\", \"legendgroup\": \"Akwa Ibom\", \"marker\": {\"color\": \"#FF97FF\", \"size\": [1931], \"sizemode\": \"area\", \"sizeref\": 149.5825, \"symbol\": \"circle\"}, \"mode\": \"markers\", \"name\": \"Akwa Ibom\", \"orientation\": \"v\", \"showlegend\": true, \"type\": \"scatter\", \"x\": [1931], \"xaxis\": \"x\", \"y\": [18], \"yaxis\": \"y\"}, {\"hovertemplate\": \"States Affected=Anambra<br>No. of Cases (Lab Confirmed)=%{marker.size}<br>No. of Deaths=%{y}<extra></extra>\", \"legendgroup\": \"Anambra\", \"marker\": {\"color\": \"#FECB52\", \"size\": [1909], \"sizemode\": \"area\", \"sizeref\": 149.5825, \"symbol\": \"circle\"}, \"mode\": \"markers\", \"name\": \"Anambra\", \"orientation\": \"v\", \"showlegend\": true, \"type\": \"scatter\", \"x\": [1909], \"xaxis\": \"x\", \"y\": [19], \"yaxis\": \"y\"}, {\"hovertemplate\": \"States Affected=Abia<br>No. of Cases (Lab Confirmed)=%{marker.size}<br>No. of Deaths=%{y}<extra></extra>\", \"legendgroup\": \"Abia\", \"marker\": {\"color\": \"#636efa\", \"size\": [1693], \"sizemode\": \"area\", \"sizeref\": 149.5825, \"symbol\": \"circle\"}, \"mode\": \"markers\", \"name\": \"Abia\", \"orientation\": \"v\", \"showlegend\": true, \"type\": \"scatter\", \"x\": [1693], \"xaxis\": \"x\", \"y\": [22], \"yaxis\": \"y\"}, {\"hovertemplate\": \"States Affected=Imo<br>No. of Cases (Lab Confirmed)=%{marker.size}<br>No. of Deaths=%{y}<extra></extra>\", \"legendgroup\": \"Imo\", \"marker\": {\"color\": \"#EF553B\", \"size\": [1661], \"sizemode\": \"area\", \"sizeref\": 149.5825, \"symbol\": \"circle\"}, \"mode\": \"markers\", \"name\": \"Imo\", \"orientation\": \"v\", \"showlegend\": true, \"type\": \"scatter\", \"x\": [1661], \"xaxis\": \"x\", \"y\": [37], \"yaxis\": \"y\"}, {\"hovertemplate\": \"States Affected=Bauchi<br>No. of Cases (Lab Confirmed)=%{marker.size}<br>No. of Deaths=%{y}<extra></extra>\", \"legendgroup\": \"Bauchi\", \"marker\": {\"color\": \"#00cc96\", \"size\": [1549], \"sizemode\": \"area\", \"sizeref\": 149.5825, \"symbol\": \"circle\"}, \"mode\": \"markers\", \"name\": \"Bauchi\", \"orientation\": \"v\", \"showlegend\": true, \"type\": \"scatter\", \"x\": [1549], \"xaxis\": \"x\", \"y\": [17], \"yaxis\": \"y\"}, {\"hovertemplate\": \"States Affected=Benue<br>No. of Cases (Lab Confirmed)=%{marker.size}<br>No. of Deaths=%{y}<extra></extra>\", \"legendgroup\": \"Benue\", \"marker\": {\"color\": \"#ab63fa\", \"size\": [1366], \"sizemode\": \"area\", \"sizeref\": 149.5825, \"symbol\": \"circle\"}, \"mode\": \"markers\", \"name\": \"Benue\", \"orientation\": \"v\", \"showlegend\": true, \"type\": \"scatter\", \"x\": [1366], \"xaxis\": \"x\", \"y\": [24], \"yaxis\": \"y\"}, {\"hovertemplate\": \"States Affected=Borno<br>No. of Cases (Lab Confirmed)=%{marker.size}<br>No. of Deaths=%{y}<extra></extra>\", \"legendgroup\": \"Borno\", \"marker\": {\"color\": \"#FFA15A\", \"size\": [1344], \"sizemode\": \"area\", \"sizeref\": 149.5825, \"symbol\": \"circle\"}, \"mode\": \"markers\", \"name\": \"Borno\", \"orientation\": \"v\", \"showlegend\": true, \"type\": \"scatter\", \"x\": [1344], \"xaxis\": \"x\", \"y\": [38], \"yaxis\": \"y\"}, {\"hovertemplate\": \"States Affected=Adamawa<br>No. of Cases (Lab Confirmed)=%{marker.size}<br>No. of Deaths=%{y}<extra></extra>\", \"legendgroup\": \"Adamawa\", \"marker\": {\"color\": \"#19d3f3\", \"size\": [1134], \"sizemode\": \"area\", \"sizeref\": 149.5825, \"symbol\": \"circle\"}, \"mode\": \"markers\", \"name\": \"Adamawa\", \"orientation\": \"v\", \"showlegend\": true, \"type\": \"scatter\", \"x\": [1134], \"xaxis\": \"x\", \"y\": [32], \"yaxis\": \"y\"}, {\"hovertemplate\": \"States Affected=Taraba<br>No. of Cases (Lab Confirmed)=%{marker.size}<br>No. of Deaths=%{y}<extra></extra>\", \"legendgroup\": \"Taraba\", \"marker\": {\"color\": \"#FF6692\", \"size\": [1001], \"sizemode\": \"area\", \"sizeref\": 149.5825, \"symbol\": \"circle\"}, \"mode\": \"markers\", \"name\": \"Taraba\", \"orientation\": \"v\", \"showlegend\": true, \"type\": \"scatter\", \"x\": [1001], \"xaxis\": \"x\", \"y\": [24], \"yaxis\": \"y\"}, {\"hovertemplate\": \"States Affected=Niger<br>No. of Cases (Lab Confirmed)=%{marker.size}<br>No. of Deaths=%{y}<extra></extra>\", \"legendgroup\": \"Niger\", \"marker\": {\"color\": \"#B6E880\", \"size\": [935], \"sizemode\": \"area\", \"sizeref\": 149.5825, \"symbol\": \"circle\"}, \"mode\": \"markers\", \"name\": \"Niger\", \"orientation\": \"v\", \"showlegend\": true, \"type\": \"scatter\", \"x\": [935], \"xaxis\": \"x\", \"y\": [17], \"yaxis\": \"y\"}, {\"hovertemplate\": \"States Affected=Bayelsa<br>No. of Cases (Lab Confirmed)=%{marker.size}<br>No. of Deaths=%{y}<extra></extra>\", \"legendgroup\": \"Bayelsa\", \"marker\": {\"color\": \"#FF97FF\", \"size\": [906], \"sizemode\": \"area\", \"sizeref\": 149.5825, \"symbol\": \"circle\"}, \"mode\": \"markers\", \"name\": \"Bayelsa\", \"orientation\": \"v\", \"showlegend\": true, \"type\": \"scatter\", \"x\": [906], \"xaxis\": \"x\", \"y\": [26], \"yaxis\": \"y\"}, {\"hovertemplate\": \"States Affected=Ekiti<br>No. of Cases (Lab Confirmed)=%{marker.size}<br>No. of Deaths=%{y}<extra></extra>\", \"legendgroup\": \"Ekiti\", \"marker\": {\"color\": \"#FECB52\", \"size\": [880], \"sizemode\": \"area\", \"sizeref\": 149.5825, \"symbol\": \"circle\"}, \"mode\": \"markers\", \"name\": \"Ekiti\", \"orientation\": \"v\", \"showlegend\": true, \"type\": \"scatter\", \"x\": [880], \"xaxis\": \"x\", \"y\": [11], \"yaxis\": \"y\"}, {\"hovertemplate\": \"States Affected=Sokoto<br>No. of Cases (Lab Confirmed)=%{marker.size}<br>No. of Deaths=%{y}<extra></extra>\", \"legendgroup\": \"Sokoto\", \"marker\": {\"color\": \"#636efa\", \"size\": [775], \"sizemode\": \"area\", \"sizeref\": 149.5825, \"symbol\": \"circle\"}, \"mode\": \"markers\", \"name\": \"Sokoto\", \"orientation\": \"v\", \"showlegend\": true, \"type\": \"scatter\", \"x\": [775], \"xaxis\": \"x\", \"y\": [28], \"yaxis\": \"y\"}, {\"hovertemplate\": \"States Affected=Jigawa<br>No. of Cases (Lab Confirmed)=%{marker.size}<br>No. of Deaths=%{y}<extra></extra>\", \"legendgroup\": \"Jigawa\", \"marker\": {\"color\": \"#EF553B\", \"size\": [534], \"sizemode\": \"area\", \"sizeref\": 149.5825, \"symbol\": \"circle\"}, \"mode\": \"markers\", \"name\": \"Jigawa\", \"orientation\": \"v\", \"showlegend\": true, \"type\": \"scatter\", \"x\": [534], \"xaxis\": \"x\", \"y\": [16], \"yaxis\": \"y\"}, {\"hovertemplate\": \"States Affected=Yobe<br>No. of Cases (Lab Confirmed)=%{marker.size}<br>No. of Deaths=%{y}<extra></extra>\", \"legendgroup\": \"Yobe\", \"marker\": {\"color\": \"#00cc96\", \"size\": [499], \"sizemode\": \"area\", \"sizeref\": 149.5825, \"symbol\": \"circle\"}, \"mode\": \"markers\", \"name\": \"Yobe\", \"orientation\": \"v\", \"showlegend\": true, \"type\": \"scatter\", \"x\": [499], \"xaxis\": \"x\", \"y\": [9], \"yaxis\": \"y\"}, {\"hovertemplate\": \"States Affected=Kebbi<br>No. of Cases (Lab Confirmed)=%{marker.size}<br>No. of Deaths=%{y}<extra></extra>\", \"legendgroup\": \"Kebbi\", \"marker\": {\"color\": \"#ab63fa\", \"size\": [450], \"sizemode\": \"area\", \"sizeref\": 149.5825, \"symbol\": \"circle\"}, \"mode\": \"markers\", \"name\": \"Kebbi\", \"orientation\": \"v\", \"showlegend\": true, \"type\": \"scatter\", \"x\": [450], \"xaxis\": \"x\", \"y\": [16], \"yaxis\": \"y\"}, {\"hovertemplate\": \"States Affected=Cross River<br>No. of Cases (Lab Confirmed)=%{marker.size}<br>No. of Deaths=%{y}<extra></extra>\", \"legendgroup\": \"Cross River\", \"marker\": {\"color\": \"#FFA15A\", \"size\": [402], \"sizemode\": \"area\", \"sizeref\": 149.5825, \"symbol\": \"circle\"}, \"mode\": \"markers\", \"name\": \"Cross River\", \"orientation\": \"v\", \"showlegend\": true, \"type\": \"scatter\", \"x\": [402], \"xaxis\": \"x\", \"y\": [18], \"yaxis\": \"y\"}, {\"hovertemplate\": \"States Affected=Zamfara<br>No. of Cases (Lab Confirmed)=%{marker.size}<br>No. of Deaths=%{y}<extra></extra>\", \"legendgroup\": \"Zamfara\", \"marker\": {\"color\": \"#19d3f3\", \"size\": [244], \"sizemode\": \"area\", \"sizeref\": 149.5825, \"symbol\": \"circle\"}, \"mode\": \"markers\", \"name\": \"Zamfara\", \"orientation\": \"v\", \"showlegend\": true, \"type\": \"scatter\", \"x\": [244], \"xaxis\": \"x\", \"y\": [8], \"yaxis\": \"y\"}, {\"hovertemplate\": \"States Affected=Kogi<br>No. of Cases (Lab Confirmed)=%{marker.size}<br>No. of Deaths=%{y}<extra></extra>\", \"legendgroup\": \"Kogi\", \"marker\": {\"color\": \"#FF6692\", \"size\": [5], \"sizemode\": \"area\", \"sizeref\": 149.5825, \"symbol\": \"circle\"}, \"mode\": \"markers\", \"name\": \"Kogi\", \"orientation\": \"v\", \"showlegend\": true, \"type\": \"scatter\", \"x\": [5], \"xaxis\": \"x\", \"y\": [2], \"yaxis\": \"y\"}],                        {\"legend\": {\"itemsizing\": \"constant\", \"title\": {\"text\": \"States Affected\"}, \"tracegroupgap\": 0}, \"margin\": {\"t\": 60}, \"template\": {\"data\": {\"bar\": [{\"error_x\": {\"color\": \"#2a3f5f\"}, \"error_y\": {\"color\": \"#2a3f5f\"}, \"marker\": {\"line\": {\"color\": \"#E5ECF6\", \"width\": 0.5}}, \"type\": \"bar\"}], \"barpolar\": [{\"marker\": {\"line\": {\"color\": \"#E5ECF6\", \"width\": 0.5}}, \"type\": \"barpolar\"}], \"carpet\": [{\"aaxis\": {\"endlinecolor\": \"#2a3f5f\", \"gridcolor\": \"white\", \"linecolor\": \"white\", \"minorgridcolor\": \"white\", \"startlinecolor\": \"#2a3f5f\"}, \"baxis\": {\"endlinecolor\": \"#2a3f5f\", \"gridcolor\": \"white\", \"linecolor\": \"white\", \"minorgridcolor\": \"white\", \"startlinecolor\": \"#2a3f5f\"}, \"type\": \"carpet\"}], \"choropleth\": [{\"colorbar\": {\"outlinewidth\": 0, \"ticks\": \"\"}, \"type\": \"choropleth\"}], \"contour\": [{\"colorbar\": {\"outlinewidth\": 0, \"ticks\": \"\"}, \"colorscale\": [[0.0, \"#0d0887\"], [0.1111111111111111, \"#46039f\"], [0.2222222222222222, \"#7201a8\"], [0.3333333333333333, \"#9c179e\"], [0.4444444444444444, \"#bd3786\"], [0.5555555555555556, \"#d8576b\"], [0.6666666666666666, \"#ed7953\"], [0.7777777777777778, \"#fb9f3a\"], [0.8888888888888888, \"#fdca26\"], [1.0, \"#f0f921\"]], \"type\": \"contour\"}], \"contourcarpet\": [{\"colorbar\": {\"outlinewidth\": 0, \"ticks\": \"\"}, \"type\": \"contourcarpet\"}], \"heatmap\": [{\"colorbar\": {\"outlinewidth\": 0, \"ticks\": \"\"}, \"colorscale\": [[0.0, \"#0d0887\"], [0.1111111111111111, \"#46039f\"], [0.2222222222222222, \"#7201a8\"], [0.3333333333333333, \"#9c179e\"], [0.4444444444444444, \"#bd3786\"], [0.5555555555555556, \"#d8576b\"], [0.6666666666666666, \"#ed7953\"], [0.7777777777777778, \"#fb9f3a\"], [0.8888888888888888, \"#fdca26\"], [1.0, \"#f0f921\"]], \"type\": \"heatmap\"}], \"heatmapgl\": [{\"colorbar\": {\"outlinewidth\": 0, \"ticks\": \"\"}, \"colorscale\": [[0.0, \"#0d0887\"], [0.1111111111111111, \"#46039f\"], [0.2222222222222222, \"#7201a8\"], [0.3333333333333333, \"#9c179e\"], [0.4444444444444444, \"#bd3786\"], [0.5555555555555556, \"#d8576b\"], [0.6666666666666666, \"#ed7953\"], [0.7777777777777778, \"#fb9f3a\"], [0.8888888888888888, \"#fdca26\"], [1.0, \"#f0f921\"]], \"type\": \"heatmapgl\"}], \"histogram\": [{\"marker\": {\"colorbar\": {\"outlinewidth\": 0, \"ticks\": \"\"}}, \"type\": \"histogram\"}], \"histogram2d\": [{\"colorbar\": {\"outlinewidth\": 0, \"ticks\": \"\"}, \"colorscale\": [[0.0, \"#0d0887\"], [0.1111111111111111, \"#46039f\"], [0.2222222222222222, \"#7201a8\"], [0.3333333333333333, \"#9c179e\"], [0.4444444444444444, \"#bd3786\"], [0.5555555555555556, \"#d8576b\"], [0.6666666666666666, \"#ed7953\"], [0.7777777777777778, \"#fb9f3a\"], [0.8888888888888888, \"#fdca26\"], [1.0, \"#f0f921\"]], \"type\": \"histogram2d\"}], \"histogram2dcontour\": [{\"colorbar\": {\"outlinewidth\": 0, \"ticks\": \"\"}, \"colorscale\": [[0.0, \"#0d0887\"], [0.1111111111111111, \"#46039f\"], [0.2222222222222222, \"#7201a8\"], [0.3333333333333333, \"#9c179e\"], [0.4444444444444444, \"#bd3786\"], [0.5555555555555556, \"#d8576b\"], [0.6666666666666666, \"#ed7953\"], [0.7777777777777778, \"#fb9f3a\"], [0.8888888888888888, \"#fdca26\"], [1.0, \"#f0f921\"]], \"type\": \"histogram2dcontour\"}], \"mesh3d\": [{\"colorbar\": {\"outlinewidth\": 0, \"ticks\": \"\"}, \"type\": \"mesh3d\"}], \"parcoords\": [{\"line\": {\"colorbar\": {\"outlinewidth\": 0, \"ticks\": \"\"}}, \"type\": \"parcoords\"}], \"pie\": [{\"automargin\": true, \"type\": \"pie\"}], \"scatter\": [{\"marker\": {\"colorbar\": {\"outlinewidth\": 0, \"ticks\": \"\"}}, \"type\": \"scatter\"}], \"scatter3d\": [{\"line\": {\"colorbar\": {\"outlinewidth\": 0, \"ticks\": \"\"}}, \"marker\": {\"colorbar\": {\"outlinewidth\": 0, \"ticks\": \"\"}}, \"type\": \"scatter3d\"}], \"scattercarpet\": [{\"marker\": {\"colorbar\": {\"outlinewidth\": 0, \"ticks\": \"\"}}, \"type\": \"scattercarpet\"}], \"scattergeo\": [{\"marker\": {\"colorbar\": {\"outlinewidth\": 0, \"ticks\": \"\"}}, \"type\": \"scattergeo\"}], \"scattergl\": [{\"marker\": {\"colorbar\": {\"outlinewidth\": 0, \"ticks\": \"\"}}, \"type\": \"scattergl\"}], \"scattermapbox\": [{\"marker\": {\"colorbar\": {\"outlinewidth\": 0, \"ticks\": \"\"}}, \"type\": \"scattermapbox\"}], \"scatterpolar\": [{\"marker\": {\"colorbar\": {\"outlinewidth\": 0, \"ticks\": \"\"}}, \"type\": \"scatterpolar\"}], \"scatterpolargl\": [{\"marker\": {\"colorbar\": {\"outlinewidth\": 0, \"ticks\": \"\"}}, \"type\": \"scatterpolargl\"}], \"scatterternary\": [{\"marker\": {\"colorbar\": {\"outlinewidth\": 0, \"ticks\": \"\"}}, \"type\": \"scatterternary\"}], \"surface\": [{\"colorbar\": {\"outlinewidth\": 0, \"ticks\": \"\"}, \"colorscale\": [[0.0, \"#0d0887\"], [0.1111111111111111, \"#46039f\"], [0.2222222222222222, \"#7201a8\"], [0.3333333333333333, \"#9c179e\"], [0.4444444444444444, \"#bd3786\"], [0.5555555555555556, \"#d8576b\"], [0.6666666666666666, \"#ed7953\"], [0.7777777777777778, \"#fb9f3a\"], [0.8888888888888888, \"#fdca26\"], [1.0, \"#f0f921\"]], \"type\": \"surface\"}], \"table\": [{\"cells\": {\"fill\": {\"color\": \"#EBF0F8\"}, \"line\": {\"color\": \"white\"}}, \"header\": {\"fill\": {\"color\": \"#C8D4E3\"}, \"line\": {\"color\": \"white\"}}, \"type\": \"table\"}]}, \"layout\": {\"annotationdefaults\": {\"arrowcolor\": \"#2a3f5f\", \"arrowhead\": 0, \"arrowwidth\": 1}, \"coloraxis\": {\"colorbar\": {\"outlinewidth\": 0, \"ticks\": \"\"}}, \"colorscale\": {\"diverging\": [[0, \"#8e0152\"], [0.1, \"#c51b7d\"], [0.2, \"#de77ae\"], [0.3, \"#f1b6da\"], [0.4, \"#fde0ef\"], [0.5, \"#f7f7f7\"], [0.6, \"#e6f5d0\"], [0.7, \"#b8e186\"], [0.8, \"#7fbc41\"], [0.9, \"#4d9221\"], [1, \"#276419\"]], \"sequential\": [[0.0, \"#0d0887\"], [0.1111111111111111, \"#46039f\"], [0.2222222222222222, \"#7201a8\"], [0.3333333333333333, \"#9c179e\"], [0.4444444444444444, \"#bd3786\"], [0.5555555555555556, \"#d8576b\"], [0.6666666666666666, \"#ed7953\"], [0.7777777777777778, \"#fb9f3a\"], [0.8888888888888888, \"#fdca26\"], [1.0, \"#f0f921\"]], \"sequentialminus\": [[0.0, \"#0d0887\"], [0.1111111111111111, \"#46039f\"], [0.2222222222222222, \"#7201a8\"], [0.3333333333333333, \"#9c179e\"], [0.4444444444444444, \"#bd3786\"], [0.5555555555555556, \"#d8576b\"], [0.6666666666666666, \"#ed7953\"], [0.7777777777777778, \"#fb9f3a\"], [0.8888888888888888, \"#fdca26\"], [1.0, \"#f0f921\"]]}, \"colorway\": [\"#636efa\", \"#EF553B\", \"#00cc96\", \"#ab63fa\", \"#FFA15A\", \"#19d3f3\", \"#FF6692\", \"#B6E880\", \"#FF97FF\", \"#FECB52\"], \"font\": {\"color\": \"#2a3f5f\"}, \"geo\": {\"bgcolor\": \"white\", \"lakecolor\": \"white\", \"landcolor\": \"#E5ECF6\", \"showlakes\": true, \"showland\": true, \"subunitcolor\": \"white\"}, \"hoverlabel\": {\"align\": \"left\"}, \"hovermode\": \"closest\", \"mapbox\": {\"style\": \"light\"}, \"paper_bgcolor\": \"white\", \"plot_bgcolor\": \"#E5ECF6\", \"polar\": {\"angularaxis\": {\"gridcolor\": \"white\", \"linecolor\": \"white\", \"ticks\": \"\"}, \"bgcolor\": \"#E5ECF6\", \"radialaxis\": {\"gridcolor\": \"white\", \"linecolor\": \"white\", \"ticks\": \"\"}}, \"scene\": {\"xaxis\": {\"backgroundcolor\": \"#E5ECF6\", \"gridcolor\": \"white\", \"gridwidth\": 2, \"linecolor\": \"white\", \"showbackground\": true, \"ticks\": \"\", \"zerolinecolor\": \"white\"}, \"yaxis\": {\"backgroundcolor\": \"#E5ECF6\", \"gridcolor\": \"white\", \"gridwidth\": 2, \"linecolor\": \"white\", \"showbackground\": true, \"ticks\": \"\", \"zerolinecolor\": \"white\"}, \"zaxis\": {\"backgroundcolor\": \"#E5ECF6\", \"gridcolor\": \"white\", \"gridwidth\": 2, \"linecolor\": \"white\", \"showbackground\": true, \"ticks\": \"\", \"zerolinecolor\": \"white\"}}, \"shapedefaults\": {\"line\": {\"color\": \"#2a3f5f\"}}, \"ternary\": {\"aaxis\": {\"gridcolor\": \"white\", \"linecolor\": \"white\", \"ticks\": \"\"}, \"baxis\": {\"gridcolor\": \"white\", \"linecolor\": \"white\", \"ticks\": \"\"}, \"bgcolor\": \"#E5ECF6\", \"caxis\": {\"gridcolor\": \"white\", \"linecolor\": \"white\", \"ticks\": \"\"}}, \"title\": {\"x\": 0.05}, \"xaxis\": {\"automargin\": true, \"gridcolor\": \"white\", \"linecolor\": \"white\", \"ticks\": \"\", \"title\": {\"standoff\": 15}, \"zerolinecolor\": \"white\", \"zerolinewidth\": 2}, \"yaxis\": {\"automargin\": true, \"gridcolor\": \"white\", \"linecolor\": \"white\", \"ticks\": \"\", \"title\": {\"standoff\": 15}, \"zerolinecolor\": \"white\", \"zerolinewidth\": 2}}}, \"xaxis\": {\"anchor\": \"y\", \"domain\": [0.0, 1.0], \"title\": {\"text\": \"No. of Cases (Lab Confirmed)\"}}, \"yaxis\": {\"anchor\": \"x\", \"domain\": [0.0, 1.0], \"title\": {\"text\": \"No. of Deaths\"}}},                        {\"responsive\": true}                    ).then(function(){\n",
       "                            \n",
       "var gd = document.getElementById('c1026a19-43d4-4ebd-a46d-2144ea3f6c9d');\n",
       "var x = new MutationObserver(function (mutations, observer) {{\n",
       "        var display = window.getComputedStyle(gd).display;\n",
       "        if (!display || display === 'none') {{\n",
       "            console.log([gd, 'removed!']);\n",
       "            Plotly.purge(gd);\n",
       "            observer.disconnect();\n",
       "        }}\n",
       "}});\n",
       "\n",
       "// Listen for the removal of the full notebook cells\n",
       "var notebookContainer = gd.closest('#notebook-container');\n",
       "if (notebookContainer) {{\n",
       "    x.observe(notebookContainer, {childList: true});\n",
       "}}\n",
       "\n",
       "// Listen for the clearing of the current output cell\n",
       "var outputEl = gd.closest('.output');\n",
       "if (outputEl) {{\n",
       "    x.observe(outputEl, {childList: true});\n",
       "}}\n",
       "\n",
       "                        })                };                });            </script>        </div>"
      ]
     },
     "metadata": {},
     "output_type": "display_data"
    }
   ],
   "source": [
    "px.scatter(x = \"No. of Cases (Lab Confirmed)\", y = \"No. of Deaths\", data_frame = df,\n",
    "          color = \"States Affected\",size = \"No. of Cases (Lab Confirmed)\")"
   ]
  },
  {
   "cell_type": "markdown",
   "metadata": {},
   "source": [
    "**scroll over each point for more information on each state**"
   ]
  },
  {
   "cell_type": "markdown",
   "metadata": {},
   "source": [
    "The above scatterplot represents the number of Deaths against the number of Confirmed cases. We can see a bit of correlation in the visualization, With Lagos leading in the number of Confirmed cases with a figure of 59,833 and number of deaths at 456. Majority of the states have number of confirmed cases below 10,000 and number of deaths below 200."
   ]
  },
  {
   "cell_type": "markdown",
   "metadata": {},
   "source": [
    "## Scatter plot of Number of Cases(Lab Confirmed) against the Number of Discharged cases  with each point representing a state.\n"
   ]
  },
  {
   "cell_type": "code",
   "execution_count": 54,
   "metadata": {},
   "outputs": [
    {
     "data": {
      "application/vnd.plotly.v1+json": {
       "config": {
        "plotlyServerURL": "https://plot.ly"
       },
       "data": [
        {
         "hovertemplate": "States Affected=Lagos<br>No. of Cases (Lab Confirmed)=%{marker.size}<br>No. Discharged=%{y}<extra></extra>",
         "legendgroup": "Lagos",
         "marker": {
          "color": "#636efa",
          "size": [
           59833
          ],
          "sizemode": "area",
          "sizeref": 149.5825,
          "symbol": "circle"
         },
         "mode": "markers",
         "name": "Lagos",
         "orientation": "v",
         "showlegend": true,
         "type": "scatter",
         "x": [
          59833
         ],
         "xaxis": "x",
         "y": [
          58515
         ],
         "yaxis": "y"
        },
        {
         "hovertemplate": "States Affected=FCT<br>No. of Cases (Lab Confirmed)=%{marker.size}<br>No. Discharged=%{y}<extra></extra>",
         "legendgroup": "FCT",
         "marker": {
          "color": "#EF553B",
          "size": [
           19902
          ],
          "sizemode": "area",
          "sizeref": 149.5825,
          "symbol": "circle"
         },
         "mode": "markers",
         "name": "FCT",
         "orientation": "v",
         "showlegend": true,
         "type": "scatter",
         "x": [
          19902
         ],
         "xaxis": "x",
         "y": [
          19552
         ],
         "yaxis": "y"
        },
        {
         "hovertemplate": "States Affected=Kaduna<br>No. of Cases (Lab Confirmed)=%{marker.size}<br>No. Discharged=%{y}<extra></extra>",
         "legendgroup": "Kaduna",
         "marker": {
          "color": "#00cc96",
          "size": [
           9123
          ],
          "sizemode": "area",
          "sizeref": 149.5825,
          "symbol": "circle"
         },
         "mode": "markers",
         "name": "Kaduna",
         "orientation": "v",
         "showlegend": true,
         "type": "scatter",
         "x": [
          9123
         ],
         "xaxis": "x",
         "y": [
          9040
         ],
         "yaxis": "y"
        },
        {
         "hovertemplate": "States Affected=Plateau<br>No. of Cases (Lab Confirmed)=%{marker.size}<br>No. Discharged=%{y}<extra></extra>",
         "legendgroup": "Plateau",
         "marker": {
          "color": "#ab63fa",
          "size": [
           9067
          ],
          "sizemode": "area",
          "sizeref": 149.5825,
          "symbol": "circle"
         },
         "mode": "markers",
         "name": "Plateau",
         "orientation": "v",
         "showlegend": true,
         "type": "scatter",
         "x": [
          9067
         ],
         "xaxis": "x",
         "y": [
          9006
         ],
         "yaxis": "y"
        },
        {
         "hovertemplate": "States Affected=Rivers<br>No. of Cases (Lab Confirmed)=%{marker.size}<br>No. Discharged=%{y}<extra></extra>",
         "legendgroup": "Rivers",
         "marker": {
          "color": "#FFA15A",
          "size": [
           7335
          ],
          "sizemode": "area",
          "sizeref": 149.5825,
          "symbol": "circle"
         },
         "mode": "markers",
         "name": "Rivers",
         "orientation": "v",
         "showlegend": true,
         "type": "scatter",
         "x": [
          7335
         ],
         "xaxis": "x",
         "y": [
          7208
         ],
         "yaxis": "y"
        },
        {
         "hovertemplate": "States Affected=Oyo<br>No. of Cases (Lab Confirmed)=%{marker.size}<br>No. Discharged=%{y}<extra></extra>",
         "legendgroup": "Oyo",
         "marker": {
          "color": "#19d3f3",
          "size": [
           6872
          ],
          "sizemode": "area",
          "sizeref": 149.5825,
          "symbol": "circle"
         },
         "mode": "markers",
         "name": "Oyo",
         "orientation": "v",
         "showlegend": true,
         "type": "scatter",
         "x": [
          6872
         ],
         "xaxis": "x",
         "y": [
          6734
         ],
         "yaxis": "y"
        },
        {
         "hovertemplate": "States Affected=Edo<br>No. of Cases (Lab Confirmed)=%{marker.size}<br>No. Discharged=%{y}<extra></extra>",
         "legendgroup": "Edo",
         "marker": {
          "color": "#FF6692",
          "size": [
           4910
          ],
          "sizemode": "area",
          "sizeref": 149.5825,
          "symbol": "circle"
         },
         "mode": "markers",
         "name": "Edo",
         "orientation": "v",
         "showlegend": true,
         "type": "scatter",
         "x": [
          4910
         ],
         "xaxis": "x",
         "y": [
          4725
         ],
         "yaxis": "y"
        },
        {
         "hovertemplate": "States Affected=Ogun<br>No. of Cases (Lab Confirmed)=%{marker.size}<br>No. Discharged=%{y}<extra></extra>",
         "legendgroup": "Ogun",
         "marker": {
          "color": "#B6E880",
          "size": [
           4694
          ],
          "sizemode": "area",
          "sizeref": 149.5825,
          "symbol": "circle"
         },
         "mode": "markers",
         "name": "Ogun",
         "orientation": "v",
         "showlegend": true,
         "type": "scatter",
         "x": [
          4694
         ],
         "xaxis": "x",
         "y": [
          4633
         ],
         "yaxis": "y"
        },
        {
         "hovertemplate": "States Affected=Kano<br>No. of Cases (Lab Confirmed)=%{marker.size}<br>No. Discharged=%{y}<extra></extra>",
         "legendgroup": "Kano",
         "marker": {
          "color": "#FF97FF",
          "size": [
           4005
          ],
          "sizemode": "area",
          "sizeref": 149.5825,
          "symbol": "circle"
         },
         "mode": "markers",
         "name": "Kano",
         "orientation": "v",
         "showlegend": true,
         "type": "scatter",
         "x": [
          4005
         ],
         "xaxis": "x",
         "y": [
          3889
         ],
         "yaxis": "y"
        },
        {
         "hovertemplate": "States Affected=Ondo<br>No. of Cases (Lab Confirmed)=%{marker.size}<br>No. Discharged=%{y}<extra></extra>",
         "legendgroup": "Ondo",
         "marker": {
          "color": "#FECB52",
          "size": [
           3483
          ],
          "sizemode": "area",
          "sizeref": 149.5825,
          "symbol": "circle"
         },
         "mode": "markers",
         "name": "Ondo",
         "orientation": "v",
         "showlegend": true,
         "type": "scatter",
         "x": [
          3483
         ],
         "xaxis": "x",
         "y": [
          3391
         ],
         "yaxis": "y"
        },
        {
         "hovertemplate": "States Affected=Kwara<br>No. of Cases (Lab Confirmed)=%{marker.size}<br>No. Discharged=%{y}<extra></extra>",
         "legendgroup": "Kwara",
         "marker": {
          "color": "#636efa",
          "size": [
           3144
          ],
          "sizemode": "area",
          "sizeref": 149.5825,
          "symbol": "circle"
         },
         "mode": "markers",
         "name": "Kwara",
         "orientation": "v",
         "showlegend": true,
         "type": "scatter",
         "x": [
          3144
         ],
         "xaxis": "x",
         "y": [
          3068
         ],
         "yaxis": "y"
        },
        {
         "hovertemplate": "States Affected=Delta<br>No. of Cases (Lab Confirmed)=%{marker.size}<br>No. Discharged=%{y}<extra></extra>",
         "legendgroup": "Delta",
         "marker": {
          "color": "#EF553B",
          "size": [
           2650
          ],
          "sizemode": "area",
          "sizeref": 149.5825,
          "symbol": "circle"
         },
         "mode": "markers",
         "name": "Delta",
         "orientation": "v",
         "showlegend": true,
         "type": "scatter",
         "x": [
          2650
         ],
         "xaxis": "x",
         "y": [
          2556
         ],
         "yaxis": "y"
        },
        {
         "hovertemplate": "States Affected=Osun<br>No. of Cases (Lab Confirmed)=%{marker.size}<br>No. Discharged=%{y}<extra></extra>",
         "legendgroup": "Osun",
         "marker": {
          "color": "#00cc96",
          "size": [
           2578
          ],
          "sizemode": "area",
          "sizeref": 149.5825,
          "symbol": "circle"
         },
         "mode": "markers",
         "name": "Osun",
         "orientation": "v",
         "showlegend": true,
         "type": "scatter",
         "x": [
          2578
         ],
         "xaxis": "x",
         "y": [
          2520
         ],
         "yaxis": "y"
        },
        {
         "hovertemplate": "States Affected=Enugu<br>No. of Cases (Lab Confirmed)=%{marker.size}<br>No. Discharged=%{y}<extra></extra>",
         "legendgroup": "Enugu",
         "marker": {
          "color": "#ab63fa",
          "size": [
           2464
          ],
          "sizemode": "area",
          "sizeref": 149.5825,
          "symbol": "circle"
         },
         "mode": "markers",
         "name": "Enugu",
         "orientation": "v",
         "showlegend": true,
         "type": "scatter",
         "x": [
          2464
         ],
         "xaxis": "x",
         "y": [
          2435
         ],
         "yaxis": "y"
        },
        {
         "hovertemplate": "States Affected=Nasarawa<br>No. of Cases (Lab Confirmed)=%{marker.size}<br>No. Discharged=%{y}<extra></extra>",
         "legendgroup": "Nasarawa",
         "marker": {
          "color": "#FFA15A",
          "size": [
           2384
          ],
          "sizemode": "area",
          "sizeref": 149.5825,
          "symbol": "circle"
         },
         "mode": "markers",
         "name": "Nasarawa",
         "orientation": "v",
         "showlegend": true,
         "type": "scatter",
         "x": [
          2384
         ],
         "xaxis": "x",
         "y": [
          2345
         ],
         "yaxis": "y"
        },
        {
         "hovertemplate": "States Affected=Katsina<br>No. of Cases (Lab Confirmed)=%{marker.size}<br>No. Discharged=%{y}<extra></extra>",
         "legendgroup": "Katsina",
         "marker": {
          "color": "#19d3f3",
          "size": [
           2110
          ],
          "sizemode": "area",
          "sizeref": 149.5825,
          "symbol": "circle"
         },
         "mode": "markers",
         "name": "Katsina",
         "orientation": "v",
         "showlegend": true,
         "type": "scatter",
         "x": [
          2110
         ],
         "xaxis": "x",
         "y": [
          2055
         ],
         "yaxis": "y"
        },
        {
         "hovertemplate": "States Affected=Gombe<br>No. of Cases (Lab Confirmed)=%{marker.size}<br>No. Discharged=%{y}<extra></extra>",
         "legendgroup": "Gombe",
         "marker": {
          "color": "#FF6692",
          "size": [
           2098
          ],
          "sizemode": "area",
          "sizeref": 149.5825,
          "symbol": "circle"
         },
         "mode": "markers",
         "name": "Gombe",
         "orientation": "v",
         "showlegend": true,
         "type": "scatter",
         "x": [
          2098
         ],
         "xaxis": "x",
         "y": [
          2036
         ],
         "yaxis": "y"
        },
        {
         "hovertemplate": "States Affected=Ebonyi<br>No. of Cases (Lab Confirmed)=%{marker.size}<br>No. Discharged=%{y}<extra></extra>",
         "legendgroup": "Ebonyi",
         "marker": {
          "color": "#B6E880",
          "size": [
           2039
          ],
          "sizemode": "area",
          "sizeref": 149.5825,
          "symbol": "circle"
         },
         "mode": "markers",
         "name": "Ebonyi",
         "orientation": "v",
         "showlegend": true,
         "type": "scatter",
         "x": [
          2039
         ],
         "xaxis": "x",
         "y": [
          2002
         ],
         "yaxis": "y"
        },
        {
         "hovertemplate": "States Affected=Akwa Ibom<br>No. of Cases (Lab Confirmed)=%{marker.size}<br>No. Discharged=%{y}<extra></extra>",
         "legendgroup": "Akwa Ibom",
         "marker": {
          "color": "#FF97FF",
          "size": [
           1931
          ],
          "sizemode": "area",
          "sizeref": 149.5825,
          "symbol": "circle"
         },
         "mode": "markers",
         "name": "Akwa Ibom",
         "orientation": "v",
         "showlegend": true,
         "type": "scatter",
         "x": [
          1931
         ],
         "xaxis": "x",
         "y": [
          1912
         ],
         "yaxis": "y"
        },
        {
         "hovertemplate": "States Affected=Anambra<br>No. of Cases (Lab Confirmed)=%{marker.size}<br>No. Discharged=%{y}<extra></extra>",
         "legendgroup": "Anambra",
         "marker": {
          "color": "#FECB52",
          "size": [
           1909
          ],
          "sizemode": "area",
          "sizeref": 149.5825,
          "symbol": "circle"
         },
         "mode": "markers",
         "name": "Anambra",
         "orientation": "v",
         "showlegend": true,
         "type": "scatter",
         "x": [
          1909
         ],
         "xaxis": "x",
         "y": [
          1826
         ],
         "yaxis": "y"
        },
        {
         "hovertemplate": "States Affected=Abia<br>No. of Cases (Lab Confirmed)=%{marker.size}<br>No. Discharged=%{y}<extra></extra>",
         "legendgroup": "Abia",
         "marker": {
          "color": "#636efa",
          "size": [
           1693
          ],
          "sizemode": "area",
          "sizeref": 149.5825,
          "symbol": "circle"
         },
         "mode": "markers",
         "name": "Abia",
         "orientation": "v",
         "showlegend": true,
         "type": "scatter",
         "x": [
          1693
         ],
         "xaxis": "x",
         "y": [
          1673
         ],
         "yaxis": "y"
        },
        {
         "hovertemplate": "States Affected=Imo<br>No. of Cases (Lab Confirmed)=%{marker.size}<br>No. Discharged=%{y}<extra></extra>",
         "legendgroup": "Imo",
         "marker": {
          "color": "#EF553B",
          "size": [
           1661
          ],
          "sizemode": "area",
          "sizeref": 149.5825,
          "symbol": "circle"
         },
         "mode": "markers",
         "name": "Imo",
         "orientation": "v",
         "showlegend": true,
         "type": "scatter",
         "x": [
          1661
         ],
         "xaxis": "x",
         "y": [
          1624
         ],
         "yaxis": "y"
        },
        {
         "hovertemplate": "States Affected=Bauchi<br>No. of Cases (Lab Confirmed)=%{marker.size}<br>No. Discharged=%{y}<extra></extra>",
         "legendgroup": "Bauchi",
         "marker": {
          "color": "#00cc96",
          "size": [
           1549
          ],
          "sizemode": "area",
          "sizeref": 149.5825,
          "symbol": "circle"
         },
         "mode": "markers",
         "name": "Bauchi",
         "orientation": "v",
         "showlegend": true,
         "type": "scatter",
         "x": [
          1549
         ],
         "xaxis": "x",
         "y": [
          1532
         ],
         "yaxis": "y"
        },
        {
         "hovertemplate": "States Affected=Benue<br>No. of Cases (Lab Confirmed)=%{marker.size}<br>No. Discharged=%{y}<extra></extra>",
         "legendgroup": "Benue",
         "marker": {
          "color": "#ab63fa",
          "size": [
           1366
          ],
          "sizemode": "area",
          "sizeref": 149.5825,
          "symbol": "circle"
         },
         "mode": "markers",
         "name": "Benue",
         "orientation": "v",
         "showlegend": true,
         "type": "scatter",
         "x": [
          1366
         ],
         "xaxis": "x",
         "y": [
          1327
         ],
         "yaxis": "y"
        },
        {
         "hovertemplate": "States Affected=Borno<br>No. of Cases (Lab Confirmed)=%{marker.size}<br>No. Discharged=%{y}<extra></extra>",
         "legendgroup": "Borno",
         "marker": {
          "color": "#FFA15A",
          "size": [
           1344
          ],
          "sizemode": "area",
          "sizeref": 149.5825,
          "symbol": "circle"
         },
         "mode": "markers",
         "name": "Borno",
         "orientation": "v",
         "showlegend": true,
         "type": "scatter",
         "x": [
          1344
         ],
         "xaxis": "x",
         "y": [
          1305
         ],
         "yaxis": "y"
        },
        {
         "hovertemplate": "States Affected=Adamawa<br>No. of Cases (Lab Confirmed)=%{marker.size}<br>No. Discharged=%{y}<extra></extra>",
         "legendgroup": "Adamawa",
         "marker": {
          "color": "#19d3f3",
          "size": [
           1134
          ],
          "sizemode": "area",
          "sizeref": 149.5825,
          "symbol": "circle"
         },
         "mode": "markers",
         "name": "Adamawa",
         "orientation": "v",
         "showlegend": true,
         "type": "scatter",
         "x": [
          1134
         ],
         "xaxis": "x",
         "y": [
          1098
         ],
         "yaxis": "y"
        },
        {
         "hovertemplate": "States Affected=Taraba<br>No. of Cases (Lab Confirmed)=%{marker.size}<br>No. Discharged=%{y}<extra></extra>",
         "legendgroup": "Taraba",
         "marker": {
          "color": "#FF6692",
          "size": [
           1001
          ],
          "sizemode": "area",
          "sizeref": 149.5825,
          "symbol": "circle"
         },
         "mode": "markers",
         "name": "Taraba",
         "orientation": "v",
         "showlegend": true,
         "type": "scatter",
         "x": [
          1001
         ],
         "xaxis": "x",
         "y": [
          977
         ],
         "yaxis": "y"
        },
        {
         "hovertemplate": "States Affected=Niger<br>No. of Cases (Lab Confirmed)=%{marker.size}<br>No. Discharged=%{y}<extra></extra>",
         "legendgroup": "Niger",
         "marker": {
          "color": "#B6E880",
          "size": [
           935
          ],
          "sizemode": "area",
          "sizeref": 149.5825,
          "symbol": "circle"
         },
         "mode": "markers",
         "name": "Niger",
         "orientation": "v",
         "showlegend": true,
         "type": "scatter",
         "x": [
          935
         ],
         "xaxis": "x",
         "y": [
          913
         ],
         "yaxis": "y"
        },
        {
         "hovertemplate": "States Affected=Bayelsa<br>No. of Cases (Lab Confirmed)=%{marker.size}<br>No. Discharged=%{y}<extra></extra>",
         "legendgroup": "Bayelsa",
         "marker": {
          "color": "#FF97FF",
          "size": [
           906
          ],
          "sizemode": "area",
          "sizeref": 149.5825,
          "symbol": "circle"
         },
         "mode": "markers",
         "name": "Bayelsa",
         "orientation": "v",
         "showlegend": true,
         "type": "scatter",
         "x": [
          906
         ],
         "xaxis": "x",
         "y": [
          879
         ],
         "yaxis": "y"
        },
        {
         "hovertemplate": "States Affected=Ekiti<br>No. of Cases (Lab Confirmed)=%{marker.size}<br>No. Discharged=%{y}<extra></extra>",
         "legendgroup": "Ekiti",
         "marker": {
          "color": "#FECB52",
          "size": [
           880
          ],
          "sizemode": "area",
          "sizeref": 149.5825,
          "symbol": "circle"
         },
         "mode": "markers",
         "name": "Ekiti",
         "orientation": "v",
         "showlegend": true,
         "type": "scatter",
         "x": [
          880
         ],
         "xaxis": "x",
         "y": [
          863
         ],
         "yaxis": "y"
        },
        {
         "hovertemplate": "States Affected=Sokoto<br>No. of Cases (Lab Confirmed)=%{marker.size}<br>No. Discharged=%{y}<extra></extra>",
         "legendgroup": "Sokoto",
         "marker": {
          "color": "#636efa",
          "size": [
           775
          ],
          "sizemode": "area",
          "sizeref": 149.5825,
          "symbol": "circle"
         },
         "mode": "markers",
         "name": "Sokoto",
         "orientation": "v",
         "showlegend": true,
         "type": "scatter",
         "x": [
          775
         ],
         "xaxis": "x",
         "y": [
          747
         ],
         "yaxis": "y"
        },
        {
         "hovertemplate": "States Affected=Jigawa<br>No. of Cases (Lab Confirmed)=%{marker.size}<br>No. Discharged=%{y}<extra></extra>",
         "legendgroup": "Jigawa",
         "marker": {
          "color": "#EF553B",
          "size": [
           534
          ],
          "sizemode": "area",
          "sizeref": 149.5825,
          "symbol": "circle"
         },
         "mode": "markers",
         "name": "Jigawa",
         "orientation": "v",
         "showlegend": true,
         "type": "scatter",
         "x": [
          534
         ],
         "xaxis": "x",
         "y": [
          512
         ],
         "yaxis": "y"
        },
        {
         "hovertemplate": "States Affected=Yobe<br>No. of Cases (Lab Confirmed)=%{marker.size}<br>No. Discharged=%{y}<extra></extra>",
         "legendgroup": "Yobe",
         "marker": {
          "color": "#00cc96",
          "size": [
           499
          ],
          "sizemode": "area",
          "sizeref": 149.5825,
          "symbol": "circle"
         },
         "mode": "markers",
         "name": "Yobe",
         "orientation": "v",
         "showlegend": true,
         "type": "scatter",
         "x": [
          499
         ],
         "xaxis": "x",
         "y": [
          490
         ],
         "yaxis": "y"
        },
        {
         "hovertemplate": "States Affected=Kebbi<br>No. of Cases (Lab Confirmed)=%{marker.size}<br>No. Discharged=%{y}<extra></extra>",
         "legendgroup": "Kebbi",
         "marker": {
          "color": "#ab63fa",
          "size": [
           450
          ],
          "sizemode": "area",
          "sizeref": 149.5825,
          "symbol": "circle"
         },
         "mode": "markers",
         "name": "Kebbi",
         "orientation": "v",
         "showlegend": true,
         "type": "scatter",
         "x": [
          450
         ],
         "xaxis": "x",
         "y": [
          392
         ],
         "yaxis": "y"
        },
        {
         "hovertemplate": "States Affected=Cross River<br>No. of Cases (Lab Confirmed)=%{marker.size}<br>No. Discharged=%{y}<extra></extra>",
         "legendgroup": "Cross River",
         "marker": {
          "color": "#FFA15A",
          "size": [
           402
          ],
          "sizemode": "area",
          "sizeref": 149.5825,
          "symbol": "circle"
         },
         "mode": "markers",
         "name": "Cross River",
         "orientation": "v",
         "showlegend": true,
         "type": "scatter",
         "x": [
          402
         ],
         "xaxis": "x",
         "y": [
          384
         ],
         "yaxis": "y"
        },
        {
         "hovertemplate": "States Affected=Zamfara<br>No. of Cases (Lab Confirmed)=%{marker.size}<br>No. Discharged=%{y}<extra></extra>",
         "legendgroup": "Zamfara",
         "marker": {
          "color": "#19d3f3",
          "size": [
           244
          ],
          "sizemode": "area",
          "sizeref": 149.5825,
          "symbol": "circle"
         },
         "mode": "markers",
         "name": "Zamfara",
         "orientation": "v",
         "showlegend": true,
         "type": "scatter",
         "x": [
          244
         ],
         "xaxis": "x",
         "y": [
          233
         ],
         "yaxis": "y"
        },
        {
         "hovertemplate": "States Affected=Kogi<br>No. of Cases (Lab Confirmed)=%{marker.size}<br>No. Discharged=%{y}<extra></extra>",
         "legendgroup": "Kogi",
         "marker": {
          "color": "#FF6692",
          "size": [
           5
          ],
          "sizemode": "area",
          "sizeref": 149.5825,
          "symbol": "circle"
         },
         "mode": "markers",
         "name": "Kogi",
         "orientation": "v",
         "showlegend": true,
         "type": "scatter",
         "x": [
          5
         ],
         "xaxis": "x",
         "y": [
          3
         ],
         "yaxis": "y"
        }
       ],
       "layout": {
        "legend": {
         "itemsizing": "constant",
         "title": {
          "text": "States Affected"
         },
         "tracegroupgap": 0
        },
        "margin": {
         "t": 60
        },
        "template": {
         "data": {
          "bar": [
           {
            "error_x": {
             "color": "#2a3f5f"
            },
            "error_y": {
             "color": "#2a3f5f"
            },
            "marker": {
             "line": {
              "color": "#E5ECF6",
              "width": 0.5
             }
            },
            "type": "bar"
           }
          ],
          "barpolar": [
           {
            "marker": {
             "line": {
              "color": "#E5ECF6",
              "width": 0.5
             }
            },
            "type": "barpolar"
           }
          ],
          "carpet": [
           {
            "aaxis": {
             "endlinecolor": "#2a3f5f",
             "gridcolor": "white",
             "linecolor": "white",
             "minorgridcolor": "white",
             "startlinecolor": "#2a3f5f"
            },
            "baxis": {
             "endlinecolor": "#2a3f5f",
             "gridcolor": "white",
             "linecolor": "white",
             "minorgridcolor": "white",
             "startlinecolor": "#2a3f5f"
            },
            "type": "carpet"
           }
          ],
          "choropleth": [
           {
            "colorbar": {
             "outlinewidth": 0,
             "ticks": ""
            },
            "type": "choropleth"
           }
          ],
          "contour": [
           {
            "colorbar": {
             "outlinewidth": 0,
             "ticks": ""
            },
            "colorscale": [
             [
              0,
              "#0d0887"
             ],
             [
              0.1111111111111111,
              "#46039f"
             ],
             [
              0.2222222222222222,
              "#7201a8"
             ],
             [
              0.3333333333333333,
              "#9c179e"
             ],
             [
              0.4444444444444444,
              "#bd3786"
             ],
             [
              0.5555555555555556,
              "#d8576b"
             ],
             [
              0.6666666666666666,
              "#ed7953"
             ],
             [
              0.7777777777777778,
              "#fb9f3a"
             ],
             [
              0.8888888888888888,
              "#fdca26"
             ],
             [
              1,
              "#f0f921"
             ]
            ],
            "type": "contour"
           }
          ],
          "contourcarpet": [
           {
            "colorbar": {
             "outlinewidth": 0,
             "ticks": ""
            },
            "type": "contourcarpet"
           }
          ],
          "heatmap": [
           {
            "colorbar": {
             "outlinewidth": 0,
             "ticks": ""
            },
            "colorscale": [
             [
              0,
              "#0d0887"
             ],
             [
              0.1111111111111111,
              "#46039f"
             ],
             [
              0.2222222222222222,
              "#7201a8"
             ],
             [
              0.3333333333333333,
              "#9c179e"
             ],
             [
              0.4444444444444444,
              "#bd3786"
             ],
             [
              0.5555555555555556,
              "#d8576b"
             ],
             [
              0.6666666666666666,
              "#ed7953"
             ],
             [
              0.7777777777777778,
              "#fb9f3a"
             ],
             [
              0.8888888888888888,
              "#fdca26"
             ],
             [
              1,
              "#f0f921"
             ]
            ],
            "type": "heatmap"
           }
          ],
          "heatmapgl": [
           {
            "colorbar": {
             "outlinewidth": 0,
             "ticks": ""
            },
            "colorscale": [
             [
              0,
              "#0d0887"
             ],
             [
              0.1111111111111111,
              "#46039f"
             ],
             [
              0.2222222222222222,
              "#7201a8"
             ],
             [
              0.3333333333333333,
              "#9c179e"
             ],
             [
              0.4444444444444444,
              "#bd3786"
             ],
             [
              0.5555555555555556,
              "#d8576b"
             ],
             [
              0.6666666666666666,
              "#ed7953"
             ],
             [
              0.7777777777777778,
              "#fb9f3a"
             ],
             [
              0.8888888888888888,
              "#fdca26"
             ],
             [
              1,
              "#f0f921"
             ]
            ],
            "type": "heatmapgl"
           }
          ],
          "histogram": [
           {
            "marker": {
             "colorbar": {
              "outlinewidth": 0,
              "ticks": ""
             }
            },
            "type": "histogram"
           }
          ],
          "histogram2d": [
           {
            "colorbar": {
             "outlinewidth": 0,
             "ticks": ""
            },
            "colorscale": [
             [
              0,
              "#0d0887"
             ],
             [
              0.1111111111111111,
              "#46039f"
             ],
             [
              0.2222222222222222,
              "#7201a8"
             ],
             [
              0.3333333333333333,
              "#9c179e"
             ],
             [
              0.4444444444444444,
              "#bd3786"
             ],
             [
              0.5555555555555556,
              "#d8576b"
             ],
             [
              0.6666666666666666,
              "#ed7953"
             ],
             [
              0.7777777777777778,
              "#fb9f3a"
             ],
             [
              0.8888888888888888,
              "#fdca26"
             ],
             [
              1,
              "#f0f921"
             ]
            ],
            "type": "histogram2d"
           }
          ],
          "histogram2dcontour": [
           {
            "colorbar": {
             "outlinewidth": 0,
             "ticks": ""
            },
            "colorscale": [
             [
              0,
              "#0d0887"
             ],
             [
              0.1111111111111111,
              "#46039f"
             ],
             [
              0.2222222222222222,
              "#7201a8"
             ],
             [
              0.3333333333333333,
              "#9c179e"
             ],
             [
              0.4444444444444444,
              "#bd3786"
             ],
             [
              0.5555555555555556,
              "#d8576b"
             ],
             [
              0.6666666666666666,
              "#ed7953"
             ],
             [
              0.7777777777777778,
              "#fb9f3a"
             ],
             [
              0.8888888888888888,
              "#fdca26"
             ],
             [
              1,
              "#f0f921"
             ]
            ],
            "type": "histogram2dcontour"
           }
          ],
          "mesh3d": [
           {
            "colorbar": {
             "outlinewidth": 0,
             "ticks": ""
            },
            "type": "mesh3d"
           }
          ],
          "parcoords": [
           {
            "line": {
             "colorbar": {
              "outlinewidth": 0,
              "ticks": ""
             }
            },
            "type": "parcoords"
           }
          ],
          "pie": [
           {
            "automargin": true,
            "type": "pie"
           }
          ],
          "scatter": [
           {
            "marker": {
             "colorbar": {
              "outlinewidth": 0,
              "ticks": ""
             }
            },
            "type": "scatter"
           }
          ],
          "scatter3d": [
           {
            "line": {
             "colorbar": {
              "outlinewidth": 0,
              "ticks": ""
             }
            },
            "marker": {
             "colorbar": {
              "outlinewidth": 0,
              "ticks": ""
             }
            },
            "type": "scatter3d"
           }
          ],
          "scattercarpet": [
           {
            "marker": {
             "colorbar": {
              "outlinewidth": 0,
              "ticks": ""
             }
            },
            "type": "scattercarpet"
           }
          ],
          "scattergeo": [
           {
            "marker": {
             "colorbar": {
              "outlinewidth": 0,
              "ticks": ""
             }
            },
            "type": "scattergeo"
           }
          ],
          "scattergl": [
           {
            "marker": {
             "colorbar": {
              "outlinewidth": 0,
              "ticks": ""
             }
            },
            "type": "scattergl"
           }
          ],
          "scattermapbox": [
           {
            "marker": {
             "colorbar": {
              "outlinewidth": 0,
              "ticks": ""
             }
            },
            "type": "scattermapbox"
           }
          ],
          "scatterpolar": [
           {
            "marker": {
             "colorbar": {
              "outlinewidth": 0,
              "ticks": ""
             }
            },
            "type": "scatterpolar"
           }
          ],
          "scatterpolargl": [
           {
            "marker": {
             "colorbar": {
              "outlinewidth": 0,
              "ticks": ""
             }
            },
            "type": "scatterpolargl"
           }
          ],
          "scatterternary": [
           {
            "marker": {
             "colorbar": {
              "outlinewidth": 0,
              "ticks": ""
             }
            },
            "type": "scatterternary"
           }
          ],
          "surface": [
           {
            "colorbar": {
             "outlinewidth": 0,
             "ticks": ""
            },
            "colorscale": [
             [
              0,
              "#0d0887"
             ],
             [
              0.1111111111111111,
              "#46039f"
             ],
             [
              0.2222222222222222,
              "#7201a8"
             ],
             [
              0.3333333333333333,
              "#9c179e"
             ],
             [
              0.4444444444444444,
              "#bd3786"
             ],
             [
              0.5555555555555556,
              "#d8576b"
             ],
             [
              0.6666666666666666,
              "#ed7953"
             ],
             [
              0.7777777777777778,
              "#fb9f3a"
             ],
             [
              0.8888888888888888,
              "#fdca26"
             ],
             [
              1,
              "#f0f921"
             ]
            ],
            "type": "surface"
           }
          ],
          "table": [
           {
            "cells": {
             "fill": {
              "color": "#EBF0F8"
             },
             "line": {
              "color": "white"
             }
            },
            "header": {
             "fill": {
              "color": "#C8D4E3"
             },
             "line": {
              "color": "white"
             }
            },
            "type": "table"
           }
          ]
         },
         "layout": {
          "annotationdefaults": {
           "arrowcolor": "#2a3f5f",
           "arrowhead": 0,
           "arrowwidth": 1
          },
          "coloraxis": {
           "colorbar": {
            "outlinewidth": 0,
            "ticks": ""
           }
          },
          "colorscale": {
           "diverging": [
            [
             0,
             "#8e0152"
            ],
            [
             0.1,
             "#c51b7d"
            ],
            [
             0.2,
             "#de77ae"
            ],
            [
             0.3,
             "#f1b6da"
            ],
            [
             0.4,
             "#fde0ef"
            ],
            [
             0.5,
             "#f7f7f7"
            ],
            [
             0.6,
             "#e6f5d0"
            ],
            [
             0.7,
             "#b8e186"
            ],
            [
             0.8,
             "#7fbc41"
            ],
            [
             0.9,
             "#4d9221"
            ],
            [
             1,
             "#276419"
            ]
           ],
           "sequential": [
            [
             0,
             "#0d0887"
            ],
            [
             0.1111111111111111,
             "#46039f"
            ],
            [
             0.2222222222222222,
             "#7201a8"
            ],
            [
             0.3333333333333333,
             "#9c179e"
            ],
            [
             0.4444444444444444,
             "#bd3786"
            ],
            [
             0.5555555555555556,
             "#d8576b"
            ],
            [
             0.6666666666666666,
             "#ed7953"
            ],
            [
             0.7777777777777778,
             "#fb9f3a"
            ],
            [
             0.8888888888888888,
             "#fdca26"
            ],
            [
             1,
             "#f0f921"
            ]
           ],
           "sequentialminus": [
            [
             0,
             "#0d0887"
            ],
            [
             0.1111111111111111,
             "#46039f"
            ],
            [
             0.2222222222222222,
             "#7201a8"
            ],
            [
             0.3333333333333333,
             "#9c179e"
            ],
            [
             0.4444444444444444,
             "#bd3786"
            ],
            [
             0.5555555555555556,
             "#d8576b"
            ],
            [
             0.6666666666666666,
             "#ed7953"
            ],
            [
             0.7777777777777778,
             "#fb9f3a"
            ],
            [
             0.8888888888888888,
             "#fdca26"
            ],
            [
             1,
             "#f0f921"
            ]
           ]
          },
          "colorway": [
           "#636efa",
           "#EF553B",
           "#00cc96",
           "#ab63fa",
           "#FFA15A",
           "#19d3f3",
           "#FF6692",
           "#B6E880",
           "#FF97FF",
           "#FECB52"
          ],
          "font": {
           "color": "#2a3f5f"
          },
          "geo": {
           "bgcolor": "white",
           "lakecolor": "white",
           "landcolor": "#E5ECF6",
           "showlakes": true,
           "showland": true,
           "subunitcolor": "white"
          },
          "hoverlabel": {
           "align": "left"
          },
          "hovermode": "closest",
          "mapbox": {
           "style": "light"
          },
          "paper_bgcolor": "white",
          "plot_bgcolor": "#E5ECF6",
          "polar": {
           "angularaxis": {
            "gridcolor": "white",
            "linecolor": "white",
            "ticks": ""
           },
           "bgcolor": "#E5ECF6",
           "radialaxis": {
            "gridcolor": "white",
            "linecolor": "white",
            "ticks": ""
           }
          },
          "scene": {
           "xaxis": {
            "backgroundcolor": "#E5ECF6",
            "gridcolor": "white",
            "gridwidth": 2,
            "linecolor": "white",
            "showbackground": true,
            "ticks": "",
            "zerolinecolor": "white"
           },
           "yaxis": {
            "backgroundcolor": "#E5ECF6",
            "gridcolor": "white",
            "gridwidth": 2,
            "linecolor": "white",
            "showbackground": true,
            "ticks": "",
            "zerolinecolor": "white"
           },
           "zaxis": {
            "backgroundcolor": "#E5ECF6",
            "gridcolor": "white",
            "gridwidth": 2,
            "linecolor": "white",
            "showbackground": true,
            "ticks": "",
            "zerolinecolor": "white"
           }
          },
          "shapedefaults": {
           "line": {
            "color": "#2a3f5f"
           }
          },
          "ternary": {
           "aaxis": {
            "gridcolor": "white",
            "linecolor": "white",
            "ticks": ""
           },
           "baxis": {
            "gridcolor": "white",
            "linecolor": "white",
            "ticks": ""
           },
           "bgcolor": "#E5ECF6",
           "caxis": {
            "gridcolor": "white",
            "linecolor": "white",
            "ticks": ""
           }
          },
          "title": {
           "x": 0.05
          },
          "xaxis": {
           "automargin": true,
           "gridcolor": "white",
           "linecolor": "white",
           "ticks": "",
           "title": {
            "standoff": 15
           },
           "zerolinecolor": "white",
           "zerolinewidth": 2
          },
          "yaxis": {
           "automargin": true,
           "gridcolor": "white",
           "linecolor": "white",
           "ticks": "",
           "title": {
            "standoff": 15
           },
           "zerolinecolor": "white",
           "zerolinewidth": 2
          }
         }
        },
        "xaxis": {
         "anchor": "y",
         "domain": [
          0,
          1
         ],
         "title": {
          "text": "No. of Cases (Lab Confirmed)"
         }
        },
        "yaxis": {
         "anchor": "x",
         "domain": [
          0,
          1
         ],
         "title": {
          "text": "No. Discharged"
         }
        }
       }
      },
      "text/html": [
       "<div>                            <div id=\"9138367a-5989-4613-9b5d-dc84cc700e7b\" class=\"plotly-graph-div\" style=\"height:525px; width:100%;\"></div>            <script type=\"text/javascript\">                require([\"plotly\"], function(Plotly) {                    window.PLOTLYENV=window.PLOTLYENV || {};                                    if (document.getElementById(\"9138367a-5989-4613-9b5d-dc84cc700e7b\")) {                    Plotly.newPlot(                        \"9138367a-5989-4613-9b5d-dc84cc700e7b\",                        [{\"hovertemplate\": \"States Affected=Lagos<br>No. of Cases (Lab Confirmed)=%{marker.size}<br>No. Discharged=%{y}<extra></extra>\", \"legendgroup\": \"Lagos\", \"marker\": {\"color\": \"#636efa\", \"size\": [59833], \"sizemode\": \"area\", \"sizeref\": 149.5825, \"symbol\": \"circle\"}, \"mode\": \"markers\", \"name\": \"Lagos\", \"orientation\": \"v\", \"showlegend\": true, \"type\": \"scatter\", \"x\": [59833], \"xaxis\": \"x\", \"y\": [58515], \"yaxis\": \"y\"}, {\"hovertemplate\": \"States Affected=FCT<br>No. of Cases (Lab Confirmed)=%{marker.size}<br>No. Discharged=%{y}<extra></extra>\", \"legendgroup\": \"FCT\", \"marker\": {\"color\": \"#EF553B\", \"size\": [19902], \"sizemode\": \"area\", \"sizeref\": 149.5825, \"symbol\": \"circle\"}, \"mode\": \"markers\", \"name\": \"FCT\", \"orientation\": \"v\", \"showlegend\": true, \"type\": \"scatter\", \"x\": [19902], \"xaxis\": \"x\", \"y\": [19552], \"yaxis\": \"y\"}, {\"hovertemplate\": \"States Affected=Kaduna<br>No. of Cases (Lab Confirmed)=%{marker.size}<br>No. Discharged=%{y}<extra></extra>\", \"legendgroup\": \"Kaduna\", \"marker\": {\"color\": \"#00cc96\", \"size\": [9123], \"sizemode\": \"area\", \"sizeref\": 149.5825, \"symbol\": \"circle\"}, \"mode\": \"markers\", \"name\": \"Kaduna\", \"orientation\": \"v\", \"showlegend\": true, \"type\": \"scatter\", \"x\": [9123], \"xaxis\": \"x\", \"y\": [9040], \"yaxis\": \"y\"}, {\"hovertemplate\": \"States Affected=Plateau<br>No. of Cases (Lab Confirmed)=%{marker.size}<br>No. Discharged=%{y}<extra></extra>\", \"legendgroup\": \"Plateau\", \"marker\": {\"color\": \"#ab63fa\", \"size\": [9067], \"sizemode\": \"area\", \"sizeref\": 149.5825, \"symbol\": \"circle\"}, \"mode\": \"markers\", \"name\": \"Plateau\", \"orientation\": \"v\", \"showlegend\": true, \"type\": \"scatter\", \"x\": [9067], \"xaxis\": \"x\", \"y\": [9006], \"yaxis\": \"y\"}, {\"hovertemplate\": \"States Affected=Rivers<br>No. of Cases (Lab Confirmed)=%{marker.size}<br>No. Discharged=%{y}<extra></extra>\", \"legendgroup\": \"Rivers\", \"marker\": {\"color\": \"#FFA15A\", \"size\": [7335], \"sizemode\": \"area\", \"sizeref\": 149.5825, \"symbol\": \"circle\"}, \"mode\": \"markers\", \"name\": \"Rivers\", \"orientation\": \"v\", \"showlegend\": true, \"type\": \"scatter\", \"x\": [7335], \"xaxis\": \"x\", \"y\": [7208], \"yaxis\": \"y\"}, {\"hovertemplate\": \"States Affected=Oyo<br>No. of Cases (Lab Confirmed)=%{marker.size}<br>No. Discharged=%{y}<extra></extra>\", \"legendgroup\": \"Oyo\", \"marker\": {\"color\": \"#19d3f3\", \"size\": [6872], \"sizemode\": \"area\", \"sizeref\": 149.5825, \"symbol\": \"circle\"}, \"mode\": \"markers\", \"name\": \"Oyo\", \"orientation\": \"v\", \"showlegend\": true, \"type\": \"scatter\", \"x\": [6872], \"xaxis\": \"x\", \"y\": [6734], \"yaxis\": \"y\"}, {\"hovertemplate\": \"States Affected=Edo<br>No. of Cases (Lab Confirmed)=%{marker.size}<br>No. Discharged=%{y}<extra></extra>\", \"legendgroup\": \"Edo\", \"marker\": {\"color\": \"#FF6692\", \"size\": [4910], \"sizemode\": \"area\", \"sizeref\": 149.5825, \"symbol\": \"circle\"}, \"mode\": \"markers\", \"name\": \"Edo\", \"orientation\": \"v\", \"showlegend\": true, \"type\": \"scatter\", \"x\": [4910], \"xaxis\": \"x\", \"y\": [4725], \"yaxis\": \"y\"}, {\"hovertemplate\": \"States Affected=Ogun<br>No. of Cases (Lab Confirmed)=%{marker.size}<br>No. Discharged=%{y}<extra></extra>\", \"legendgroup\": \"Ogun\", \"marker\": {\"color\": \"#B6E880\", \"size\": [4694], \"sizemode\": \"area\", \"sizeref\": 149.5825, \"symbol\": \"circle\"}, \"mode\": \"markers\", \"name\": \"Ogun\", \"orientation\": \"v\", \"showlegend\": true, \"type\": \"scatter\", \"x\": [4694], \"xaxis\": \"x\", \"y\": [4633], \"yaxis\": \"y\"}, {\"hovertemplate\": \"States Affected=Kano<br>No. of Cases (Lab Confirmed)=%{marker.size}<br>No. Discharged=%{y}<extra></extra>\", \"legendgroup\": \"Kano\", \"marker\": {\"color\": \"#FF97FF\", \"size\": [4005], \"sizemode\": \"area\", \"sizeref\": 149.5825, \"symbol\": \"circle\"}, \"mode\": \"markers\", \"name\": \"Kano\", \"orientation\": \"v\", \"showlegend\": true, \"type\": \"scatter\", \"x\": [4005], \"xaxis\": \"x\", \"y\": [3889], \"yaxis\": \"y\"}, {\"hovertemplate\": \"States Affected=Ondo<br>No. of Cases (Lab Confirmed)=%{marker.size}<br>No. Discharged=%{y}<extra></extra>\", \"legendgroup\": \"Ondo\", \"marker\": {\"color\": \"#FECB52\", \"size\": [3483], \"sizemode\": \"area\", \"sizeref\": 149.5825, \"symbol\": \"circle\"}, \"mode\": \"markers\", \"name\": \"Ondo\", \"orientation\": \"v\", \"showlegend\": true, \"type\": \"scatter\", \"x\": [3483], \"xaxis\": \"x\", \"y\": [3391], \"yaxis\": \"y\"}, {\"hovertemplate\": \"States Affected=Kwara<br>No. of Cases (Lab Confirmed)=%{marker.size}<br>No. Discharged=%{y}<extra></extra>\", \"legendgroup\": \"Kwara\", \"marker\": {\"color\": \"#636efa\", \"size\": [3144], \"sizemode\": \"area\", \"sizeref\": 149.5825, \"symbol\": \"circle\"}, \"mode\": \"markers\", \"name\": \"Kwara\", \"orientation\": \"v\", \"showlegend\": true, \"type\": \"scatter\", \"x\": [3144], \"xaxis\": \"x\", \"y\": [3068], \"yaxis\": \"y\"}, {\"hovertemplate\": \"States Affected=Delta<br>No. of Cases (Lab Confirmed)=%{marker.size}<br>No. Discharged=%{y}<extra></extra>\", \"legendgroup\": \"Delta\", \"marker\": {\"color\": \"#EF553B\", \"size\": [2650], \"sizemode\": \"area\", \"sizeref\": 149.5825, \"symbol\": \"circle\"}, \"mode\": \"markers\", \"name\": \"Delta\", \"orientation\": \"v\", \"showlegend\": true, \"type\": \"scatter\", \"x\": [2650], \"xaxis\": \"x\", \"y\": [2556], \"yaxis\": \"y\"}, {\"hovertemplate\": \"States Affected=Osun<br>No. of Cases (Lab Confirmed)=%{marker.size}<br>No. Discharged=%{y}<extra></extra>\", \"legendgroup\": \"Osun\", \"marker\": {\"color\": \"#00cc96\", \"size\": [2578], \"sizemode\": \"area\", \"sizeref\": 149.5825, \"symbol\": \"circle\"}, \"mode\": \"markers\", \"name\": \"Osun\", \"orientation\": \"v\", \"showlegend\": true, \"type\": \"scatter\", \"x\": [2578], \"xaxis\": \"x\", \"y\": [2520], \"yaxis\": \"y\"}, {\"hovertemplate\": \"States Affected=Enugu<br>No. of Cases (Lab Confirmed)=%{marker.size}<br>No. Discharged=%{y}<extra></extra>\", \"legendgroup\": \"Enugu\", \"marker\": {\"color\": \"#ab63fa\", \"size\": [2464], \"sizemode\": \"area\", \"sizeref\": 149.5825, \"symbol\": \"circle\"}, \"mode\": \"markers\", \"name\": \"Enugu\", \"orientation\": \"v\", \"showlegend\": true, \"type\": \"scatter\", \"x\": [2464], \"xaxis\": \"x\", \"y\": [2435], \"yaxis\": \"y\"}, {\"hovertemplate\": \"States Affected=Nasarawa<br>No. of Cases (Lab Confirmed)=%{marker.size}<br>No. Discharged=%{y}<extra></extra>\", \"legendgroup\": \"Nasarawa\", \"marker\": {\"color\": \"#FFA15A\", \"size\": [2384], \"sizemode\": \"area\", \"sizeref\": 149.5825, \"symbol\": \"circle\"}, \"mode\": \"markers\", \"name\": \"Nasarawa\", \"orientation\": \"v\", \"showlegend\": true, \"type\": \"scatter\", \"x\": [2384], \"xaxis\": \"x\", \"y\": [2345], \"yaxis\": \"y\"}, {\"hovertemplate\": \"States Affected=Katsina<br>No. of Cases (Lab Confirmed)=%{marker.size}<br>No. Discharged=%{y}<extra></extra>\", \"legendgroup\": \"Katsina\", \"marker\": {\"color\": \"#19d3f3\", \"size\": [2110], \"sizemode\": \"area\", \"sizeref\": 149.5825, \"symbol\": \"circle\"}, \"mode\": \"markers\", \"name\": \"Katsina\", \"orientation\": \"v\", \"showlegend\": true, \"type\": \"scatter\", \"x\": [2110], \"xaxis\": \"x\", \"y\": [2055], \"yaxis\": \"y\"}, {\"hovertemplate\": \"States Affected=Gombe<br>No. of Cases (Lab Confirmed)=%{marker.size}<br>No. Discharged=%{y}<extra></extra>\", \"legendgroup\": \"Gombe\", \"marker\": {\"color\": \"#FF6692\", \"size\": [2098], \"sizemode\": \"area\", \"sizeref\": 149.5825, \"symbol\": \"circle\"}, \"mode\": \"markers\", \"name\": \"Gombe\", \"orientation\": \"v\", \"showlegend\": true, \"type\": \"scatter\", \"x\": [2098], \"xaxis\": \"x\", \"y\": [2036], \"yaxis\": \"y\"}, {\"hovertemplate\": \"States Affected=Ebonyi<br>No. of Cases (Lab Confirmed)=%{marker.size}<br>No. Discharged=%{y}<extra></extra>\", \"legendgroup\": \"Ebonyi\", \"marker\": {\"color\": \"#B6E880\", \"size\": [2039], \"sizemode\": \"area\", \"sizeref\": 149.5825, \"symbol\": \"circle\"}, \"mode\": \"markers\", \"name\": \"Ebonyi\", \"orientation\": \"v\", \"showlegend\": true, \"type\": \"scatter\", \"x\": [2039], \"xaxis\": \"x\", \"y\": [2002], \"yaxis\": \"y\"}, {\"hovertemplate\": \"States Affected=Akwa Ibom<br>No. of Cases (Lab Confirmed)=%{marker.size}<br>No. Discharged=%{y}<extra></extra>\", \"legendgroup\": \"Akwa Ibom\", \"marker\": {\"color\": \"#FF97FF\", \"size\": [1931], \"sizemode\": \"area\", \"sizeref\": 149.5825, \"symbol\": \"circle\"}, \"mode\": \"markers\", \"name\": \"Akwa Ibom\", \"orientation\": \"v\", \"showlegend\": true, \"type\": \"scatter\", \"x\": [1931], \"xaxis\": \"x\", \"y\": [1912], \"yaxis\": \"y\"}, {\"hovertemplate\": \"States Affected=Anambra<br>No. of Cases (Lab Confirmed)=%{marker.size}<br>No. Discharged=%{y}<extra></extra>\", \"legendgroup\": \"Anambra\", \"marker\": {\"color\": \"#FECB52\", \"size\": [1909], \"sizemode\": \"area\", \"sizeref\": 149.5825, \"symbol\": \"circle\"}, \"mode\": \"markers\", \"name\": \"Anambra\", \"orientation\": \"v\", \"showlegend\": true, \"type\": \"scatter\", \"x\": [1909], \"xaxis\": \"x\", \"y\": [1826], \"yaxis\": \"y\"}, {\"hovertemplate\": \"States Affected=Abia<br>No. of Cases (Lab Confirmed)=%{marker.size}<br>No. Discharged=%{y}<extra></extra>\", \"legendgroup\": \"Abia\", \"marker\": {\"color\": \"#636efa\", \"size\": [1693], \"sizemode\": \"area\", \"sizeref\": 149.5825, \"symbol\": \"circle\"}, \"mode\": \"markers\", \"name\": \"Abia\", \"orientation\": \"v\", \"showlegend\": true, \"type\": \"scatter\", \"x\": [1693], \"xaxis\": \"x\", \"y\": [1673], \"yaxis\": \"y\"}, {\"hovertemplate\": \"States Affected=Imo<br>No. of Cases (Lab Confirmed)=%{marker.size}<br>No. Discharged=%{y}<extra></extra>\", \"legendgroup\": \"Imo\", \"marker\": {\"color\": \"#EF553B\", \"size\": [1661], \"sizemode\": \"area\", \"sizeref\": 149.5825, \"symbol\": \"circle\"}, \"mode\": \"markers\", \"name\": \"Imo\", \"orientation\": \"v\", \"showlegend\": true, \"type\": \"scatter\", \"x\": [1661], \"xaxis\": \"x\", \"y\": [1624], \"yaxis\": \"y\"}, {\"hovertemplate\": \"States Affected=Bauchi<br>No. of Cases (Lab Confirmed)=%{marker.size}<br>No. Discharged=%{y}<extra></extra>\", \"legendgroup\": \"Bauchi\", \"marker\": {\"color\": \"#00cc96\", \"size\": [1549], \"sizemode\": \"area\", \"sizeref\": 149.5825, \"symbol\": \"circle\"}, \"mode\": \"markers\", \"name\": \"Bauchi\", \"orientation\": \"v\", \"showlegend\": true, \"type\": \"scatter\", \"x\": [1549], \"xaxis\": \"x\", \"y\": [1532], \"yaxis\": \"y\"}, {\"hovertemplate\": \"States Affected=Benue<br>No. of Cases (Lab Confirmed)=%{marker.size}<br>No. Discharged=%{y}<extra></extra>\", \"legendgroup\": \"Benue\", \"marker\": {\"color\": \"#ab63fa\", \"size\": [1366], \"sizemode\": \"area\", \"sizeref\": 149.5825, \"symbol\": \"circle\"}, \"mode\": \"markers\", \"name\": \"Benue\", \"orientation\": \"v\", \"showlegend\": true, \"type\": \"scatter\", \"x\": [1366], \"xaxis\": \"x\", \"y\": [1327], \"yaxis\": \"y\"}, {\"hovertemplate\": \"States Affected=Borno<br>No. of Cases (Lab Confirmed)=%{marker.size}<br>No. Discharged=%{y}<extra></extra>\", \"legendgroup\": \"Borno\", \"marker\": {\"color\": \"#FFA15A\", \"size\": [1344], \"sizemode\": \"area\", \"sizeref\": 149.5825, \"symbol\": \"circle\"}, \"mode\": \"markers\", \"name\": \"Borno\", \"orientation\": \"v\", \"showlegend\": true, \"type\": \"scatter\", \"x\": [1344], \"xaxis\": \"x\", \"y\": [1305], \"yaxis\": \"y\"}, {\"hovertemplate\": \"States Affected=Adamawa<br>No. of Cases (Lab Confirmed)=%{marker.size}<br>No. Discharged=%{y}<extra></extra>\", \"legendgroup\": \"Adamawa\", \"marker\": {\"color\": \"#19d3f3\", \"size\": [1134], \"sizemode\": \"area\", \"sizeref\": 149.5825, \"symbol\": \"circle\"}, \"mode\": \"markers\", \"name\": \"Adamawa\", \"orientation\": \"v\", \"showlegend\": true, \"type\": \"scatter\", \"x\": [1134], \"xaxis\": \"x\", \"y\": [1098], \"yaxis\": \"y\"}, {\"hovertemplate\": \"States Affected=Taraba<br>No. of Cases (Lab Confirmed)=%{marker.size}<br>No. Discharged=%{y}<extra></extra>\", \"legendgroup\": \"Taraba\", \"marker\": {\"color\": \"#FF6692\", \"size\": [1001], \"sizemode\": \"area\", \"sizeref\": 149.5825, \"symbol\": \"circle\"}, \"mode\": \"markers\", \"name\": \"Taraba\", \"orientation\": \"v\", \"showlegend\": true, \"type\": \"scatter\", \"x\": [1001], \"xaxis\": \"x\", \"y\": [977], \"yaxis\": \"y\"}, {\"hovertemplate\": \"States Affected=Niger<br>No. of Cases (Lab Confirmed)=%{marker.size}<br>No. Discharged=%{y}<extra></extra>\", \"legendgroup\": \"Niger\", \"marker\": {\"color\": \"#B6E880\", \"size\": [935], \"sizemode\": \"area\", \"sizeref\": 149.5825, \"symbol\": \"circle\"}, \"mode\": \"markers\", \"name\": \"Niger\", \"orientation\": \"v\", \"showlegend\": true, \"type\": \"scatter\", \"x\": [935], \"xaxis\": \"x\", \"y\": [913], \"yaxis\": \"y\"}, {\"hovertemplate\": \"States Affected=Bayelsa<br>No. of Cases (Lab Confirmed)=%{marker.size}<br>No. Discharged=%{y}<extra></extra>\", \"legendgroup\": \"Bayelsa\", \"marker\": {\"color\": \"#FF97FF\", \"size\": [906], \"sizemode\": \"area\", \"sizeref\": 149.5825, \"symbol\": \"circle\"}, \"mode\": \"markers\", \"name\": \"Bayelsa\", \"orientation\": \"v\", \"showlegend\": true, \"type\": \"scatter\", \"x\": [906], \"xaxis\": \"x\", \"y\": [879], \"yaxis\": \"y\"}, {\"hovertemplate\": \"States Affected=Ekiti<br>No. of Cases (Lab Confirmed)=%{marker.size}<br>No. Discharged=%{y}<extra></extra>\", \"legendgroup\": \"Ekiti\", \"marker\": {\"color\": \"#FECB52\", \"size\": [880], \"sizemode\": \"area\", \"sizeref\": 149.5825, \"symbol\": \"circle\"}, \"mode\": \"markers\", \"name\": \"Ekiti\", \"orientation\": \"v\", \"showlegend\": true, \"type\": \"scatter\", \"x\": [880], \"xaxis\": \"x\", \"y\": [863], \"yaxis\": \"y\"}, {\"hovertemplate\": \"States Affected=Sokoto<br>No. of Cases (Lab Confirmed)=%{marker.size}<br>No. Discharged=%{y}<extra></extra>\", \"legendgroup\": \"Sokoto\", \"marker\": {\"color\": \"#636efa\", \"size\": [775], \"sizemode\": \"area\", \"sizeref\": 149.5825, \"symbol\": \"circle\"}, \"mode\": \"markers\", \"name\": \"Sokoto\", \"orientation\": \"v\", \"showlegend\": true, \"type\": \"scatter\", \"x\": [775], \"xaxis\": \"x\", \"y\": [747], \"yaxis\": \"y\"}, {\"hovertemplate\": \"States Affected=Jigawa<br>No. of Cases (Lab Confirmed)=%{marker.size}<br>No. Discharged=%{y}<extra></extra>\", \"legendgroup\": \"Jigawa\", \"marker\": {\"color\": \"#EF553B\", \"size\": [534], \"sizemode\": \"area\", \"sizeref\": 149.5825, \"symbol\": \"circle\"}, \"mode\": \"markers\", \"name\": \"Jigawa\", \"orientation\": \"v\", \"showlegend\": true, \"type\": \"scatter\", \"x\": [534], \"xaxis\": \"x\", \"y\": [512], \"yaxis\": \"y\"}, {\"hovertemplate\": \"States Affected=Yobe<br>No. of Cases (Lab Confirmed)=%{marker.size}<br>No. Discharged=%{y}<extra></extra>\", \"legendgroup\": \"Yobe\", \"marker\": {\"color\": \"#00cc96\", \"size\": [499], \"sizemode\": \"area\", \"sizeref\": 149.5825, \"symbol\": \"circle\"}, \"mode\": \"markers\", \"name\": \"Yobe\", \"orientation\": \"v\", \"showlegend\": true, \"type\": \"scatter\", \"x\": [499], \"xaxis\": \"x\", \"y\": [490], \"yaxis\": \"y\"}, {\"hovertemplate\": \"States Affected=Kebbi<br>No. of Cases (Lab Confirmed)=%{marker.size}<br>No. Discharged=%{y}<extra></extra>\", \"legendgroup\": \"Kebbi\", \"marker\": {\"color\": \"#ab63fa\", \"size\": [450], \"sizemode\": \"area\", \"sizeref\": 149.5825, \"symbol\": \"circle\"}, \"mode\": \"markers\", \"name\": \"Kebbi\", \"orientation\": \"v\", \"showlegend\": true, \"type\": \"scatter\", \"x\": [450], \"xaxis\": \"x\", \"y\": [392], \"yaxis\": \"y\"}, {\"hovertemplate\": \"States Affected=Cross River<br>No. of Cases (Lab Confirmed)=%{marker.size}<br>No. Discharged=%{y}<extra></extra>\", \"legendgroup\": \"Cross River\", \"marker\": {\"color\": \"#FFA15A\", \"size\": [402], \"sizemode\": \"area\", \"sizeref\": 149.5825, \"symbol\": \"circle\"}, \"mode\": \"markers\", \"name\": \"Cross River\", \"orientation\": \"v\", \"showlegend\": true, \"type\": \"scatter\", \"x\": [402], \"xaxis\": \"x\", \"y\": [384], \"yaxis\": \"y\"}, {\"hovertemplate\": \"States Affected=Zamfara<br>No. of Cases (Lab Confirmed)=%{marker.size}<br>No. Discharged=%{y}<extra></extra>\", \"legendgroup\": \"Zamfara\", \"marker\": {\"color\": \"#19d3f3\", \"size\": [244], \"sizemode\": \"area\", \"sizeref\": 149.5825, \"symbol\": \"circle\"}, \"mode\": \"markers\", \"name\": \"Zamfara\", \"orientation\": \"v\", \"showlegend\": true, \"type\": \"scatter\", \"x\": [244], \"xaxis\": \"x\", \"y\": [233], \"yaxis\": \"y\"}, {\"hovertemplate\": \"States Affected=Kogi<br>No. of Cases (Lab Confirmed)=%{marker.size}<br>No. Discharged=%{y}<extra></extra>\", \"legendgroup\": \"Kogi\", \"marker\": {\"color\": \"#FF6692\", \"size\": [5], \"sizemode\": \"area\", \"sizeref\": 149.5825, \"symbol\": \"circle\"}, \"mode\": \"markers\", \"name\": \"Kogi\", \"orientation\": \"v\", \"showlegend\": true, \"type\": \"scatter\", \"x\": [5], \"xaxis\": \"x\", \"y\": [3], \"yaxis\": \"y\"}],                        {\"legend\": {\"itemsizing\": \"constant\", \"title\": {\"text\": \"States Affected\"}, \"tracegroupgap\": 0}, \"margin\": {\"t\": 60}, \"template\": {\"data\": {\"bar\": [{\"error_x\": {\"color\": \"#2a3f5f\"}, \"error_y\": {\"color\": \"#2a3f5f\"}, \"marker\": {\"line\": {\"color\": \"#E5ECF6\", \"width\": 0.5}}, \"type\": \"bar\"}], \"barpolar\": [{\"marker\": {\"line\": {\"color\": \"#E5ECF6\", \"width\": 0.5}}, \"type\": \"barpolar\"}], \"carpet\": [{\"aaxis\": {\"endlinecolor\": \"#2a3f5f\", \"gridcolor\": \"white\", \"linecolor\": \"white\", \"minorgridcolor\": \"white\", \"startlinecolor\": \"#2a3f5f\"}, \"baxis\": {\"endlinecolor\": \"#2a3f5f\", \"gridcolor\": \"white\", \"linecolor\": \"white\", \"minorgridcolor\": \"white\", \"startlinecolor\": \"#2a3f5f\"}, \"type\": \"carpet\"}], \"choropleth\": [{\"colorbar\": {\"outlinewidth\": 0, \"ticks\": \"\"}, \"type\": \"choropleth\"}], \"contour\": [{\"colorbar\": {\"outlinewidth\": 0, \"ticks\": \"\"}, \"colorscale\": [[0.0, \"#0d0887\"], [0.1111111111111111, \"#46039f\"], [0.2222222222222222, \"#7201a8\"], [0.3333333333333333, \"#9c179e\"], [0.4444444444444444, \"#bd3786\"], [0.5555555555555556, \"#d8576b\"], [0.6666666666666666, \"#ed7953\"], [0.7777777777777778, \"#fb9f3a\"], [0.8888888888888888, \"#fdca26\"], [1.0, \"#f0f921\"]], \"type\": \"contour\"}], \"contourcarpet\": [{\"colorbar\": {\"outlinewidth\": 0, \"ticks\": \"\"}, \"type\": \"contourcarpet\"}], \"heatmap\": [{\"colorbar\": {\"outlinewidth\": 0, \"ticks\": \"\"}, \"colorscale\": [[0.0, \"#0d0887\"], [0.1111111111111111, \"#46039f\"], [0.2222222222222222, \"#7201a8\"], [0.3333333333333333, \"#9c179e\"], [0.4444444444444444, \"#bd3786\"], [0.5555555555555556, \"#d8576b\"], [0.6666666666666666, \"#ed7953\"], [0.7777777777777778, \"#fb9f3a\"], [0.8888888888888888, \"#fdca26\"], [1.0, \"#f0f921\"]], \"type\": \"heatmap\"}], \"heatmapgl\": [{\"colorbar\": {\"outlinewidth\": 0, \"ticks\": \"\"}, \"colorscale\": [[0.0, \"#0d0887\"], [0.1111111111111111, \"#46039f\"], [0.2222222222222222, \"#7201a8\"], [0.3333333333333333, \"#9c179e\"], [0.4444444444444444, \"#bd3786\"], [0.5555555555555556, \"#d8576b\"], [0.6666666666666666, \"#ed7953\"], [0.7777777777777778, \"#fb9f3a\"], [0.8888888888888888, \"#fdca26\"], [1.0, \"#f0f921\"]], \"type\": \"heatmapgl\"}], \"histogram\": [{\"marker\": {\"colorbar\": {\"outlinewidth\": 0, \"ticks\": \"\"}}, \"type\": \"histogram\"}], \"histogram2d\": [{\"colorbar\": {\"outlinewidth\": 0, \"ticks\": \"\"}, \"colorscale\": [[0.0, \"#0d0887\"], [0.1111111111111111, \"#46039f\"], [0.2222222222222222, \"#7201a8\"], [0.3333333333333333, \"#9c179e\"], [0.4444444444444444, \"#bd3786\"], [0.5555555555555556, \"#d8576b\"], [0.6666666666666666, \"#ed7953\"], [0.7777777777777778, \"#fb9f3a\"], [0.8888888888888888, \"#fdca26\"], [1.0, \"#f0f921\"]], \"type\": \"histogram2d\"}], \"histogram2dcontour\": [{\"colorbar\": {\"outlinewidth\": 0, \"ticks\": \"\"}, \"colorscale\": [[0.0, \"#0d0887\"], [0.1111111111111111, \"#46039f\"], [0.2222222222222222, \"#7201a8\"], [0.3333333333333333, \"#9c179e\"], [0.4444444444444444, \"#bd3786\"], [0.5555555555555556, \"#d8576b\"], [0.6666666666666666, \"#ed7953\"], [0.7777777777777778, \"#fb9f3a\"], [0.8888888888888888, \"#fdca26\"], [1.0, \"#f0f921\"]], \"type\": \"histogram2dcontour\"}], \"mesh3d\": [{\"colorbar\": {\"outlinewidth\": 0, \"ticks\": \"\"}, \"type\": \"mesh3d\"}], \"parcoords\": [{\"line\": {\"colorbar\": {\"outlinewidth\": 0, \"ticks\": \"\"}}, \"type\": \"parcoords\"}], \"pie\": [{\"automargin\": true, \"type\": \"pie\"}], \"scatter\": [{\"marker\": {\"colorbar\": {\"outlinewidth\": 0, \"ticks\": \"\"}}, \"type\": \"scatter\"}], \"scatter3d\": [{\"line\": {\"colorbar\": {\"outlinewidth\": 0, \"ticks\": \"\"}}, \"marker\": {\"colorbar\": {\"outlinewidth\": 0, \"ticks\": \"\"}}, \"type\": \"scatter3d\"}], \"scattercarpet\": [{\"marker\": {\"colorbar\": {\"outlinewidth\": 0, \"ticks\": \"\"}}, \"type\": \"scattercarpet\"}], \"scattergeo\": [{\"marker\": {\"colorbar\": {\"outlinewidth\": 0, \"ticks\": \"\"}}, \"type\": \"scattergeo\"}], \"scattergl\": [{\"marker\": {\"colorbar\": {\"outlinewidth\": 0, \"ticks\": \"\"}}, \"type\": \"scattergl\"}], \"scattermapbox\": [{\"marker\": {\"colorbar\": {\"outlinewidth\": 0, \"ticks\": \"\"}}, \"type\": \"scattermapbox\"}], \"scatterpolar\": [{\"marker\": {\"colorbar\": {\"outlinewidth\": 0, \"ticks\": \"\"}}, \"type\": \"scatterpolar\"}], \"scatterpolargl\": [{\"marker\": {\"colorbar\": {\"outlinewidth\": 0, \"ticks\": \"\"}}, \"type\": \"scatterpolargl\"}], \"scatterternary\": [{\"marker\": {\"colorbar\": {\"outlinewidth\": 0, \"ticks\": \"\"}}, \"type\": \"scatterternary\"}], \"surface\": [{\"colorbar\": {\"outlinewidth\": 0, \"ticks\": \"\"}, \"colorscale\": [[0.0, \"#0d0887\"], [0.1111111111111111, \"#46039f\"], [0.2222222222222222, \"#7201a8\"], [0.3333333333333333, \"#9c179e\"], [0.4444444444444444, \"#bd3786\"], [0.5555555555555556, \"#d8576b\"], [0.6666666666666666, \"#ed7953\"], [0.7777777777777778, \"#fb9f3a\"], [0.8888888888888888, \"#fdca26\"], [1.0, \"#f0f921\"]], \"type\": \"surface\"}], \"table\": [{\"cells\": {\"fill\": {\"color\": \"#EBF0F8\"}, \"line\": {\"color\": \"white\"}}, \"header\": {\"fill\": {\"color\": \"#C8D4E3\"}, \"line\": {\"color\": \"white\"}}, \"type\": \"table\"}]}, \"layout\": {\"annotationdefaults\": {\"arrowcolor\": \"#2a3f5f\", \"arrowhead\": 0, \"arrowwidth\": 1}, \"coloraxis\": {\"colorbar\": {\"outlinewidth\": 0, \"ticks\": \"\"}}, \"colorscale\": {\"diverging\": [[0, \"#8e0152\"], [0.1, \"#c51b7d\"], [0.2, \"#de77ae\"], [0.3, \"#f1b6da\"], [0.4, \"#fde0ef\"], [0.5, \"#f7f7f7\"], [0.6, \"#e6f5d0\"], [0.7, \"#b8e186\"], [0.8, \"#7fbc41\"], [0.9, \"#4d9221\"], [1, \"#276419\"]], \"sequential\": [[0.0, \"#0d0887\"], [0.1111111111111111, \"#46039f\"], [0.2222222222222222, \"#7201a8\"], [0.3333333333333333, \"#9c179e\"], [0.4444444444444444, \"#bd3786\"], [0.5555555555555556, \"#d8576b\"], [0.6666666666666666, \"#ed7953\"], [0.7777777777777778, \"#fb9f3a\"], [0.8888888888888888, \"#fdca26\"], [1.0, \"#f0f921\"]], \"sequentialminus\": [[0.0, \"#0d0887\"], [0.1111111111111111, \"#46039f\"], [0.2222222222222222, \"#7201a8\"], [0.3333333333333333, \"#9c179e\"], [0.4444444444444444, \"#bd3786\"], [0.5555555555555556, \"#d8576b\"], [0.6666666666666666, \"#ed7953\"], [0.7777777777777778, \"#fb9f3a\"], [0.8888888888888888, \"#fdca26\"], [1.0, \"#f0f921\"]]}, \"colorway\": [\"#636efa\", \"#EF553B\", \"#00cc96\", \"#ab63fa\", \"#FFA15A\", \"#19d3f3\", \"#FF6692\", \"#B6E880\", \"#FF97FF\", \"#FECB52\"], \"font\": {\"color\": \"#2a3f5f\"}, \"geo\": {\"bgcolor\": \"white\", \"lakecolor\": \"white\", \"landcolor\": \"#E5ECF6\", \"showlakes\": true, \"showland\": true, \"subunitcolor\": \"white\"}, \"hoverlabel\": {\"align\": \"left\"}, \"hovermode\": \"closest\", \"mapbox\": {\"style\": \"light\"}, \"paper_bgcolor\": \"white\", \"plot_bgcolor\": \"#E5ECF6\", \"polar\": {\"angularaxis\": {\"gridcolor\": \"white\", \"linecolor\": \"white\", \"ticks\": \"\"}, \"bgcolor\": \"#E5ECF6\", \"radialaxis\": {\"gridcolor\": \"white\", \"linecolor\": \"white\", \"ticks\": \"\"}}, \"scene\": {\"xaxis\": {\"backgroundcolor\": \"#E5ECF6\", \"gridcolor\": \"white\", \"gridwidth\": 2, \"linecolor\": \"white\", \"showbackground\": true, \"ticks\": \"\", \"zerolinecolor\": \"white\"}, \"yaxis\": {\"backgroundcolor\": \"#E5ECF6\", \"gridcolor\": \"white\", \"gridwidth\": 2, \"linecolor\": \"white\", \"showbackground\": true, \"ticks\": \"\", \"zerolinecolor\": \"white\"}, \"zaxis\": {\"backgroundcolor\": \"#E5ECF6\", \"gridcolor\": \"white\", \"gridwidth\": 2, \"linecolor\": \"white\", \"showbackground\": true, \"ticks\": \"\", \"zerolinecolor\": \"white\"}}, \"shapedefaults\": {\"line\": {\"color\": \"#2a3f5f\"}}, \"ternary\": {\"aaxis\": {\"gridcolor\": \"white\", \"linecolor\": \"white\", \"ticks\": \"\"}, \"baxis\": {\"gridcolor\": \"white\", \"linecolor\": \"white\", \"ticks\": \"\"}, \"bgcolor\": \"#E5ECF6\", \"caxis\": {\"gridcolor\": \"white\", \"linecolor\": \"white\", \"ticks\": \"\"}}, \"title\": {\"x\": 0.05}, \"xaxis\": {\"automargin\": true, \"gridcolor\": \"white\", \"linecolor\": \"white\", \"ticks\": \"\", \"title\": {\"standoff\": 15}, \"zerolinecolor\": \"white\", \"zerolinewidth\": 2}, \"yaxis\": {\"automargin\": true, \"gridcolor\": \"white\", \"linecolor\": \"white\", \"ticks\": \"\", \"title\": {\"standoff\": 15}, \"zerolinecolor\": \"white\", \"zerolinewidth\": 2}}}, \"xaxis\": {\"anchor\": \"y\", \"domain\": [0.0, 1.0], \"title\": {\"text\": \"No. of Cases (Lab Confirmed)\"}}, \"yaxis\": {\"anchor\": \"x\", \"domain\": [0.0, 1.0], \"title\": {\"text\": \"No. Discharged\"}}},                        {\"responsive\": true}                    ).then(function(){\n",
       "                            \n",
       "var gd = document.getElementById('9138367a-5989-4613-9b5d-dc84cc700e7b');\n",
       "var x = new MutationObserver(function (mutations, observer) {{\n",
       "        var display = window.getComputedStyle(gd).display;\n",
       "        if (!display || display === 'none') {{\n",
       "            console.log([gd, 'removed!']);\n",
       "            Plotly.purge(gd);\n",
       "            observer.disconnect();\n",
       "        }}\n",
       "}});\n",
       "\n",
       "// Listen for the removal of the full notebook cells\n",
       "var notebookContainer = gd.closest('#notebook-container');\n",
       "if (notebookContainer) {{\n",
       "    x.observe(notebookContainer, {childList: true});\n",
       "}}\n",
       "\n",
       "// Listen for the clearing of the current output cell\n",
       "var outputEl = gd.closest('.output');\n",
       "if (outputEl) {{\n",
       "    x.observe(outputEl, {childList: true});\n",
       "}}\n",
       "\n",
       "                        })                };                });            </script>        </div>"
      ]
     },
     "metadata": {},
     "output_type": "display_data"
    }
   ],
   "source": [
    "\n",
    "px.scatter(x = \"No. of Cases (Lab Confirmed)\", y = \"No. Discharged\", data_frame = df,\n",
    "          color = \"States Affected\",size= \"No. of Cases (Lab Confirmed)\")"
   ]
  },
  {
   "cell_type": "markdown",
   "metadata": {},
   "source": [
    "**scroll over each point for more information on each state**"
   ]
  },
  {
   "cell_type": "markdown",
   "metadata": {},
   "source": [
    "Examining the above scatterplot, we can see that there is a very high correlation between the Number of Discharged cases and the Number of Lab Confirmed cases.  This implies that as the number of cases rise the number of discharged cases also rises.The size of each point represents the size in numbers of the Lab Confirmed cases. Lagos State has the largest point and therefore has the highest number of Confirmed Cases and also death cases."
   ]
  },
  {
   "cell_type": "code",
   "execution_count": 41,
   "metadata": {},
   "outputs": [
    {
     "data": {
      "text/html": [
       "<div>\n",
       "<style scoped>\n",
       "    .dataframe tbody tr th:only-of-type {\n",
       "        vertical-align: middle;\n",
       "    }\n",
       "\n",
       "    .dataframe tbody tr th {\n",
       "        vertical-align: top;\n",
       "    }\n",
       "\n",
       "    .dataframe thead th {\n",
       "        text-align: right;\n",
       "    }\n",
       "</style>\n",
       "<table border=\"1\" class=\"dataframe\">\n",
       "  <thead>\n",
       "    <tr style=\"text-align: right;\">\n",
       "      <th></th>\n",
       "      <th>No. of Cases (Lab Confirmed)</th>\n",
       "      <th>No. of Cases (on admission)</th>\n",
       "      <th>No. Discharged</th>\n",
       "      <th>No. of Deaths</th>\n",
       "    </tr>\n",
       "  </thead>\n",
       "  <tbody>\n",
       "    <tr>\n",
       "      <th>No. of Cases (Lab Confirmed)</th>\n",
       "      <td>1.000000</td>\n",
       "      <td>0.968017</td>\n",
       "      <td>0.999992</td>\n",
       "      <td>0.934154</td>\n",
       "    </tr>\n",
       "    <tr>\n",
       "      <th>No. of Cases (on admission)</th>\n",
       "      <td>0.968017</td>\n",
       "      <td>1.000000</td>\n",
       "      <td>0.967286</td>\n",
       "      <td>0.880495</td>\n",
       "    </tr>\n",
       "    <tr>\n",
       "      <th>No. Discharged</th>\n",
       "      <td>0.999992</td>\n",
       "      <td>0.967286</td>\n",
       "      <td>1.000000</td>\n",
       "      <td>0.933462</td>\n",
       "    </tr>\n",
       "    <tr>\n",
       "      <th>No. of Deaths</th>\n",
       "      <td>0.934154</td>\n",
       "      <td>0.880495</td>\n",
       "      <td>0.933462</td>\n",
       "      <td>1.000000</td>\n",
       "    </tr>\n",
       "  </tbody>\n",
       "</table>\n",
       "</div>"
      ],
      "text/plain": [
       "                              No. of Cases (Lab Confirmed)  \\\n",
       "No. of Cases (Lab Confirmed)                      1.000000   \n",
       "No. of Cases (on admission)                       0.968017   \n",
       "No. Discharged                                    0.999992   \n",
       "No. of Deaths                                     0.934154   \n",
       "\n",
       "                              No. of Cases (on admission)  No. Discharged  \\\n",
       "No. of Cases (Lab Confirmed)                     0.968017        0.999992   \n",
       "No. of Cases (on admission)                      1.000000        0.967286   \n",
       "No. Discharged                                   0.967286        1.000000   \n",
       "No. of Deaths                                    0.880495        0.933462   \n",
       "\n",
       "                              No. of Deaths  \n",
       "No. of Cases (Lab Confirmed)       0.934154  \n",
       "No. of Cases (on admission)        0.880495  \n",
       "No. Discharged                     0.933462  \n",
       "No. of Deaths                      1.000000  "
      ]
     },
     "execution_count": 41,
     "metadata": {},
     "output_type": "execute_result"
    }
   ],
   "source": [
    "df.corr()"
   ]
  },
  {
   "cell_type": "markdown",
   "metadata": {},
   "source": [
    "Looking at the correlation of all numerical columns in the dataframe, we can ascertain the high correlation between Number of cases(Lab confirmed) and the Number of Discharged."
   ]
  },
  {
   "cell_type": "markdown",
   "metadata": {},
   "source": [
    "### Bar plot for Confirmed cases, Admitted cases, Discharged cases and Death cases for the first 10 states in the dataframe."
   ]
  },
  {
   "cell_type": "code",
   "execution_count": 51,
   "metadata": {},
   "outputs": [
    {
     "data": {
      "image/png": "[encoded data removed]",
      "text/plain": [
       "<Figure size 1080x720 with 4 Axes>"
      ]
     },
     "metadata": {
      "needs_background": "light"
     },
     "output_type": "display_data"
    }
   ],
   "source": [
    "\n",
    "plt.figure(figsize=(15,10))\n",
    "\n",
    "values = (range(1,5),[\"Confirmed\",\"On Admission\",\"Discharged\",\"Deaths\"],['blue','yellow','green','red'])\n",
    "central_circle = plt.Circle((0, 0), 0.5, color='white')\n",
    "for index, item, color in zip(range(1,5),[\"No. of Cases (Lab Confirmed)\",\"No. of Cases (on admission)\",\n",
    "                                          \"No. Discharged\",\"No. of Deaths\"],['blue','yellow','green','red']):\n",
    "    plt.subplot(2,2,index),\n",
    "    plt.title(item),\n",
    "    plt.bar(df[\"States Affected\"][:10],df[item][:10], color = color)\n",
    "    \n"
   ]
  },
  {
   "cell_type": "code",
   "execution_count": 52,
   "metadata": {},
   "outputs": [
    {
     "data": {
      "text/html": [
       "<div>\n",
       "<style scoped>\n",
       "    .dataframe tbody tr th:only-of-type {\n",
       "        vertical-align: middle;\n",
       "    }\n",
       "\n",
       "    .dataframe tbody tr th {\n",
       "        vertical-align: top;\n",
       "    }\n",
       "\n",
       "    .dataframe thead th {\n",
       "        text-align: right;\n",
       "    }\n",
       "</style>\n",
       "<table border=\"1\" class=\"dataframe\">\n",
       "  <thead>\n",
       "    <tr style=\"text-align: right;\">\n",
       "      <th></th>\n",
       "      <th>States Affected</th>\n",
       "      <th>No. of Cases (Lab Confirmed)</th>\n",
       "      <th>No. of Cases (on admission)</th>\n",
       "      <th>No. Discharged</th>\n",
       "      <th>No. of Deaths</th>\n",
       "    </tr>\n",
       "  </thead>\n",
       "  <tbody>\n",
       "    <tr>\n",
       "      <th>0</th>\n",
       "      <td>Lagos</td>\n",
       "      <td>59833</td>\n",
       "      <td>862</td>\n",
       "      <td>58515</td>\n",
       "      <td>456</td>\n",
       "    </tr>\n",
       "    <tr>\n",
       "      <th>1</th>\n",
       "      <td>FCT</td>\n",
       "      <td>19902</td>\n",
       "      <td>183</td>\n",
       "      <td>19552</td>\n",
       "      <td>167</td>\n",
       "    </tr>\n",
       "    <tr>\n",
       "      <th>2</th>\n",
       "      <td>Kaduna</td>\n",
       "      <td>9123</td>\n",
       "      <td>18</td>\n",
       "      <td>9040</td>\n",
       "      <td>65</td>\n",
       "    </tr>\n",
       "    <tr>\n",
       "      <th>3</th>\n",
       "      <td>Plateau</td>\n",
       "      <td>9067</td>\n",
       "      <td>4</td>\n",
       "      <td>9006</td>\n",
       "      <td>57</td>\n",
       "    </tr>\n",
       "    <tr>\n",
       "      <th>4</th>\n",
       "      <td>Rivers</td>\n",
       "      <td>7335</td>\n",
       "      <td>26</td>\n",
       "      <td>7208</td>\n",
       "      <td>101</td>\n",
       "    </tr>\n",
       "  </tbody>\n",
       "</table>\n",
       "</div>"
      ],
      "text/plain": [
       "  States Affected  No. of Cases (Lab Confirmed)  No. of Cases (on admission)  \\\n",
       "0           Lagos                         59833                          862   \n",
       "1             FCT                         19902                          183   \n",
       "2          Kaduna                          9123                           18   \n",
       "3         Plateau                          9067                            4   \n",
       "4          Rivers                          7335                           26   \n",
       "\n",
       "   No. Discharged  No. of Deaths  \n",
       "0           58515            456  \n",
       "1           19552            167  \n",
       "2            9040             65  \n",
       "3            9006             57  \n",
       "4            7208            101  "
      ]
     },
     "execution_count": 52,
     "metadata": {},
     "output_type": "execute_result"
    }
   ],
   "source": [
    "df.head()"
   ]
  },
  {
   "cell_type": "markdown",
   "metadata": {},
   "source": [
    "### Pie Chart for Confirmed cases, Admitted cases, Discharged cases and Death cases for the first 10 states in the dataframe."
   ]
  },
  {
   "cell_type": "code",
   "execution_count": 86,
   "metadata": {},
   "outputs": [
    {
     "data": {
      "image/png": "[encoded data removed]",
      "text/plain": [
       "<Figure size 1080x720 with 4 Axes>"
      ]
     },
     "metadata": {},
     "output_type": "display_data"
    }
   ],
   "source": [
    "plt.figure(figsize=(15,10))\n",
    "plt.title(\"Main Title\")\n",
    "values = (range(1,5),[\"Confirmed\",\"On Admission\",\"Discharged\",\"Deaths\"],['blue','yellow','green','red'])\n",
    "\n",
    "#Subplot pie chart for Confirmed Cases for the first 10 States in the dataframe.\n",
    "plt.subplot(2,2,1),\n",
    "plt.pie(labels = df[\"States Affected\"][:10],x = df[\"No. of Cases (Lab Confirmed)\"][:10]);\n",
    "central_circle = plt.Circle((0, 0), 0.5, color='white')\n",
    "fig = plt.gcf()\n",
    "fig.gca().add_artist(central_circle)\n",
    "plt.title(\"Confirmed\"),\n",
    "\n",
    "    \n",
    "#Subplot pie chart for Admitted Cases for the first 10 States in the dataframe.\n",
    "plt.subplot(2,2,2),\n",
    "plt.title(\"Admission\"),\n",
    "plt.pie(labels = df[\"States Affected\"][:10],x = df[\"No. of Cases (on admission)\"][:10]);\n",
    "central_circle = plt.Circle((0, 0), 0.5, color='white')\n",
    "fig = plt.gcf()\n",
    "fig.gca().add_artist(central_circle)\n",
    "\n",
    "#Subplot pie chart for Discharged Cases for the first 10 States in the dataframe.\n",
    "plt.subplot(2,2,3),\n",
    "plt.title(\"Discharged\"),\n",
    "plt.pie(labels = df[\"States Affected\"][:10],x = df[\"No. Discharged\"][:10]);\n",
    "central_circle = plt.Circle((0, 0), 0.5, color='white')\n",
    "fig = plt.gcf()\n",
    "fig.gca().add_artist(central_circle);\n",
    "\n",
    "#Subplot pie chart for death for the first 10 States in the dataframe Cases.\n",
    "plt.subplot(2,2,4),\n",
    "plt.title(\"Deaths\"),\n",
    "plt.pie(labels = df[\"States Affected\"][:10],x = df[\"No. of Deaths\"][:10]);\n",
    "central_circle = plt.Circle((0, 0), 0.5, color='white')\n",
    "fig = plt.gcf()\n",
    "fig.gca().add_artist(central_circle);\n",
    "\n",
    "\n",
    "    #for covid 19 data"
   ]
  },
  {
   "cell_type": "markdown",
   "metadata": {},
   "source": [
    "These pie chart representations give a clearer understanding of the states leading in Confirmed cases, discharged cases, admitted cases and Death related cases. We can clearly see that Lagos is leading in all cases, followed by Abuja."
   ]
  },
  {
   "cell_type": "markdown",
   "metadata": {},
   "source": [
    "## Conclusion & Recommendation\n",
    "\n",
    "COVID 19 is still very much present in Nigeria. There has been a decline in the number of cases worldwide but it is good and neccesary for us to keep up with how well we have tackled the pandemic by critically considering and analysing the data generated daily from the COVID-19 virus. This will help us to know which areas/locations to focus on and also determine which location we should deploy more health workers and vaccines. Studying COVID-19 also helps us know which locations to reduce the level of lockdown. This is what we have tried to achieve in this notebook by first extracting the COVID-19 data for Nigerian states from NCDC web, Cleaning the data and performing Exploratory Data visualization to understand the data. Further work can be done in this regard, by building a system that scraps COVID-19 data and automatically build a dashboard of data visualization for people to easily understand and capture insights from the data."
   ]
  },
  {
   "cell_type": "code",
   "execution_count": null,
   "metadata": {},
   "outputs": [],
   "source": []
  }
 ],
 "metadata": {
  "kernelspec": {
   "display_name": "Python 3",
   "language": "python",
   "name": "python3"
  },
  "language_info": {
   "codemirror_mode": {
    "name": "ipython",
    "version": 3
   },
   "file_extension": ".py",
   "mimetype": "text/x-python",
   "name": "python",
   "nbconvert_exporter": "python",
   "pygments_lexer": "ipython3",
   "version": "3.8.3"
  }
 },
 "nbformat": 4,
 "nbformat_minor": 4
}
